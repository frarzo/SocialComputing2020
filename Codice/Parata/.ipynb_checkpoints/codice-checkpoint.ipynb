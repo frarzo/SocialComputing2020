{
 "cells": [
  {
   "cell_type": "code",
   "execution_count": 41,
   "metadata": {},
   "outputs": [
    {
     "name": "stdout",
     "output_type": "stream",
     "text": [
      "Setup completed!\n"
     ]
    }
   ],
   "source": [
    "import networkx as nx\n",
    "from networkx.algorithms.approximation import clique\n",
    "import pandas as pd\n",
    "import numpy as np\n",
    "import json\n",
    "import matplotlib.pyplot as plt\n",
    "from pylab import rcParams\n",
    "from pyvis.network import Network\n",
    "import itertools \n",
    "from scipy import stats\n",
    "\n",
    "print(\"Setup completed!\")"
   ]
  },
  {
   "cell_type": "code",
   "execution_count": 26,
   "metadata": {},
   "outputs": [],
   "source": [
    "def user_followers_df(user_follower):\n",
    "    #lettura json dell'utente desiderato\n",
    "    with open(user_follower+\"_followers.json\", \"r\", encoding=\"UTF-8\") as read_file:\n",
    "        data = json.load(read_file)\n",
    "    #aggiunta dei nodi\n",
    "    followers_nodes=[]\n",
    "    for result in data[user_follower]:\n",
    "        followers_nodes.append(result)  \n",
    "     #df nodi\n",
    "    df_nodes = pd.DataFrame(followers_nodes)\n",
    "    \n",
    "    #aggiunta degli archi\n",
    "    followers_edges = []\n",
    "    for result in data[user_follower]:\n",
    "        result[\"source\"]= result[\"id\"]\n",
    "        result[\"target\"]= user_follower\n",
    "        followers_edges.append(result)\n",
    "    #visualizzazione archi\n",
    "    df_followers = pd.DataFrame(followers_edges)\n",
    "    return df_followers"
   ]
  },
  {
   "cell_type": "code",
   "execution_count": 27,
   "metadata": {},
   "outputs": [
    {
     "ename": "SyntaxError",
     "evalue": "invalid syntax (<ipython-input-27-e1c5ea3db0a4>, line 3)",
     "output_type": "error",
     "traceback": [
      "\u001b[1;36m  File \u001b[1;32m\"<ipython-input-27-e1c5ea3db0a4>\"\u001b[1;36m, line \u001b[1;32m3\u001b[0m\n\u001b[1;33m    with open(user_foll ower+\"_followers.json\", \"r\", encoding=\"UTF-8\") as read_file:\u001b[0m\n\u001b[1;37m                        ^\u001b[0m\n\u001b[1;31mSyntaxError\u001b[0m\u001b[1;31m:\u001b[0m invalid syntax\n"
     ]
    }
   ],
   "source": [
    "def create_node(user_follower):\n",
    "    #lettura json dell'utente desiderato\n",
    "    with open(user_foll ower+\"_followers.json\", \"r\", encoding=\"UTF-8\") as read_file:\n",
    "        data = json.load(read_file)\n",
    "    #aggiunta dei nodi\n",
    "    followers_nodes=[]\n",
    "    for result in data[user_follower]:\n",
    "        followers_nodes.append(result)  \n",
    "    #df_nodi_grafo\n",
    "    df_nodes = pd.DataFrame(followers_nodes)\n",
    "\n",
    "def create_edges(follower): \n",
    "    #aggiunta degli archi\n",
    "    friendships= []\n",
    "    for result in friendship[relationship]\n",
    "        if(result[\"source\"][\"followed_by\"]== \"true\" | result[\"source\"][\"following\"]== \"true\" ):\n",
    "            if(result[\"source\"][\"followed_by\"] == true):\n",
    "                result[\"source\"] = result[\"source\"][\"id\"]\n",
    "                result[\"followed\"] = True\n",
    "            if(result[\"source\"][\"following\"] == true):\n",
    "                result[\"target\"] = result[\"target\"][\"id\"]\n",
    "                result[\"following\"] = True\n",
    "            friendships.append(result)\n",
    "\n",
    "    #visualizzazione archi\n",
    "    df_edges = pd.DataFrame(friendships)\n",
    "    return df_edges"
   ]
  },
  {
   "cell_type": "code",
   "execution_count": 28,
   "metadata": {},
   "outputs": [],
   "source": [
    "def user_following_df(user_following):\n",
    "    with open(user_following+\"_following.json\", \"r\", encoding=\"UTF-8\") as read_file:\n",
    "        data = json.load(read_file)\n",
    "    #aggiunta dei nodi following\n",
    "    following_nodes=[]\n",
    "    for result in data[user_following]:\n",
    "        following_nodes.append(result) \n",
    "    #crea il df\n",
    "    df_following_nodes = pd.DataFrame(following_nodes)\n",
    "    \n",
    "    #aggiunta degli archi\n",
    "    following_edges = []\n",
    "    for result in data[user_following]:\n",
    "        result[\"source\"]= user_following\n",
    "        result[\"target\"]= result[\"id\"]\n",
    "        following_edges.append(result)\n",
    "    \n",
    "    #visualizzazione archi\n",
    "    df_following = pd.DataFrame(following_edges)\n",
    "    return df_following"
   ]
  },
  {
   "cell_type": "code",
   "execution_count": 29,
   "metadata": {},
   "outputs": [],
   "source": [
    "def following_graph(df_following):\n",
    "    #creazione grafo dei follower ed aggiunta dei nodi\n",
    "    following_graph = nx.DiGraph(team=\"Loris Parata 144338, Francesco Arzon , Lorenzo, Matteo Galvan\")\n",
    "    for index,row in df_following.iterrows():\n",
    "            following_graph.add_node(row[\"id\"],\n",
    "                           id= row[\"id\"],\n",
    "                           title= row[\"name\"],\n",
    "                           color =\"#ffff00\",\n",
    "                           physics=False,\n",
    "                           name=row['name'],\n",
    "                           screen_name=row['screen_name'],\n",
    "                           location=row['location']\n",
    "                           )            \n",
    "#,\n",
    "#                           followers_count=row[\"followers_count\"],\n",
    "#                           following_count=row[\"following_count\"],\n",
    "#                           numbero_of_twitts=row[\"statuses_count\"]\n",
    "    #aggiunta degli archi al grafo dei follower\n",
    "    for index,row in df_following.iterrows():\n",
    "        following_graph.add_edge(row[\"source\"],row['target'],physics=False )\n",
    "    return following_graph"
   ]
  },
  {
   "cell_type": "code",
   "execution_count": 30,
   "metadata": {},
   "outputs": [],
   "source": [
    "def disegna_grafo(grafo):\n",
    "    nt = Network(\n",
    "        height =\"50%\",\n",
    "        width = \"50%\",\n",
    "        bgcolor=\"#222222\",\n",
    "        font_color=\"white\",\n",
    "        heading= grafo,\n",
    "        directed=True,\n",
    "    )\n",
    "\n",
    "    nt.from_nx(grafo)\n",
    "    nt.barnes_hut()\n",
    "   # nt.set_edge_smooth(\"continuous\")\n",
    "    neighbor_map = nt.get_adj_list()\n",
    "    \n",
    "    for node in nt.nodes:\n",
    "            node[\"value\"] = len(neighbor_map[node[\"id\"]])\n",
    "           # print(str(node[\"id\"])+\":\"+ str(node[\"value\"]))\n",
    "         \n",
    "    nt.show(\"grafo.html\")"
   ]
  },
  {
   "cell_type": "code",
   "execution_count": 31,
   "metadata": {},
   "outputs": [],
   "source": [
    "def dataframe_user(df_follower,df_following):\n",
    "    df_1= df_follower\n",
    "    df_2= df_following\n",
    "    frames= [df_1,df_2]\n",
    "    df_user = pd.concat(frames)\n",
    "    return df_user"
   ]
  },
  {
   "cell_type": "code",
   "execution_count": 32,
   "metadata": {},
   "outputs": [],
   "source": [
    "#funzioni aggregate\n",
    "def users_dfs(usernames):\n",
    "    columns=['id','name','screen_name','location']  \n",
    "    users_dfs = pd.DataFrame(columns=columns)\n",
    "    for user in usernames:\n",
    "        df_follower=user_followers_df(user)\n",
    "        df_following=user_following_df(user)\n",
    "        df_user=dataframe_user(df_follower,df_following)\n",
    "        users_dfs=dataframe_user(users_dfs,df_user)\n",
    "        \n",
    "    return users_dfs"
   ]
  },
  {
   "cell_type": "code",
   "execution_count": 33,
   "metadata": {},
   "outputs": [
    {
     "data": {
      "text/plain": [
       "4170"
      ]
     },
     "execution_count": 33,
     "metadata": {},
     "output_type": "execute_result"
    }
   ],
   "source": [
    "usernames=[\"miccighel_\",\"mizzaro\",\"damiano10\",\"eglu81\",\"KevinRoitero\"]\n",
    "df= users_dfs(usernames)\n",
    "twitter_graph=following_graph(df)\n",
    "#print(fg.nodes().data())\n",
    "twitter_graph.number_of_edges()\n",
    "#disegna_grafo(following_graph(df.loc[df['id'] == 1527461]))\n",
    "#disegna_grafo(fg)\n",
    "\n"
   ]
  },
  {
   "cell_type": "code",
   "execution_count": 70,
   "metadata": {},
   "outputs": [
    {
     "ename": "TypeError",
     "evalue": "string indices must be integers",
     "output_type": "error",
     "traceback": [
      "\u001b[1;31m---------------------------------------------------------------------------\u001b[0m",
      "\u001b[1;31mTypeError\u001b[0m                                 Traceback (most recent call last)",
      "\u001b[1;32m<ipython-input-70-861766b7b845>\u001b[0m in \u001b[0;36m<module>\u001b[1;34m\u001b[0m\n\u001b[0;32m     39\u001b[0m     \u001b[1;32mfor\u001b[0m \u001b[0mparam_2\u001b[0m \u001b[1;32min\u001b[0m \u001b[0mcentralita_df\u001b[0m\u001b[1;33m:\u001b[0m\u001b[1;33m\u001b[0m\u001b[1;33m\u001b[0m\u001b[0m\n\u001b[0;32m     40\u001b[0m         \u001b[1;32mif\u001b[0m\u001b[1;33m(\u001b[0m\u001b[0mparam_1\u001b[0m\u001b[1;33m[\u001b[0m\u001b[1;36m0\u001b[0m\u001b[1;33m]\u001b[0m \u001b[1;33m!=\u001b[0m \u001b[0mparam_2\u001b[0m\u001b[1;33m[\u001b[0m\u001b[1;36m0\u001b[0m\u001b[1;33m]\u001b[0m\u001b[1;33m)\u001b[0m\u001b[1;33m:\u001b[0m\u001b[1;33m\u001b[0m\u001b[1;33m\u001b[0m\u001b[0m\n\u001b[1;32m---> 41\u001b[1;33m             \u001b[0mresult\u001b[0m\u001b[1;33m[\u001b[0m\u001b[1;34m\"name_1\"\u001b[0m\u001b[1;33m]\u001b[0m\u001b[1;33m=\u001b[0m\u001b[0mparam_1\u001b[0m\u001b[1;33m[\u001b[0m\u001b[1;34m\"name\"\u001b[0m\u001b[1;33m]\u001b[0m\u001b[1;33m\u001b[0m\u001b[1;33m\u001b[0m\u001b[0m\n\u001b[0m\u001b[0;32m     42\u001b[0m             \u001b[0mresult\u001b[0m\u001b[1;33m[\u001b[0m\u001b[1;34m\"name_2\"\u001b[0m\u001b[1;33m]\u001b[0m\u001b[1;33m=\u001b[0m\u001b[0mparam_2\u001b[0m\u001b[1;33m[\u001b[0m\u001b[1;34m\"name\"\u001b[0m\u001b[1;33m]\u001b[0m\u001b[1;33m\u001b[0m\u001b[1;33m\u001b[0m\u001b[0m\n\u001b[0;32m     43\u001b[0m             \u001b[0mresult\u001b[0m\u001b[1;33m[\u001b[0m\u001b[1;34m\"param_1\"\u001b[0m\u001b[1;33m]\u001b[0m\u001b[1;33m=\u001b[0m \u001b[0mnp\u001b[0m\u001b[1;33m.\u001b[0m\u001b[0marray\u001b[0m\u001b[1;33m(\u001b[0m\u001b[0mlist\u001b[0m\u001b[1;33m(\u001b[0m\u001b[0mparam_1\u001b[0m\u001b[1;33m.\u001b[0m\u001b[0mvalues\u001b[0m\u001b[1;33m(\u001b[0m\u001b[1;33m)\u001b[0m\u001b[1;33m)\u001b[0m\u001b[1;33m,\u001b[0m \u001b[0mdtype\u001b[0m\u001b[1;33m=\u001b[0m\u001b[0mfloat\u001b[0m\u001b[1;33m)\u001b[0m\u001b[1;33m\u001b[0m\u001b[1;33m\u001b[0m\u001b[0m\n",
      "\u001b[1;31mTypeError\u001b[0m: string indices must be integers"
     ]
    }
   ],
   "source": [
    "twitter_graph= nx.to_undirected(twitter_graph)\n",
    "#nx.is_connected(twitter_graph)\n",
    "#nx.is_bipartite(twitter_graph)\n",
    "\n",
    "#8 Distanze sul grafo\n",
    "#centro = nx.center(twitter_graph)\n",
    "#print(centro)\n",
    "#diametro = nx.diameter(twitter_graph)\n",
    "#print(diametro)\n",
    "#raggio = nx.radius(twitter_graph)\n",
    "#print(raggio)\n",
    "\n",
    "#9 Misure di centralità sul grafo\n",
    "#btw_centrality = nx.betweenness_centrality(twitter_graph)\n",
    "#print(btw_centrality)\n",
    "#cls_centrality = nx.closeness_centrality(twitter_graph)\n",
    "#print(cls_centralitu)\n",
    "#dg_centrality = nx.degree_centrality(twitter_graph)\n",
    "#print(dg_centrality)\n",
    "#twitter_graph= nx.to_directed(twitter_graph)\n",
    "#in_centrality= nx.in_degree_centrality(twitter_graph)\n",
    "#print(in_centrality)\n",
    "#out_centrality= nx.out_degree_centrality(twitter_graph)\n",
    "columns=[\"name\",\"value\"]\n",
    "centralita_df = pd.DataFrame(columns=columns)\n",
    "value= [\"btw_centrality\",btw_centrality]\n",
    "centralita_df.add(value)\n",
    "value= [\"cls_centrality\",cls_centrality]\n",
    "centralita_df.add(value)\n",
    "value= [\"dg_centrality\",dg_centrality]\n",
    "centralita_df.add(value)\n",
    "value= [\"in_centrality\",in_centrality]\n",
    "centralita_df.add(value)\n",
    "value= [\"out_centrality\",out_centrality]\n",
    "centralita_df.add(value)\n",
    "\n",
    "result=[]\n",
    "for param_1 in centralita_df:\n",
    "    for param_2 in centralita_df:\n",
    "        if(param_1[0] != param_2[0]):\n",
    "            result[\"name_1\"]=param_1[0]\n",
    "            result[\"name_2\"]=param_2[0]\n",
    "            result[\"param_1\"]= np.array(list(param_1[1].values()), dtype=float)\n",
    "            result[\"param_2\"]= np.array(list(param_2[1].values()), dtype=float)\n",
    "            result[\"pearson\"]= stats.pearsonr(result[\"param_1\"],result[\"param_2\"])\n",
    "            result.add()\n",
    "\n",
    "print(result)\n",
    "#tau, p_value= stats.kendalltau(undirect_centralities,direct_centralities)\n",
    "#print( kendall_correlation )\n",
    "#print(out_centrality)\n",
    "#pagerank= nx.pagerank(twitter_graph)\n",
    "#pagerank=sorted(pagerank.items(),key=lambda x:x[1],reverse=True)\n",
    "#centralities= [btw_centrality,cls_centrality,dg_centrality,in_centrality,out_centrality]\n",
    "#print(pagerank[:5])\n",
    "\n",
    "#hits= nx.hits(twitter_graph)\n",
    "#hits_hubs=hits[0]\n",
    "#hits_hub= sorted(hits_hubs.items(),key=lambda x:x[1],reverse=True)\n",
    "#print(hits_hub[:5])\n",
    "\n",
    "#hits_authorities=hits[1]\n",
    "#hits_authorities=sorted(hits_authorities.items(),key=lambda x:x[1],reverse=True)\n",
    "#print(hits_authorities[:5])\n",
    "\n",
    "#Sottografo del nodo damiano10\n",
    "#sub_graph_damiano10 = nx.ego_graph(twitter_graph, \"damiano10\")\n",
    "#disegna_grafo(sub_graph_damiano10)\n",
    "#print(help(nx.clique))\n",
    "#clique.max_clique(sub_graph_damiano10)\n",
    "#print(nx.large_clique_size(sub_graph_damiano10))\n",
    "\n",
    "\n",
    "#11 copertua minima degli archi\n",
    "#nx.min_edge_cover(twitter_graph)\n",
    "\n",
    "#12 Small-world-ness\n",
    "#nx.omega(twitter_graph)\n",
    "#nx.sigma(twitter_graph)"
   ]
  }
 ],
 "metadata": {
  "kernelspec": {
   "display_name": "Python 3",
   "language": "python",
   "name": "python3"
  },
  "language_info": {
   "codemirror_mode": {
    "name": "ipython",
    "version": 3
   },
   "file_extension": ".py",
   "mimetype": "text/x-python",
   "name": "python",
   "nbconvert_exporter": "python",
   "pygments_lexer": "ipython3",
   "version": "3.8.5"
  }
 },
 "nbformat": 4,
 "nbformat_minor": 4
}
