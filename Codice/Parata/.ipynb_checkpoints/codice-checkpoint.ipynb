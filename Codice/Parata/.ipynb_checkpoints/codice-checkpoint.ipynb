{
 "cells": [
  {
   "cell_type": "code",
   "execution_count": 74,
   "metadata": {},
   "outputs": [
    {
     "name": "stdout",
     "output_type": "stream",
     "text": [
      "Setup completed!\n"
     ]
    },
    {
     "ename": "NameError",
     "evalue": "name 'edges' is not defined",
     "output_type": "error",
     "traceback": [
      "\u001b[1;31m---------------------------------------------------------------------------\u001b[0m",
      "\u001b[1;31mNameError\u001b[0m                                 Traceback (most recent call last)",
      "\u001b[1;32m<ipython-input-74-687326120e29>\u001b[0m in \u001b[0;36m<module>\u001b[1;34m\u001b[0m\n\u001b[0;32m     13\u001b[0m \u001b[1;33m\u001b[0m\u001b[0m\n\u001b[0;32m     14\u001b[0m options = {\n\u001b[1;32m---> 15\u001b[1;33m   edges:{\n\u001b[0m\u001b[0;32m     16\u001b[0m     \u001b[0marrows\u001b[0m\u001b[1;33m:\u001b[0m \u001b[1;34m'to, from'\u001b[0m\u001b[1;33m,\u001b[0m\u001b[1;33m\u001b[0m\u001b[1;33m\u001b[0m\u001b[0m\n\u001b[0;32m     17\u001b[0m     \u001b[0mcolor\u001b[0m\u001b[1;33m:\u001b[0m \u001b[1;34m'red'\u001b[0m\u001b[1;33m,\u001b[0m\u001b[1;33m\u001b[0m\u001b[1;33m\u001b[0m\u001b[0m\n",
      "\u001b[1;31mNameError\u001b[0m: name 'edges' is not defined"
     ]
    }
   ],
   "source": [
    "import networkx as nx\n",
    "import pandas as pd\n",
    "import numpy as np\n",
    "import json\n",
    "import matplotlib.pyplot as plt\n",
    "from pylab import rcParams\n",
    "from pyvis.network import Network\n",
    "\n",
    "\n",
    "\n",
    "print(\"Setup completed!\")"
   ]
  },
  {
   "cell_type": "code",
   "execution_count": 3,
   "metadata": {},
   "outputs": [],
   "source": [
    "def user_followers_df(user_follower):\n",
    "    #lettura json dell'utente desiderato\n",
    "    with open(user_follower+\"_followers.json\", \"r\", encoding=\"UTF-8\") as read_file:\n",
    "        data = json.load(read_file)\n",
    "    #aggiunta dei nodi\n",
    "    followers_nodes=[]\n",
    "    for result in data[user_follower]:\n",
    "        followers_nodes.append(result)  \n",
    "     #df nodi\n",
    "    df_nodes = pd.DataFrame(followers_nodes)\n",
    "    \n",
    "    #aggiunta degli archi\n",
    "    followers_edges = []\n",
    "    for result in data[user_follower]:\n",
    "        result[\"source\"]= result[\"id\"]\n",
    "        result[\"target\"]= user_follower\n",
    "        followers_edges.append(result)\n",
    "    #visualizzazione archi\n",
    "    df_followers = pd.DataFrame(followers_edges)\n",
    "    return df_followers"
   ]
  },
  {
   "cell_type": "code",
   "execution_count": 4,
   "metadata": {},
   "outputs": [],
   "source": [
    "def user_following_df(user_following):\n",
    "    with open(user_following+\"_following.json\", \"r\", encoding=\"UTF-8\") as read_file:\n",
    "        data = json.load(read_file)\n",
    "    #aggiunta dei nodi following\n",
    "    following_nodes=[]\n",
    "    for result in data[user_following]:\n",
    "        following_nodes.append(result) \n",
    "    #crea il df\n",
    "    df_following_nodes = pd.DataFrame(following_nodes)\n",
    "    \n",
    "    #aggiunta degli archi\n",
    "    following_edges = []\n",
    "    for result in data[user_following]:\n",
    "        result[\"source\"]= user_following\n",
    "        result[\"target\"]= result[\"id\"]\n",
    "        following_edges.append(result)\n",
    "    \n",
    "    #visualizzazione archi\n",
    "    df_following = pd.DataFrame(following_edges)\n",
    "    return df_following"
   ]
  },
  {
   "cell_type": "code",
   "execution_count": 36,
   "metadata": {},
   "outputs": [],
   "source": [
    "def following_graph(df_following):\n",
    "    #creazione grafo dei follower ed aggiunta dei nodi\n",
    "    following_graph = nx.DiGraph()\n",
    "    for index,row in df_following.iterrows():\n",
    "            following_graph.add_node(row[\"id\"],\n",
    "                           id= row[\"id\"],\n",
    "                           title=[row['name']+\"\\n |Screen Name:\"+ row['screen_name']+\" \\n |Location: \"+ row['location']],\n",
    "                           color =\"#ffff00\",\n",
    "                           physics=False \n",
    "                           )            \n",
    "    #aggiunta degli archi al grafo dei follower\n",
    "    for index,row in df_following.iterrows():\n",
    "        following_graph.add_edge(row[\"source\"],row['target'],physics=False )\n",
    "        \n",
    "    return following_graph"
   ]
  },
  {
   "cell_type": "code",
   "execution_count": 79,
   "metadata": {},
   "outputs": [],
   "source": [
    "\n",
    "def disegna_grafo(grafo):\n",
    "    nt = Network(\n",
    "        height =\"50%\",\n",
    "        width = \"50%\",\n",
    "        bgcolor=\"#222222\",\n",
    "        font_color=\"white\",\n",
    "        heading= grafo,\n",
    "        directed=True,\n",
    "        \n",
    "    )\n",
    "    \n",
    "   #nt.barnes_hut()\n",
    "    nt.options ={\n",
    "      \"edges\": {\n",
    "        \"smooth\": {\n",
    "          \"type\": \"curvedCW\",\n",
    "          \"forceDirection\": \"none\",\n",
    "          \"roundness\": 0.1\n",
    "        }\n",
    "      }\n",
    "    }\n",
    "\n",
    "    nt.show_buttons()\n",
    "    nt.from_nx(grafo)\n",
    "    nt.show(\"grafo.html\")\n",
    "\n",
    "    \n",
    "#    neighbor_map = nt.get_adj_list()\n",
    "#    for node in nt.nodes:\n",
    "#        node[\"value\"] = len(neighbor_map[node[\"id\"]])\n"
   ]
  },
  {
   "cell_type": "code",
   "execution_count": 7,
   "metadata": {},
   "outputs": [],
   "source": [
    "def dataframe_user(df_follower,df_following):\n",
    "    df_1= df_follower\n",
    "    df_2= df_following\n",
    "    frames= [df_1,df_2]\n",
    "    df_user = pd.concat(frames)\n",
    "    return df_user"
   ]
  },
  {
   "cell_type": "code",
   "execution_count": 8,
   "metadata": {},
   "outputs": [],
   "source": [
    "#funzioni aggregate\n",
    "def users_dfs(usernames):\n",
    "    columns=['id','name','screen_name','location']  \n",
    "    users_dfs = pd.DataFrame(columns=columns)\n",
    "    for user in usernames:\n",
    "        df_follower=user_followers_df(user)\n",
    "        df_following=user_following_df(user)\n",
    "        df_user=dataframe_user(df_follower,df_following)\n",
    "        users_dfs=dataframe_user(users_dfs,df_user)\n",
    "        \n",
    "    return users_dfs"
   ]
  },
  {
   "cell_type": "code",
   "execution_count": 80,
   "metadata": {},
   "outputs": [
    {
     "name": "stdout",
     "output_type": "stream",
     "text": [
      "2709\n"
     ]
    },
    {
     "ename": "AttributeError",
     "evalue": "'dict' object has no attribute 'edges'",
     "output_type": "error",
     "traceback": [
      "\u001b[1;31m---------------------------------------------------------------------------\u001b[0m",
      "\u001b[1;31mAttributeError\u001b[0m                            Traceback (most recent call last)",
      "\u001b[1;32m<ipython-input-80-83b827801501>\u001b[0m in \u001b[0;36m<module>\u001b[1;34m\u001b[0m\n\u001b[0;32m      4\u001b[0m \u001b[0mprint\u001b[0m\u001b[1;33m(\u001b[0m\u001b[0mfg\u001b[0m\u001b[1;33m.\u001b[0m\u001b[0mnumber_of_nodes\u001b[0m\u001b[1;33m(\u001b[0m\u001b[1;33m)\u001b[0m\u001b[1;33m)\u001b[0m\u001b[1;33m\u001b[0m\u001b[1;33m\u001b[0m\u001b[0m\n\u001b[0;32m      5\u001b[0m \u001b[0mfg\u001b[0m\u001b[1;33m.\u001b[0m\u001b[0mnumber_of_edges\u001b[0m\u001b[1;33m(\u001b[0m\u001b[1;33m)\u001b[0m\u001b[1;33m\u001b[0m\u001b[1;33m\u001b[0m\u001b[0m\n\u001b[1;32m----> 6\u001b[1;33m \u001b[0mdisegna_grafo\u001b[0m\u001b[1;33m(\u001b[0m\u001b[0mfollowing_graph\u001b[0m\u001b[1;33m(\u001b[0m\u001b[0mdf\u001b[0m\u001b[1;33m.\u001b[0m\u001b[0mloc\u001b[0m\u001b[1;33m[\u001b[0m\u001b[0mdf\u001b[0m\u001b[1;33m[\u001b[0m\u001b[1;34m'id'\u001b[0m\u001b[1;33m]\u001b[0m \u001b[1;33m==\u001b[0m \u001b[1;36m1527461\u001b[0m\u001b[1;33m]\u001b[0m\u001b[1;33m)\u001b[0m\u001b[1;33m)\u001b[0m\u001b[1;33m\u001b[0m\u001b[1;33m\u001b[0m\u001b[0m\n\u001b[0m\u001b[0;32m      7\u001b[0m \u001b[1;31m#disegna_grafo(fg)\u001b[0m\u001b[1;33m\u001b[0m\u001b[1;33m\u001b[0m\u001b[1;33m\u001b[0m\u001b[0m\n",
      "\u001b[1;32m<ipython-input-79-84a97c674e33>\u001b[0m in \u001b[0;36mdisegna_grafo\u001b[1;34m(grafo)\u001b[0m\n\u001b[0;32m     20\u001b[0m       }\n\u001b[0;32m     21\u001b[0m     }\n\u001b[1;32m---> 22\u001b[1;33m     \u001b[0mnt\u001b[0m\u001b[1;33m.\u001b[0m\u001b[0mset_edge_smooth\u001b[0m\u001b[1;33m(\u001b[0m\u001b[1;34m\"curvedCW\"\u001b[0m\u001b[1;33m)\u001b[0m\u001b[1;33m\u001b[0m\u001b[1;33m\u001b[0m\u001b[0m\n\u001b[0m\u001b[0;32m     23\u001b[0m     \u001b[0mnt\u001b[0m\u001b[1;33m.\u001b[0m\u001b[0msmooth\u001b[0m\u001b[1;33m.\u001b[0m\u001b[0mroundness\u001b[0m\u001b[1;33m(\u001b[0m\u001b[1;36m0.1\u001b[0m\u001b[1;33m)\u001b[0m\u001b[1;33m\u001b[0m\u001b[1;33m\u001b[0m\u001b[0m\n\u001b[0;32m     24\u001b[0m     \u001b[0mnt\u001b[0m\u001b[1;33m.\u001b[0m\u001b[0mshow_buttons\u001b[0m\u001b[1;33m(\u001b[0m\u001b[1;33m)\u001b[0m\u001b[1;33m\u001b[0m\u001b[1;33m\u001b[0m\u001b[0m\n",
      "\u001b[1;32m~\\miniconda3\\lib\\site-packages\\pyvis\\network.py\u001b[0m in \u001b[0;36mset_edge_smooth\u001b[1;34m(self, smooth_type)\u001b[0m\n\u001b[0;32m    789\u001b[0m         \u001b[1;33m:\u001b[0m\u001b[0mtype\u001b[0m \u001b[0msmooth_type\u001b[0m\u001b[1;33m:\u001b[0m \u001b[0mstring\u001b[0m\u001b[1;33m\u001b[0m\u001b[1;33m\u001b[0m\u001b[0m\n\u001b[0;32m    790\u001b[0m         \"\"\"\n\u001b[1;32m--> 791\u001b[1;33m         \u001b[0mself\u001b[0m\u001b[1;33m.\u001b[0m\u001b[0moptions\u001b[0m\u001b[1;33m.\u001b[0m\u001b[0medges\u001b[0m\u001b[1;33m.\u001b[0m\u001b[0msmooth\u001b[0m\u001b[1;33m.\u001b[0m\u001b[0menabled\u001b[0m \u001b[1;33m=\u001b[0m \u001b[1;32mTrue\u001b[0m\u001b[1;33m\u001b[0m\u001b[1;33m\u001b[0m\u001b[0m\n\u001b[0m\u001b[0;32m    792\u001b[0m         \u001b[0mself\u001b[0m\u001b[1;33m.\u001b[0m\u001b[0moptions\u001b[0m\u001b[1;33m.\u001b[0m\u001b[0medges\u001b[0m\u001b[1;33m.\u001b[0m\u001b[0msmooth\u001b[0m\u001b[1;33m.\u001b[0m\u001b[0mtype\u001b[0m \u001b[1;33m=\u001b[0m \u001b[0msmooth_type\u001b[0m\u001b[1;33m\u001b[0m\u001b[1;33m\u001b[0m\u001b[0m\n\u001b[0;32m    793\u001b[0m \u001b[1;33m\u001b[0m\u001b[0m\n",
      "\u001b[1;31mAttributeError\u001b[0m: 'dict' object has no attribute 'edges'"
     ]
    }
   ],
   "source": [
    "\n",
    "usernames=[\"miccighel_\",\"mizzaro\",\"damiano10\",\"eglu81\",\"KevinRoitero\"]\n",
    "df= users_dfs(usernames)\n",
    "fg=following_graph(df)\n",
    "print(fg.number_of_nodes())\n",
    "fg.number_of_edges()\n",
    "disegna_grafo(following_graph(df.loc[df['id'] == 1527461]))\n",
    "#disegna_grafo(fg)"
   ]
  }
 ],
 "metadata": {
  "kernelspec": {
   "display_name": "Python 3",
   "language": "python",
   "name": "python3"
  },
  "language_info": {
   "codemirror_mode": {
    "name": "ipython",
    "version": 3
   },
   "file_extension": ".py",
   "mimetype": "text/x-python",
   "name": "python",
   "nbconvert_exporter": "python",
   "pygments_lexer": "ipython3",
   "version": "3.8.5"
  }
 },
 "nbformat": 4,
 "nbformat_minor": 4
}
