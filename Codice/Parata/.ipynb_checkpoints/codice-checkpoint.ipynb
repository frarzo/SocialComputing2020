{
 "cells": [
  {
   "cell_type": "code",
   "execution_count": 1,
   "metadata": {},
   "outputs": [
    {
     "name": "stdout",
     "output_type": "stream",
     "text": [
      "Setup completed!\n"
     ]
    }
   ],
   "source": [
    "import networkx as nx\n",
    "import pandas as pd\n",
    "import numpy as np\n",
    "import json\n",
    "import matplotlib.pyplot as plt\n",
    "from pylab import rcParams\n",
    "from pyvis.network import Network\n",
    "\n",
    "print(\"Setup completed!\")\n"
   ]
  },
  {
   "cell_type": "code",
   "execution_count": 2,
   "metadata": {},
   "outputs": [],
   "source": [
    "def user_followers_df(user_follower):\n",
    "    #lettura json dell'utente desiderato\n",
    "    with open(user_follower+\"_followers.json\", \"r\", encoding=\"UTF-8\") as read_file:\n",
    "        data = json.load(read_file)\n",
    "    #aggiunta dei nodi\n",
    "    followers_nodes=[]\n",
    "    for result in data[user_follower]:\n",
    "        followers_nodes.append(result)  \n",
    "     #df nodi\n",
    "    df_nodes = pd.DataFrame(followers_nodes)\n",
    "    \n",
    "    #aggiunta degli archi\n",
    "    followers_edges = []\n",
    "    for result in data[user_follower]:\n",
    "        result[\"source\"]= result[\"id\"]\n",
    "        result[\"target\"]= user_follower\n",
    "        followers_edges.append(result)\n",
    "    #visualizzazione archi\n",
    "    df_followers = pd.DataFrame(followers_edges)\n",
    "    return df_followers"
   ]
  },
  {
   "cell_type": "code",
   "execution_count": 3,
   "metadata": {},
   "outputs": [],
   "source": [
    "def user_following_df(user_following):\n",
    "    with open(user_following+\"_following.json\", \"r\", encoding=\"UTF-8\") as read_file:\n",
    "        data = json.load(read_file)\n",
    "    #aggiunta dei nodi following\n",
    "    following_nodes=[]\n",
    "    for result in data[user_following]:\n",
    "        following_nodes.append(result) \n",
    "    #crea il df\n",
    "    df_following_nodes = pd.DataFrame(following_nodes)\n",
    "    \n",
    "    #aggiunta degli archi\n",
    "    following_edges = []\n",
    "    for result in data[user_following]:\n",
    "        result[\"source\"]= user_following\n",
    "        result[\"target\"]= result[\"id\"]\n",
    "        following_edges.append(result)\n",
    "    \n",
    "    #visualizzazione archi\n",
    "    df_following = pd.DataFrame(following_edges)\n",
    "    return df_following"
   ]
  },
  {
   "cell_type": "code",
   "execution_count": 4,
   "metadata": {},
   "outputs": [],
   "source": [
    "def dataframe_user(df_follower,df_following):\n",
    "    df_1= df_follower\n",
    "    df_2= df_following\n",
    "    frames= [df_1,df_2]\n",
    "    df_user = pd.concat(frames)\n",
    "    return df_user"
   ]
  },
  {
   "cell_type": "code",
   "execution_count": 28,
   "metadata": {},
   "outputs": [],
   "source": [
    "def follower_graph(df_followers):\n",
    "    #creazione grafo dei follower ed aggiunta dei nodi\n",
    "    follower_graph = nx.DiGraph()\n",
    "    for index,row in df_followers.iterrows():\n",
    "            follower_graph.add_node(row[\"id\"],\n",
    "                           id= row[\"id\"],\n",
    "                           title=[row['name']+\" \\n |Screen Name:\"+ row['screen_name']+\" \\n |Location: \"+ row['location']],\n",
    "                           color =\"#2e00ff\"\n",
    "                           )            \n",
    "    #aggiunta degli archi al grafo dei follower\n",
    "    for index,row in df_followers.iterrows():\n",
    "        follower_graph.add_edge(row[\"id\"],row['target'])\n",
    "        \n",
    "    return follower_graph"
   ]
  },
  {
   "cell_type": "code",
   "execution_count": 35,
   "metadata": {},
   "outputs": [],
   "source": [
    "def following_graph(df_following):\n",
    "    #creazione grafo dei follower ed aggiunta dei nodi\n",
    "    following_graph = nx.DiGraph()\n",
    "    for index,row in df_following.iterrows():\n",
    "            following_graph.add_node(row[\"id\"],\n",
    "                           id= row[\"id\"],\n",
    "                           title=[row['name']+\"\\n |Screen Name:\"+ row['screen_name']+\" \\n |Location: \"+ row['location']],\n",
    "                           color =\"#ffff00\"\n",
    "                           )            \n",
    "    #aggiunta degli archi al grafo dei follower\n",
    "    for index,row in df_following.iterrows():\n",
    "        following_graph.add_edge(row[\"source\"],row['target'])\n",
    "        \n",
    "    return following_graph"
   ]
  },
  {
   "cell_type": "code",
   "execution_count": 62,
   "metadata": {},
   "outputs": [],
   "source": [
    "def disegna_grafo(grafo):\n",
    "    nt = Network(\n",
    "        height =\"100%\",\n",
    "        width = \"100%\",\n",
    "        bgcolor=\"#222222\",\n",
    "        font_color=\"white\",\n",
    "        heading= grafo,\n",
    "        directed=True\n",
    "    )\n",
    "    #nt.set_options()\n",
    "    nt.show_buttons(filter_=['edges'])\n",
    "    nt.barnes_hut()\n",
    "    nt.from_nx(grafo)\n",
    "   \n",
    "    \n",
    "#    neighbor_map = nt.get_adj_list()\n",
    "#    for node in nt.nodes:\n",
    "#        node[\"value\"] = len(neighbor_map[node[\"id\"]])\n"
   ]
  },
  {
   "cell_type": "code",
   "execution_count": 63,
   "metadata": {},
   "outputs": [],
   "source": [
    "#main\n",
    "df_1= user_followers_df(\"mizzaro\")\n",
    "#print(df_1)\n",
    "df_2= user_following_df(\"mizzaro\")\n",
    "#print(df_2)\n",
    "df_3= dataframe_user(df_1,df_2)\n",
    "#print(df_3)\n",
    "#disegna_grafo(follower_graph(df_1))\n",
    "#disegna_grafo(following_graph(df_2))\n",
    "#disegna_grafo(following_graph(df_3))\n",
    "#print(df_3.sort_values(\"id\")) \n",
    "\n",
    "\n",
    "disegna_grafo(following_graph(df_3.loc[df_3['id'] == 1527461]))\n",
    "\n"
   ]
  },
  {
   "cell_type": "code",
   "execution_count": null,
   "metadata": {},
   "outputs": [],
   "source": []
  }
 ],
 "metadata": {
  "kernelspec": {
   "display_name": "Python 3",
   "language": "python",
   "name": "python3"
  },
  "language_info": {
   "codemirror_mode": {
    "name": "ipython",
    "version": 3
   },
   "file_extension": ".py",
   "mimetype": "text/x-python",
   "name": "python",
   "nbconvert_exporter": "python",
   "pygments_lexer": "ipython3",
   "version": "3.8.5"
  }
 },
 "nbformat": 4,
 "nbformat_minor": 4
}
