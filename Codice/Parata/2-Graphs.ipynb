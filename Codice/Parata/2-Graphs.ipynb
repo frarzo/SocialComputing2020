{
 "cells": [
  {
   "cell_type": "code",
   "execution_count": 3,
   "metadata": {},
   "outputs": [
    {
     "name": "stdout",
     "output_type": "stream",
     "text": [
      "Setup completed!\n"
     ]
    }
   ],
   "source": [
    "import networkx as nx\n",
    "import pandas as pd\n",
    "import numpy as np\n",
    "import json\n",
    "import matplotlib.pyplot as plt\n",
    "from pylab import rcParams\n",
    "from pyvis.network import Network\n",
    "\n",
    "print(\"Setup completed!\")\n"
   ]
  },
  {
   "cell_type": "code",
   "execution_count": 122,
   "metadata": {},
   "outputs": [],
   "source": [
    "def user_followers_df(user_follower):\n",
    "    #lettura json dell'utente desiderato\n",
    "    with open(user_follower+\"_followers.json\", \"r\", encoding=\"UTF-8\") as read_file:\n",
    "        data = json.load(read_file)\n",
    "    #aggiunta dei nodi\n",
    "    followers_nodes=[]\n",
    "    for result in data[user_follower]:\n",
    "        followers_nodes.append(result)  \n",
    "     #visualizzazione nodi\n",
    "    df_nodes = pd.DataFrame(followers_nodes)\n",
    "    display(df_nodes)\n",
    "    \n",
    "    #aggiunta degli archi\n",
    "    followers_edges = []\n",
    "    for result in data[user_follower]:\n",
    "        result[\"target\"]= user_follower\n",
    "        followers_edges.append(result)\n",
    "    #visualizzazione archi\n",
    "    df_edges = pd.DataFrame(followers_edges)\n",
    "    return df_edges"
   ]
  },
  {
   "cell_type": "code",
   "execution_count": 120,
   "metadata": {},
   "outputs": [],
   "source": [
    "def follower_graph(id):\n",
    "    #creazione grafo dei follower ed aggiunta dei nodi\n",
    "    follower_graph = nx.DiGraph()\n",
    "    for index,row in df_nodes.iterrows():\n",
    "            follower_graph.add_node(row[\"id\"],\n",
    "                           id= row[\"id\"],\n",
    "                           title=[row['name']+\"\\n\"+ row['screen_name']+\"\\n\"+ row['location']],\n",
    "                           color =\"#2e00ff\"\n",
    "                           )            \n",
    "    #aggiunta degli archi al grafo dei follower\n",
    "    for index,row in df.iterrows():\n",
    "        follower_graph.add_edge(row[\"id\"],row['target'])"
   ]
  },
  {
   "cell_type": "code",
   "execution_count": null,
   "metadata": {},
   "outputs": [],
   "source": [
    "def following_graph(id):\n",
    "    #creazione grafo dei follower ed aggiunta dei nodi\n",
    "    follower_graph = nx.DiGraph()\n",
    "    for index,row in df_nodes.iterrows():\n",
    "            follower_graph.add_node(row[\"id\"],\n",
    "                           id= row[\"id\"],\n",
    "                           title=[row['name']+\"\\n\"+ row['screen_name']+\"\\n\"+ row['location']],\n",
    "                           color =\"#ff0000\"\n",
    "                           )            \n",
    "    #aggiunta degli archi al grafo dei follower\n",
    "    for index,row in df.iterrows():\n",
    "        follower_graph.add_edge(row[\"id\"],row['target'])"
   ]
  },
  {
   "cell_type": "code",
   "execution_count": null,
   "metadata": {},
   "outputs": [],
   "source": [
    "def disegna_grafo(grafo):\n",
    "    nt = Network(\n",
    "        height =\"100%\",\n",
    "        width = \"100%\",\n",
    "        bgcolor=\"#222222\",\n",
    "        font_color=\"white\",\n",
    "        heading= grafo,\n",
    "        directed=True\n",
    "    )\n",
    "    nt.barnes_hut()\n",
    "    nt.from_nx(grafo)\n",
    "    \n",
    "    neighbor_map = nt.get_adj_list()\n",
    "    for node in nt.nodes:\n",
    "        node[\"title\"] += \" Neighbors:<br>\" + \"<br>\".join(neighbor_map[node[\"id\"]])\n",
    "        node[\"value\"] = len(neighbor_map[node[\"id\"]])\n",
    "    \n",
    "    nt.show(\"grafo.html\")"
   ]
  },
  {
   "cell_type": "code",
   "execution_count": 103,
   "metadata": {},
   "outputs": [],
   "source": [
    "def user_following_df(user_following):\n",
    "    with open(user_following+\".json\", \"r\", encoding=\"UTF-8\") as read_file:\n",
    "        data = json.load(read_file)\n",
    "    #print(data)\n",
    "    following=[]\n",
    "    for result in data[user_following]:\n",
    "        result[\"source\"]= user_following\n",
    "        result[\"target\"]= result[\"id\"]\n",
    "        result[\"name\"]= result[\"name\"]\n",
    "        result[\"screen_name\"]= result[\"screen_name\"]\n",
    "        result[\"location\"]= result[\"location\"]\n",
    "        following.append(result) \n",
    "\n",
    "    df_following = pd.DataFrame(following)\n",
    "    return df_following"
   ]
  },
  {
   "cell_type": "code",
   "execution_count": null,
   "metadata": {},
   "outputs": [],
   "source": [
    "def dataframe_user(df_follower,df_following):\n",
    "   df_user = pd.concat[df_follower,df_following]\n",
    "    return df_user"
   ]
  },
  {
   "cell_type": "code",
   "execution_count": 37,
   "metadata": {},
   "outputs": [
    {
     "data": {
      "text/plain": [
       "156"
      ]
     },
     "execution_count": 37,
     "metadata": {},
     "output_type": "execute_result"
    }
   ],
   "source": [
    "\n",
    "#prova2[2190533245]\n"
   ]
  },
  {
   "cell_type": "code",
   "execution_count": 49,
   "metadata": {},
   "outputs": [
    {
     "data": {
      "text/html": [
       "<div>\n",
       "<style scoped>\n",
       "    .dataframe tbody tr th:only-of-type {\n",
       "        vertical-align: middle;\n",
       "    }\n",
       "\n",
       "    .dataframe tbody tr th {\n",
       "        vertical-align: top;\n",
       "    }\n",
       "\n",
       "    .dataframe thead th {\n",
       "        text-align: right;\n",
       "    }\n",
       "</style>\n",
       "<table border=\"1\" class=\"dataframe\">\n",
       "  <thead>\n",
       "    <tr style=\"text-align: right;\">\n",
       "      <th></th>\n",
       "      <th>Source</th>\n",
       "      <th>Target</th>\n",
       "      <th>Type</th>\n",
       "      <th>id</th>\n",
       "      <th>weight</th>\n",
       "    </tr>\n",
       "  </thead>\n",
       "  <tbody>\n",
       "    <tr>\n",
       "      <th>0</th>\n",
       "      <td>Addam-Marbrand</td>\n",
       "      <td>Brynden-Tully</td>\n",
       "      <td>Undirected</td>\n",
       "      <td>0</td>\n",
       "      <td>3</td>\n",
       "    </tr>\n",
       "    <tr>\n",
       "      <th>1</th>\n",
       "      <td>Addam-Marbrand</td>\n",
       "      <td>Cersei-Lannister</td>\n",
       "      <td>Undirected</td>\n",
       "      <td>1</td>\n",
       "      <td>3</td>\n",
       "    </tr>\n",
       "    <tr>\n",
       "      <th>2</th>\n",
       "      <td>Addam-Marbrand</td>\n",
       "      <td>Gyles-Rosby</td>\n",
       "      <td>Undirected</td>\n",
       "      <td>2</td>\n",
       "      <td>3</td>\n",
       "    </tr>\n",
       "    <tr>\n",
       "      <th>3</th>\n",
       "      <td>Addam-Marbrand</td>\n",
       "      <td>Jaime-Lannister</td>\n",
       "      <td>Undirected</td>\n",
       "      <td>3</td>\n",
       "      <td>14</td>\n",
       "    </tr>\n",
       "    <tr>\n",
       "      <th>4</th>\n",
       "      <td>Addam-Marbrand</td>\n",
       "      <td>Jalabhar-Xho</td>\n",
       "      <td>Undirected</td>\n",
       "      <td>4</td>\n",
       "      <td>3</td>\n",
       "    </tr>\n",
       "    <tr>\n",
       "      <th>...</th>\n",
       "      <td>...</td>\n",
       "      <td>...</td>\n",
       "      <td>...</td>\n",
       "      <td>...</td>\n",
       "      <td>...</td>\n",
       "    </tr>\n",
       "    <tr>\n",
       "      <th>2818</th>\n",
       "      <td>Walder-Frey-(son-of-Merrett)</td>\n",
       "      <td>Wex-Pyke</td>\n",
       "      <td>Undirected</td>\n",
       "      <td>2818</td>\n",
       "      <td>4</td>\n",
       "    </tr>\n",
       "    <tr>\n",
       "      <th>2819</th>\n",
       "      <td>Waymar-Royce</td>\n",
       "      <td>Will-(prologue)</td>\n",
       "      <td>Undirected</td>\n",
       "      <td>2819</td>\n",
       "      <td>18</td>\n",
       "    </tr>\n",
       "    <tr>\n",
       "      <th>2820</th>\n",
       "      <td>Weasel</td>\n",
       "      <td>Weese</td>\n",
       "      <td>Undirected</td>\n",
       "      <td>2820</td>\n",
       "      <td>6</td>\n",
       "    </tr>\n",
       "    <tr>\n",
       "      <th>2821</th>\n",
       "      <td>Woth</td>\n",
       "      <td>Yoren</td>\n",
       "      <td>Undirected</td>\n",
       "      <td>2821</td>\n",
       "      <td>4</td>\n",
       "    </tr>\n",
       "    <tr>\n",
       "      <th>2822</th>\n",
       "      <td>Yandry</td>\n",
       "      <td>Ysilla</td>\n",
       "      <td>Undirected</td>\n",
       "      <td>2822</td>\n",
       "      <td>14</td>\n",
       "    </tr>\n",
       "  </tbody>\n",
       "</table>\n",
       "<p>2823 rows × 5 columns</p>\n",
       "</div>"
      ],
      "text/plain": [
       "                            Source            Target        Type    id  weight\n",
       "0                   Addam-Marbrand     Brynden-Tully  Undirected     0       3\n",
       "1                   Addam-Marbrand  Cersei-Lannister  Undirected     1       3\n",
       "2                   Addam-Marbrand       Gyles-Rosby  Undirected     2       3\n",
       "3                   Addam-Marbrand   Jaime-Lannister  Undirected     3      14\n",
       "4                   Addam-Marbrand      Jalabhar-Xho  Undirected     4       3\n",
       "...                            ...               ...         ...   ...     ...\n",
       "2818  Walder-Frey-(son-of-Merrett)          Wex-Pyke  Undirected  2818       4\n",
       "2819                  Waymar-Royce   Will-(prologue)  Undirected  2819      18\n",
       "2820                        Weasel             Weese  Undirected  2820       6\n",
       "2821                          Woth             Yoren  Undirected  2821       4\n",
       "2822                        Yandry            Ysilla  Undirected  2822      14\n",
       "\n",
       "[2823 rows x 5 columns]"
      ]
     },
     "metadata": {},
     "output_type": "display_data"
    }
   ],
   "source": [
    "graph = nx.Graph()\n",
    "graph2=nx.petersen_graph()\n",
    "\n",
    "#print(graph2.nodes())\n",
    "#print(graph2.edges())\n",
    " \n",
    "nodes_df= pd.read_csv('asoiaf-all-nodes.csv')\n",
    "edges_df = pd.read_csv('asoiaf-all-edges.csv')\n",
    "display(edges_df)\n",
    "#print(nodes_df.values[1])\n",
    "#print(\"Ciao\")\n",
    "#nodes_df.iloc[1]\n",
    "    \n",
    "game_of_graphs = nx.Graph()\n",
    "for index,row in nodes_df.iterrows():\n",
    "    game_of_graphs.add_node(row[\"Id\"],label = row['Label'])\n",
    "\n",
    "for index,row in edges_df.iterrows():\n",
    "    game_of_graphs.add_edge(row[\"Source\"],row['Target'],weight= row['weight'], id=row[\"id\"])\n",
    "\n",
    "    \n",
    "nx.write_gpickle(game_of_graphs, \"data/game_of_graphs.pkl\")  \n",
    "game_of_graphs1 = nx.read_gpickle(\"data/game_of_graphs.pkl\")\n"
   ]
  },
  {
   "cell_type": "code",
   "execution_count": 95,
   "metadata": {},
   "outputs": [
    {
     "name": "stdout",
     "output_type": "stream",
     "text": [
      "2823\n",
      "796\n",
      "{'Aegon-Frey-(son-of-Stevron)': {'weight': 5, 'id': 13}, 'Arya-Stark': {'weight': 44, 'id': 348}, 'Balon-Greyjoy': {'weight': 11, 'id': 441}, 'Benjen-Stark': {'weight': 7, 'id': 559}, 'Bran-Stark': {'weight': 169, 'id': 665}, 'Brandon-Stark': {'weight': 3, 'id': 686}, 'Brienne-of-Tarth': {'weight': 5, 'id': 720}, 'Brynden-Tully': {'weight': 27, 'id': 779}, 'Catelyn-Stark': {'weight': 128, 'id': 842}, 'Cersei-Lannister': {'weight': 15, 'id': 932}, 'Cleos-Frey': {'weight': 11, 'id': 986}, 'Dacey-Mormont': {'weight': 3, 'id': 1076}, 'Davos-Seaworth': {'weight': 3, 'id': 1183}, 'Desmond-Grell': {'weight': 4, 'id': 1201}, 'Eddard-Stark': {'weight': 46, 'id': 1333}, 'Edmure-Tully': {'weight': 51, 'id': 1380}, 'Elmar-Frey': {'weight': 9, 'id': 1411}, 'Galbart-Glover': {'weight': 5, 'id': 1459}, 'Gregor-Clegane': {'weight': 4, 'id': 1556}, 'Hallis-Mollen': {'weight': 13, 'id': 1635}, 'Hodor': {'weight': 5, 'id': 1717}, 'Hoster-Tully': {'weight': 4, 'id': 1732}, 'Hullen': {'weight': 3, 'id': 1755}, 'Jaime-Lannister': {'weight': 41, 'id': 1836}, 'Jeyne-Westerling': {'weight': 24, 'id': 1925}, 'Joffrey-Baratheon': {'weight': 49, 'id': 1961}, 'Jon-Snow': {'weight': 91, 'id': 2026}, 'Jon-Umber-(Greatjon)': {'weight': 31, 'id': 2062}, 'Jon-Umber-(Smalljon)': {'weight': 5, 'id': 2069}, 'Jory-Cassel': {'weight': 9, 'id': 2089}, 'Lothar-Frey': {'weight': 12, 'id': 2197}, 'Luwin': {'weight': 26, 'id': 2214}, 'Maege-Mormont': {'weight': 7, 'id': 2260}, 'Marq-Piper': {'weight': 3, 'id': 2313}, 'Martyn-Rivers': {'weight': 3, 'id': 2318}, 'Myrcella-Baratheon': {'weight': 3, 'id': 2388}, 'Nan': {'weight': 4, 'id': 2399}, 'Olyvar-Frey': {'weight': 12, 'id': 2423}, 'Osha': {'weight': 6, 'id': 2434}, 'Perwyn-Frey': {'weight': 6, 'id': 2471}, 'Petyr-Baelish': {'weight': 6, 'id': 2476}, 'Ramsay-Snow': {'weight': 7, 'id': 2550}, 'Raynald-Westerling': {'weight': 8, 'id': 2572}, 'Renly-Baratheon': {'weight': 25, 'id': 2575}, 'Rickard-Karstark': {'weight': 28, 'id': 2595}, 'Rickon-Stark': {'weight': 53, 'id': 2597}, 'Robert-Baratheon': {'weight': 9, 'id': 2603}, 'Robin-Flint': {'weight': 3, 'id': 2604}, 'Rodrik-Cassel': {'weight': 27, 'id': 2605}, 'Rollam-Westerling': {'weight': 4, 'id': 2606}, 'Rolph-Spicer': {'weight': 5, 'id': 2607}, 'Roose-Bolton': {'weight': 24, 'id': 2608}, 'Roslin-Frey': {'weight': 4, 'id': 2609}, 'Ryman-Frey': {'weight': 8, 'id': 2610}, 'Samwell-Tarly': {'weight': 4, 'id': 2611}, 'Sansa-Stark': {'weight': 44, 'id': 2612}, 'Stafford-Lannister': {'weight': 5, 'id': 2613}, 'Stannis-Baratheon': {'weight': 22, 'id': 2614}, 'Stevron-Frey': {'weight': 4, 'id': 2615}, 'Stiv': {'weight': 3, 'id': 2616}, 'Sybell-Spicer': {'weight': 3, 'id': 2617}, 'Theon-Greyjoy': {'weight': 76, 'id': 2618}, 'Torrhen-Karstark': {'weight': 3, 'id': 2619}, 'Tristifer-IV-Mudd': {'weight': 3, 'id': 2620}, 'Tyrion-Lannister': {'weight': 44, 'id': 2621}, 'Tywin-Lannister': {'weight': 30, 'id': 2622}, 'Utherydes-Wayn': {'weight': 3, 'id': 2623}, 'Varys': {'weight': 3, 'id': 2624}, 'Walder-Frey': {'weight': 40, 'id': 2625}, 'Walder-Rivers': {'weight': 4, 'id': 2626}, 'Wendel-Manderly': {'weight': 3, 'id': 2627}, 'Willem-Lannister': {'weight': 3, 'id': 2628}, 'Wyman-Manderly': {'weight': 6, 'id': 2629}, 'Yoren': {'weight': 3, 'id': 2630}}\n"
     ]
    }
   ],
   "source": [
    "print(game_of_graphs1.number_of_edges())\n",
    "print(game_of_graphs1.number_of_nodes())\n",
    "print(game_of_graphs1.adj[\"Robb-Stark\"])"
   ]
  },
  {
   "cell_type": "code",
   "execution_count": 34,
   "metadata": {},
   "outputs": [],
   "source": [
    "nodes_df= pd.read_csv('asoiaf-all-nodes.csv')\n",
    "edges_df = pd.read_csv('asoiaf-all-edges.csv')\n",
    "game_of_graphs_2 = nx.Graph()\n",
    "for index,row in nodes_df.iterrows():\n",
    "    a=row[\"Label\"].split(\" \")\n",
    "    if(a[len(a)-1] == \"Lannister\"):\n",
    "        game_of_graphs_2.add_node(row[\"Id\"],label = row['Label'])\n",
    "\n",
    "\n",
    "for index,row in edges_df.iterrows():\n",
    "    a=row[\"Source\"].split(\"-\")\n",
    "    b=row[\"Target\"].split(\"-\")\n",
    "    if((a[len(a)-1] == \"Lannister\") & (b[len(b)-1] == \"Lannister\")):\n",
    "        game_of_graphs_2.add_edge(row[\"Source\"],row['Target'],weight= row['weight'], id=row[\"id\"])\n",
    "game_of_graphs_2.number_of_edges()\n",
    "nx.write_gpickle(game_of_graphs_2, \"data/game_of_graphs_lannister.pkl\")\n"
   ]
  },
  {
   "cell_type": "code",
   "execution_count": 36,
   "metadata": {},
   "outputs": [
    {
     "name": "stdout",
     "output_type": "stream",
     "text": [
      "['Cersei-Lannister', 'Daven-Lannister', 'Genna-Lannister', 'Jaime-Lannister', 'Joanna-Lannister', 'Kevan-Lannister', 'Lancel-Lannister', 'Martyn-Lannister', 'Stafford-Lannister', 'Tyrion-Lannister', 'Tywin-Lannister', 'Willem-Lannister']\n",
      "[('Cersei-Lannister', 'Jaime-Lannister'), ('Cersei-Lannister', 'Kevan-Lannister'), ('Cersei-Lannister', 'Lancel-Lannister'), ('Cersei-Lannister', 'Tyrion-Lannister'), ('Cersei-Lannister', 'Tywin-Lannister'), ('Daven-Lannister', 'Jaime-Lannister'), ('Genna-Lannister', 'Jaime-Lannister'), ('Genna-Lannister', 'Tywin-Lannister'), ('Jaime-Lannister', 'Kevan-Lannister'), ('Jaime-Lannister', 'Lancel-Lannister'), ('Jaime-Lannister', 'Stafford-Lannister'), ('Jaime-Lannister', 'Tyrion-Lannister'), ('Jaime-Lannister', 'Tywin-Lannister'), ('Joanna-Lannister', 'Tywin-Lannister'), ('Kevan-Lannister', 'Lancel-Lannister'), ('Kevan-Lannister', 'Tyrion-Lannister'), ('Kevan-Lannister', 'Tywin-Lannister'), ('Kevan-Lannister', 'Willem-Lannister'), ('Lancel-Lannister', 'Tyrion-Lannister'), ('Martyn-Lannister', 'Tywin-Lannister'), ('Martyn-Lannister', 'Willem-Lannister'), ('Tyrion-Lannister', 'Tywin-Lannister')]\n"
     ]
    },
    {
     "data": {
      "image/png": "[encoded data removed]",
      "text/plain": [
       "<Figure size 720x720 with 1 Axes>"
      ]
     },
     "metadata": {},
     "output_type": "display_data"
    }
   ],
   "source": [
    "\n",
    "rcParams['figure.figsize']= 10,10\n",
    "game_of_graphs = nx.read_gpickle(\"data/game_of_graphs_lannister.pkl\")\n",
    "nx.draw_networkx(\n",
    "    game_of_graphs, \n",
    "    pos=nx.spring_layout(game_of_graphs),\n",
    "    node_color='#A0CBE2',\n",
    "    width=2,\n",
    "    edge_cmap=plt.cm.Blues,\n",
    "    with_labels=True\n",
    ")\n",
    "print(game_of_graphs.nodes())\n",
    "print(game_of_graphs.edges())\n",
    "\n",
    "plt.savefig(\"data/game_of_graphs.pdf\")\n",
    "plt.show()\n",
    "plt.close()\n",
    "\n",
    "\n",
    "\n"
   ]
  },
  {
   "cell_type": "code",
   "execution_count": 4,
   "metadata": {},
   "outputs": [],
   "source": [
    "from pyvis.network import Network\n",
    "game_of_graphs = nx.read_gpickle(\"data/game_of_graphs_lannister.pkl\")\n",
    "nt = Network(\n",
    "    height =\"100%\",\n",
    "    width = \"100%\",\n",
    "    bgcolor=\"#222222\",\n",
    "    font_color=\"white\",\n",
    "    heading=\"Game of Graphs\"\n",
    ")\n",
    "nt.barnes_hut()\n",
    "nt.from_nx(game_of_graphs)\n",
    "neighbor_map = nt.get_adj_list()\n",
    "for node in nt.nodes:\n",
    "    node[\"value\"] = len(neighbor_map[node[\"id\"]])\n",
    "nt.show(\"game_of_graphs.html\")"
   ]
  }
 ],
 "metadata": {
  "kernelspec": {
   "display_name": "Python 3",
   "language": "python",
   "name": "python3"
  },
  "language_info": {
   "codemirror_mode": {
    "name": "ipython",
    "version": 3
   },
   "file_extension": ".py",
   "mimetype": "text/x-python",
   "name": "python",
   "nbconvert_exporter": "python",
   "pygments_lexer": "ipython3",
   "version": "3.8.5"
  }
 },
 "nbformat": 4,
 "nbformat_minor": 4
}
