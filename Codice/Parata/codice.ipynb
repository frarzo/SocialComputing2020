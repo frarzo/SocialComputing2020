{
 "cells": [
  {
   "cell_type": "code",
   "execution_count": 10,
   "metadata": {},
   "outputs": [
    {
     "name": "stdout",
     "output_type": "stream",
     "text": [
      "Setup completed!\n"
     ]
    }
   ],
   "source": [
    "import networkx as nx\n",
    "import pandas as pd\n",
    "import numpy as np\n",
    "import json\n",
    "import matplotlib.pyplot as plt\n",
    "from pylab import rcParams\n",
    "from pyvis.network import Network\n",
    "import itertools \n",
    "\n",
    "print(\"Setup completed!\")"
   ]
  },
  {
   "cell_type": "code",
   "execution_count": 9,
   "metadata": {},
   "outputs": [],
   "source": [
    "def user_followers_df(user_follower):\n",
    "    #lettura json dell'utente desiderato\n",
    "    with open(user_follower+\"_followers.json\", \"r\", encoding=\"UTF-8\") as read_file:\n",
    "        data = json.load(read_file)\n",
    "    #aggiunta dei nodi\n",
    "    followers_nodes=[]\n",
    "    for result in data[user_follower]:\n",
    "        followers_nodes.append(result)  \n",
    "     #df nodi\n",
    "    df_nodes = pd.DataFrame(followers_nodes)\n",
    "    \n",
    "    #aggiunta degli archi\n",
    "    followers_edges = []\n",
    "    for result in data[user_follower]:\n",
    "        result[\"source\"]= result[\"id\"]\n",
    "        result[\"target\"]= user_follower\n",
    "        followers_edges.append(result)\n",
    "    #visualizzazione archi\n",
    "    df_followers = pd.DataFrame(followers_edges)\n",
    "    return df_followers"
   ]
  },
  {
   "cell_type": "code",
   "execution_count": 8,
   "metadata": {},
   "outputs": [],
   "source": [
    "def user_following_df(user_following):\n",
    "    with open(user_following+\"_following.json\", \"r\", encoding=\"UTF-8\") as read_file:\n",
    "        data = json.load(read_file)\n",
    "    #aggiunta dei nodi following\n",
    "    following_nodes=[]\n",
    "    for result in data[user_following]:\n",
    "        following_nodes.append(result) \n",
    "    #crea il df\n",
    "    df_following_nodes = pd.DataFrame(following_nodes)\n",
    "    \n",
    "    #aggiunta degli archi\n",
    "    following_edges = []\n",
    "    for result in data[user_following]:\n",
    "        result[\"source\"]= user_following\n",
    "        result[\"target\"]= result[\"id\"]\n",
    "        following_edges.append(result)\n",
    "    \n",
    "    #visualizzazione archi\n",
    "    df_following = pd.DataFrame(following_edges)\n",
    "    return df_following"
   ]
  },
  {
   "cell_type": "code",
   "execution_count": 7,
   "metadata": {},
   "outputs": [],
   "source": [
    "def following_graph(df_following):\n",
    "    #creazione grafo dei follower ed aggiunta dei nodi\n",
    "    following_graph = nx.DiGraph(team=\"Loris Parata 144338, Francesco Arzon , Lorenzo, Matteo Galvan\")\n",
    "    for index,row in df_following.iterrows():\n",
    "            following_graph.add_node(row[\"id\"],\n",
    "                           id= row[\"id\"],\n",
    "                           title= row[\"name\"],\n",
    "                           color =\"#ffff00\",\n",
    "                           physics=False,\n",
    "                           name=row['name'],\n",
    "                           screen_name=row['screen_name'],\n",
    "                           location=row['location']                           \n",
    "                           )            \n",
    "    #aggiunta degli archi al grafo dei follower\n",
    "    for index,row in df_following.iterrows():\n",
    "        following_graph.add_edge(row[\"source\"],row['target'],physics=False )\n",
    "        \n",
    "    return following_graph"
   ]
  },
  {
   "cell_type": "code",
   "execution_count": 6,
   "metadata": {},
   "outputs": [],
   "source": [
    "\n",
    "def disegna_grafo(grafo):\n",
    "    nt = Network(\n",
    "        height =\"50%\",\n",
    "        width = \"50%\",\n",
    "        bgcolor=\"#222222\",\n",
    "        font_color=\"white\",\n",
    "        heading= grafo,\n",
    "        directed=True,\n",
    "    )\n",
    "\n",
    "    nt.from_nx(grafo)\n",
    "    nt.barnes_hut()\n",
    "    nt.set_edge_smooth(\"continuous\")\n",
    "    neighbor_map = nt.get_adj_list()\n",
    "    \n",
    "    for node in nt.nodes:\n",
    "            node[\"value\"] = len(neighbor_map[node[\"id\"]])\n",
    "           # print(str(node[\"id\"])+\":\"+ str(node[\"value\"]))\n",
    "       \n",
    "        \n",
    "    nt.show(\"grafo.html\")"
   ]
  },
  {
   "cell_type": "code",
   "execution_count": 5,
   "metadata": {},
   "outputs": [],
   "source": [
    "def dataframe_user(df_follower,df_following):\n",
    "    df_1= df_follower\n",
    "    df_2= df_following\n",
    "    frames= [df_1,df_2]\n",
    "    df_user = pd.concat(frames)\n",
    "    return df_user"
   ]
  },
  {
   "cell_type": "code",
   "execution_count": 4,
   "metadata": {},
   "outputs": [],
   "source": [
    "#funzioni aggregate\n",
    "def users_dfs(usernames):\n",
    "    columns=['id','name','screen_name','location']  \n",
    "    users_dfs = pd.DataFrame(columns=columns)\n",
    "    for user in usernames:\n",
    "        df_follower=user_followers_df(user)\n",
    "        df_following=user_following_df(user)\n",
    "        df_user=dataframe_user(df_follower,df_following)\n",
    "        users_dfs=dataframe_user(users_dfs,df_user)\n",
    "        \n",
    "    return users_dfs"
   ]
  },
  {
   "cell_type": "code",
   "execution_count": 11,
   "metadata": {},
   "outputs": [
    {
     "data": {
      "text/plain": [
       "4170"
      ]
     },
     "execution_count": 11,
     "metadata": {},
     "output_type": "execute_result"
    }
   ],
   "source": [
    "usernames=[\"miccighel_\",\"mizzaro\",\"damiano10\",\"eglu81\",\"KevinRoitero\"]\n",
    "df= users_dfs(usernames)\n",
    "twitter_graph=following_graph(df)\n",
    "#print(fg.nodes().data())\n",
    "twitter_graph.number_of_edges()\n",
    "#disegna_grafo(following_graph(df.loc[df['id'] == 1527461]))\n",
    "#disegna_grafo(fg)\n",
    "\n"
   ]
  },
  {
   "cell_type": "code",
   "execution_count": 40,
   "metadata": {},
   "outputs": [
    {
     "name": "stdout",
     "output_type": "stream",
     "text": [
      "[(116897811, 0.0010328714330331476), (94732055, 0.0010328714330331476), (14451127, 0.0010328714330331476), (920700510306529280, 0.0010328714330331476), (810893744593584128, 0.0010328714330331476)]\n"
     ]
    },
    {
     "ename": "KeyError",
     "evalue": "1",
     "output_type": "error",
     "traceback": [
      "\u001b[1;31m---------------------------------------------------------------------------\u001b[0m",
      "\u001b[1;31mKeyError\u001b[0m                                  Traceback (most recent call last)",
      "\u001b[1;32m<ipython-input-40-8883d48179dd>\u001b[0m in \u001b[0;36m<module>\u001b[1;34m\u001b[0m\n\u001b[0;32m     34\u001b[0m \u001b[0mprint\u001b[0m\u001b[1;33m(\u001b[0m\u001b[0mhits_hub\u001b[0m\u001b[1;33m[\u001b[0m\u001b[1;33m:\u001b[0m\u001b[1;36m5\u001b[0m\u001b[1;33m]\u001b[0m\u001b[1;33m)\u001b[0m\u001b[1;33m\u001b[0m\u001b[1;33m\u001b[0m\u001b[0m\n\u001b[0;32m     35\u001b[0m \u001b[1;33m\u001b[0m\u001b[0m\n\u001b[1;32m---> 36\u001b[1;33m \u001b[0mhits_authorities\u001b[0m\u001b[1;33m=\u001b[0m\u001b[0mhits\u001b[0m\u001b[1;33m[\u001b[0m\u001b[1;36m0\u001b[0m\u001b[1;33m]\u001b[0m\u001b[1;33m[\u001b[0m\u001b[1;36m1\u001b[0m\u001b[1;33m]\u001b[0m\u001b[1;33m\u001b[0m\u001b[1;33m\u001b[0m\u001b[0m\n\u001b[0m\u001b[0;32m     37\u001b[0m \u001b[0mhits_authorities\u001b[0m\u001b[1;33m=\u001b[0m\u001b[0msorted\u001b[0m\u001b[1;33m(\u001b[0m\u001b[0mhits_hubs\u001b[0m\u001b[1;33m.\u001b[0m\u001b[0mitems\u001b[0m\u001b[1;33m(\u001b[0m\u001b[1;33m)\u001b[0m\u001b[1;33m,\u001b[0m\u001b[0mkey\u001b[0m\u001b[1;33m=\u001b[0m\u001b[1;32mlambda\u001b[0m \u001b[0mx\u001b[0m\u001b[1;33m:\u001b[0m\u001b[0mx\u001b[0m\u001b[1;33m[\u001b[0m\u001b[1;36m1\u001b[0m\u001b[1;33m]\u001b[0m\u001b[1;33m,\u001b[0m\u001b[0mreverse\u001b[0m\u001b[1;33m=\u001b[0m\u001b[1;32mTrue\u001b[0m\u001b[1;33m)\u001b[0m\u001b[1;33m\u001b[0m\u001b[1;33m\u001b[0m\u001b[0m\n\u001b[0;32m     38\u001b[0m \u001b[0mprint\u001b[0m\u001b[1;33m(\u001b[0m\u001b[0mhits_authorities\u001b[0m\u001b[1;33m[\u001b[0m\u001b[1;33m:\u001b[0m\u001b[1;36m5\u001b[0m\u001b[1;33m]\u001b[0m\u001b[1;33m)\u001b[0m\u001b[1;33m\u001b[0m\u001b[1;33m\u001b[0m\u001b[0m\n",
      "\u001b[1;31mKeyError\u001b[0m: 1"
     ]
    }
   ],
   "source": [
    "twitter_graph= nx.to_undirected(twitter_graph)\n",
    "#nx.is_connected(twitter_graph)\n",
    "#nx.is_bipartite(twitter_graph)\n",
    "\n",
    "#8 Distanze sul grafo\n",
    "#centro = nx.center(twitter_graph)\n",
    "#print(centro)\n",
    "#diametro = nx.diameter(twitter_graph)\n",
    "#print(diametro)\n",
    "#raggio = nx.radius(twitter_graph)\n",
    "#print(raggio)\n",
    "\n",
    "#9 Misure di centralità sul grafo\n",
    "#btw_centrality = nx.betweenness_centrality(twitter_graph)\n",
    "#print(btw_centrality)\n",
    "#cls_centralitu = nx.closeness_centrality(twitter_graph)\n",
    "#print(cls_centralitu)\n",
    "#dg_centrality = nx.degree_centrality(twitter_graph)\n",
    "#print(dg_centrality)\n",
    "twitter_graph= nx.to_directed(twitter_graph)\n",
    "#in_centrality= nx.in_degree_centrality(twitter_graph)\n",
    "#print(in_centrality)\n",
    "#out_centrality= nx.out_degree_centrality(twitter_graph)\n",
    "#print(out_centrality)\n",
    "#pagerank= nx.pagerank(twitter_graph)\n",
    "#pagerank=sorted(pagerank.items(),key=lambda x:x[1],reverse=True)\n",
    "\n",
    "#print(pagerank[:5])\n",
    "\n",
    "#hits= nx.hits(twitter_graph)\n",
    "#hits=sorted(hits[0])\n",
    "hits_hubs=hits[0]\n",
    "hits_hub= sorted(hits_hubs.items(),key=lambda x:x[1],reverse=True)\n",
    "print(hits_hub[:5])\n",
    "\n",
    "hits_authorities=hits[1]\n",
    "hits_authorities=sorted(hits_authorities.items(),key=lambda x:x[1],reverse=True)\n",
    "print(hits_authorities[:5])\n",
    "#print(hits2)\n",
    "\n",
    "#Sottografo del nodo damiano10\n",
    "#sub_graph_damiano10 = ego_graph(twitter_graph, \"damiano10\")\n",
    "#max_clique(sub_graph_damiano10)\n",
    "#large_clique_size(sub_graph_damiano10)\n",
    "\n",
    "\n",
    "#11 copertua minima degli archi\n",
    "#min_edge_cover(twitter_graph)\n",
    "\n",
    "#12 Small-world-ness\n",
    "#omega(twitter_graph)\n",
    "#sigma(twitter_graph)"
   ]
  },
  {
   "cell_type": "code",
   "execution_count": null,
   "metadata": {},
   "outputs": [],
   "source": []
  }
 ],
 "metadata": {
  "kernelspec": {
   "display_name": "Python 3",
   "language": "python",
   "name": "python3"
  },
  "language_info": {
   "codemirror_mode": {
    "name": "ipython",
    "version": 3
   },
   "file_extension": ".py",
   "mimetype": "text/x-python",
   "name": "python",
   "nbconvert_exporter": "python",
   "pygments_lexer": "ipython3",
   "version": "3.8.5"
  }
 },
 "nbformat": 4,
 "nbformat_minor": 4
}
