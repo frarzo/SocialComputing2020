{
 "cells": [
  {
   "cell_type": "code",
   "execution_count": 1,
   "metadata": {},
   "outputs": [],
   "source": [
    "import pandas as pd\n",
    "import numpy as np\n",
    "import os \n",
    "import json\n",
    "import pprint\n",
    "%matplotlib inline\n",
    "import requests\n",
    "\n",
    "import tweepy"
   ]
  },
  {
   "cell_type": "code",
   "execution_count": 2,
   "metadata": {},
   "outputs": [],
   "source": [
    "consumer_key = \"cvoM8D7hXXxlvBXTM8aH9X2ec\"\n",
    "consumer_secret = \"Uk2UvH0FJY7KaDzkXYLfgiYkA1OuCwbLlGFPyodB5wcQ5bsItN\"\n",
    "access_token = \"3303466053-xlp70tpI3X1h5ZwFMihwaxtBwv15OzzOfjhASRp\"\n",
    "access_secret = \"F1FPJObejC4XifZWW2zri9nvi34uTtvSWIe2oIyosBw5I\"\n",
    "bearer_token = \"AAAAAAAAAAAAAAAAAAAAAHsVJQEAAAAAF1NdDcGaVilmYsxLtSG9kzYp9Ck%3DSORNu8KqrAvrUWG0lDBaKqbyZ8DZEZyVhTzyLxEszYn2uCd1pE\""
   ]
  },
  {
   "cell_type": "code",
   "execution_count": 3,
   "metadata": {},
   "outputs": [
    {
     "name": "stdout",
     "output_type": "stream",
     "text": [
      "Authentication completed successfully!\n"
     ]
    }
   ],
   "source": [
    "auth = tweepy.OAuthHandler(consumer_key, consumer_secret)\n",
    "auth.set_access_token(access_token, access_secret)\n",
    "api = tweepy.API(auth, wait_on_rate_limit=True, wait_on_rate_limit_notify=True)\n",
    "if(api.verify_credentials):\n",
    "    print ('Authentication completed successfully!')"
   ]
  },
  {
   "cell_type": "code",
   "execution_count": 4,
   "metadata": {},
   "outputs": [],
   "source": [
    "data_folder = \"data\"\n",
    "\n",
    "def serialize_json(folder, filename, data):\n",
    "    if not os.path.exists(folder):\n",
    "        os.makedirs(folder, exist_ok=True)\n",
    "    with open(f\"{folder}/{filename}\", 'w', encoding='utf-8') as f:\n",
    "        json.dump(data, f, ensure_ascii=False, indent=4)\n",
    "        f.close()\n",
    "    print(f\"Data serialized to path: {folder}/{filename}\")\n",
    "\n",
    "def read_json(path):\n",
    "    if os.path.exists(path):\n",
    "        with open(path, \"r\", encoding=\"utf8\") as file:\n",
    "            data = json.load(file)\n",
    "        print(f\"Data read from path: {path}\")\n",
    "        return data\n",
    "    else:\n",
    "        print(f\"No data found at path: {path}\")\n",
    "        return {}\n"
   ]
  },
  {
   "cell_type": "code",
   "execution_count": 9,
   "metadata": {},
   "outputs": [
    {
     "name": "stdout",
     "output_type": "stream",
     "text": [
      "Processing Avenger LorisParata\n",
      "Found 17 followers for avenger LorisParata\n",
      "Data serialized to path: data/parata.json\n"
     ]
    }
   ],
   "source": [
    "avengers = [\"LorisParata\"]\n",
    "followers = {}\n",
    "quantity = 100\n",
    "\n",
    "for avenger in avengers:\n",
    "    \n",
    "    print(f\"Processing Avenger {avenger}\")\n",
    "    \n",
    "    followers_of_avenger = []\n",
    "    \n",
    "    for item in tweepy.Cursor(\n",
    "        api.followers, \n",
    "        screen_name=avenger\n",
    "    ).items(quantity):\n",
    "        \n",
    "        json_data = item._json\n",
    "        \n",
    "        found_follower = {}\n",
    "        found_follower[\"id\"] = json_data[\"id\"]\n",
    "        found_follower[\"name\"] = json_data[\"name\"]\n",
    "        found_follower[\"screen_name\"] = json_data[\"screen_name\"]\n",
    "        found_follower[\"location\"] = json_data[\"location\"]\n",
    "        found_follower[\"followers_count\"] = json_data[\"followers_count\"]\n",
    "        \n",
    "        if found_follower not in followers_of_avenger:\n",
    "            followers_of_avenger.append(found_follower)\n",
    "            \n",
    "    followers[avenger] = followers_of_avenger\n",
    "    print(f\"Found {len(followers[avenger])} followers for avenger {avenger}\")\n",
    "    \n",
    "serialize_json(data_folder, \"parata.json\", followers)"
   ]
  },
  {
   "cell_type": "code",
   "execution_count": 10,
   "metadata": {},
   "outputs": [
    {
     "name": "stdout",
     "output_type": "stream",
     "text": [
      "Data read from path: data/avengers_followers.json\n",
      "[{'id': 1323916941212397568,\n",
      "  'location': '',\n",
      "  'name': 'Maiken Bram kristiansen',\n",
      "  'screen_name': 'BramMaiken'},\n",
      " {'id': 1323917398798331904,\n",
      "  'location': '',\n",
      "  'name': 'Lormarte',\n",
      "  'screen_name': 'lormarte'},\n",
      " {'id': 1323912480058449920,\n",
      "  'location': '',\n",
      "  'name': 'imogen',\n",
      "  'screen_name': 'imogen35815476'}]\n"
     ]
    }
   ],
   "source": [
    "followers = read_json(f\"{data_folder}/avengers_followers.json\")\n",
    "# (Pretty) print the first three followers of Iron Man\n",
    "import pprint\n",
    "pp = pprint.PrettyPrinter()\n",
    "pp.pprint(followers['Iron_Man'][:3])"
   ]
  },
  {
   "cell_type": "code",
   "execution_count": 6,
   "metadata": {},
   "outputs": [
    {
     "name": "stdout",
     "output_type": "stream",
     "text": [
      "701615052\n",
      "Captain America\n",
      "CaptainAmerica\n",
      "\n",
      "Data serialized to path: data/1_captain_america_profile_data.json\n"
     ]
    }
   ],
   "source": [
    "infoCap = api.get_user(\"CaptainAmerica\")\n",
    "json_data = infoCap._json\n",
    "\n",
    "print(infoCap._json['id'])\n",
    "print(infoCap._json['name'])\n",
    "print(infoCap._json['screen_name'])\n",
    "print(infoCap._json['location'])\n",
    "\n",
    "profile_data = {}\n",
    "profile_data[\"id\"] = json_data[\"id\"]\n",
    "profile_data[\"name\"] = json_data[\"name\"]\n",
    "profile_data[\"screen_name\"] = json_data[\"screen_name\"]\n",
    "profile_data[\"location\"] = json_data[\"location\"]\n",
    "profile_data[\"description\"] = json_data[\"description\"]\n",
    "profile_data[\"followers_count\"] = json_data[\"followers_count\"]\n",
    "serialize_json(data_folder, \"1_captain_america_profile_data.json\", profile_data)"
   ]
  },
  {
   "cell_type": "code",
   "execution_count": 6,
   "metadata": {},
   "outputs": [
    {
     "name": "stdout",
     "output_type": "stream",
     "text": [
      "Data serialized to path: data/2_iron_man_recent_tweets.json\n"
     ]
    }
   ],
   "source": [
    "avenger = \"Iron_Man\"\n",
    "tweets = []\n",
    "for item in tweepy.Cursor(\n",
    "        api.user_timeline, \n",
    "        screen_name=avenger,\n",
    "        tweet_mode=\"extended\"\n",
    "    ).items(10):\n",
    "    raw_tweet = item._json\n",
    "    tweet = {}\n",
    "    tweet[\"id\"]= raw_tweet[\"id\"]\n",
    "    tweet[\"created_at\"] = raw_tweet[\"created_at\"]\n",
    "    tweet[\"full_text\"] = raw_tweet[\"full_text\"],\n",
    "    tweet[\"favorite_count\"]= raw_tweet[\"favorite_count\"]\n",
    "    tweets.append(tweet)\n",
    "serialize_json(data_folder, \"2_iron_man_recent_tweets.json\", tweets)\n"
   ]
  },
  {
   "cell_type": "code",
   "execution_count": 53,
   "metadata": {},
   "outputs": [
    {
     "name": "stdout",
     "output_type": "stream",
     "text": [
      "Retweeter ID: 1287064876892827648\n",
      "Retweeter ID: 1282618627846557696\n",
      "Retweeter ID: 1033359906227679232\n",
      "Retweeter ID: 997299924\n",
      "Retweeter ID: 941020920671555584\n",
      "Retweeter ID: 1051785764\n",
      "Retweeter ID: 1300218169479569408\n",
      "Retweeter ID: 735503033845448704\n",
      "Retweeter ID: 41461775\n",
      "Retweeter ID: 1279259789277741058\n",
      "Retweeter ID: 1177308278310744069\n",
      "Retweeter ID: 1088748236565708800\n",
      "Retweeter ID: 2188118413\n",
      "Retweeter ID: 1238127158960291841\n",
      "Retweeter ID: 798620530224091136\n",
      "Retweeter ID: 1127720887325790208\n",
      "Retweeter ID: 733717199978934273\n",
      "Retweeter ID: 795744385308774400\n",
      "Data serialized to path: data/4_ironMan_retwitters.json\n"
     ]
    }
   ],
   "source": [
    "avenger = \"Iron_Man\"\n",
    "raw_favorites = api.favorites(\n",
    "    screen_name=avenger,\n",
    "    tweet_mode=\"extended\"\n",
    ")\n",
    "tweets = []\n",
    "for raw_tweet in raw_favorites:\n",
    "    json_tweet = raw_tweet._json\n",
    "    tweet = {}\n",
    "    tweet[\"id\"] = json_tweet[\"id\"]\n",
    "    for item in tweepy.Cursor(\n",
    "        api.retweeters,\n",
    "        id= tweet[\"id\"]).items(1):\n",
    "       # print(f\"Retweeter ID: {item}\")\n",
    "        json_data = api.get_user(id=item)._json\n",
    "        retwitter_user = {}\n",
    "        retwitter_user[\"id\"] = json_data[\"id\"]\n",
    "        retwitter_user[\"name\"] = json_data[\"name\"]\n",
    "        retwitter_user[\"screen_name\"] = json_data[\"screen_name\"]\n",
    "        retwitter_user[\"location\"] = json_data[\"location\"]\n",
    "        retwitter_user[\"description\"] = json_data[\"description\"]\n",
    "        retwitter_user[\"followers_count\"] = json_data[\"followers_count\"]\n",
    "        tweets.append(tweet)\n",
    "serialize_json(data_folder, \"4_ironMan_retwitters.json\", tweets)"
   ]
  },
  {
   "cell_type": "code",
   "execution_count": 14,
   "metadata": {},
   "outputs": [
    {
     "name": "stdout",
     "output_type": "stream",
     "text": [
      "{'data': [{'created_at': '2012-07-17T19:19:12.000Z',\n",
      "           'description': 'Just a kid from Brooklyn.',\n",
      "           'id': '701615052',\n",
      "           'name': 'Captain America',\n",
      "           'username': 'CaptainAmerica'}]}\n"
     ]
    }
   ],
   "source": [
    "endpoint_url=\"https://api.twitter.com/2/users/by\"\n",
    "headers = {\n",
    "    'authorization': f\"Bearer {bearer_token}\"\n",
    "}\n",
    "params = {\n",
    "    'usernames': 'CaptainAmerica',\n",
    "    'user.fields': 'name,description,created_at'\n",
    "}\n",
    "response = requests.get(endpoint_url,headers=headers, params=params)\n",
    "pp.pprint(response.json())"
   ]
  }
 ],
 "metadata": {
  "kernelspec": {
   "display_name": "Python 3",
   "language": "python",
   "name": "python3"
  },
  "language_info": {
   "codemirror_mode": {
    "name": "ipython",
    "version": 3
   },
   "file_extension": ".py",
   "mimetype": "text/x-python",
   "name": "python",
   "nbconvert_exporter": "python",
   "pygments_lexer": "ipython3",
   "version": "3.8.5"
  }
 },
 "nbformat": 4,
 "nbformat_minor": 4
}
