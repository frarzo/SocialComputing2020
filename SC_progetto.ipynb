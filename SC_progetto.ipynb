{
 "cells": [
  {
   "cell_type": "code",
   "execution_count": 2,
   "metadata": {},
   "outputs": [],
   "source": [
    "import tweepy\n",
    "import json\n",
    "import os\n",
    "import time\n",
    "import pprint\n",
    "import requests\n",
    "import random\n",
    "import networkx as nx\n"
   ]
  },
  {
   "cell_type": "code",
   "execution_count": 3,
   "metadata": {},
   "outputs": [],
   "source": [
    "\n",
    "path=\"data_proj/\"\n",
    "pp=pprint.PrettyPrinter()\n",
    "\n",
    "def serialize_json(folder, filename, data):\n",
    "    if not os.path.exists(folder):\n",
    "        os.makedirs(folder, exist_ok=True)\n",
    "    with open(f\"{folder}/{filename}\", 'w', encoding='utf-8') as f:\n",
    "        json.dump(data, f, ensure_ascii=False, indent=4)\n",
    "        f.close()\n",
    "    print(f\"Data serialized to path: {folder}/{filename}\")\n",
    "\n",
    "def read_json(path):\n",
    "    if os.path.exists(path):\n",
    "        with open(path, \"r\", encoding=\"utf8\") as file:\n",
    "            data = json.load(file)\n",
    "        print(f\"Data read from path: {path}\")\n",
    "        return data\n",
    "    else:\n",
    "        print(f\"No data found at path: {path}\")\n",
    "        return {}"
   ]
  },
  {
   "cell_type": "code",
   "execution_count": 4,
   "metadata": {},
   "outputs": [],
   "source": [
    "api_key=\"x\"\n",
    "api_secret=\"x\"\n",
    "\n",
    "access_token=\"x\"\n",
    "access_secret=\"x\"\n",
    "\n",
    "bearer_token=\"x\""
   ]
  },
  {
   "cell_type": "code",
   "execution_count": 5,
   "metadata": {},
   "outputs": [
    {
     "name": "stdout",
     "output_type": "stream",
     "text": [
      "Auth success\n"
     ]
    }
   ],
   "source": [
    "auth=tweepy.OAuthHandler(api_key,api_secret)\n",
    "auth.set_access_token(access_token,access_secret)\n",
    "api=tweepy.API(auth,wait_on_rate_limit=True,wait_on_rate_limit_notify=True)\n",
    "if(api.verify_credentials):\n",
    "    print(\"Auth success\")\n"
   ]
  },
  {
   "cell_type": "code",
   "execution_count": 6,
   "metadata": {},
   "outputs": [
    {
     "name": "stdout",
     "output_type": "stream",
     "text": [
      "[{'followers': 156, 'following': 331, 'name': 'mizzaro'},\n",
      " {'followers': 785, 'following': 836, 'name': 'damiano10'},\n",
      " {'followers': 331, 'following': 211, 'name': 'miccighel_'},\n",
      " {'followers': 540, 'following': 621, 'name': 'eglu81'},\n",
      " {'followers': 103, 'following': 256, 'name': 'KevinRoitero'}]\n"
     ]
    }
   ],
   "source": [
    "users=[\"mizzaro\",\"damiano10\",\"miccighel_\",\"eglu81\",\"KevinRoitero\"]\n",
    "f_ers=[156,785,331,540,103]\n",
    "f_ing=[331,836,211,621,256]\n",
    "utenti=[]\n",
    "for i in range(0,5):\n",
    "    utente={}\n",
    "    utente[\"name\"]=users[i]\n",
    "    utente[\"followers\"]=f_ers[i]\n",
    "    utente[\"following\"]=f_ing[i]\n",
    "    utenti.append(utente)\n",
    "pp.pprint(utenti)"
   ]
  },
  {
   "cell_type": "code",
   "execution_count": null,
   "metadata": {},
   "outputs": [],
   "source": [
    "#1. Scaricate\n",
    "#codice da non eseguire a meno che non vogliate bruciarvi tutte le richieste di twitter API\n",
    "followers,following={},{}\n",
    "\n",
    "for utente in utenti:\n",
    "    followers_utente,following_utente=[],[]\n",
    "    for item in tweepy.Cursor(\n",
    "        api.followers,\n",
    "        screen_name=utente[\"name\"],\n",
    "        skip_status=True,\n",
    "        include_user_entities=False\n",
    "    ).items():\n",
    "        json_data=item._json\n",
    "        new_follower={}\n",
    "        new_follower[\"id\"]=json_data[\"id\"]\n",
    "        new_follower[\"name\"]=json_data[\"name\"]\n",
    "        new_follower[\"screen_name\"]=json_data[\"screen_name\"]\n",
    "        new_follower[\"location\"]=json_data[\"location\"]\n",
    "        new_follower[\"followers_count\"]=json_data[\"followers_count\"]\n",
    "        new_follower[\"friends_count\"]=json_data[\"friends_count\"]\n",
    "        new_follower[\"statuses_count\"]=json_data[\"statuses_count\"]\n",
    "        \n",
    "    followers_utente.append(new_follower)\n",
    "\n",
    "\n",
    "    followers[utente[\"name\"]]=followers_utente\n",
    "\n",
    "    for item in tweepy.Cursor(\n",
    "        api.friends,\n",
    "        screen_name=utente[\"name\"],\n",
    "        skip_status=True,\n",
    "        include_user_entities=False\n",
    "    ).items():\n",
    "        json_data=item._json\n",
    "        new_following={}\n",
    "        new_following[\"id\"]=json_data[\"id\"]\n",
    "        new_following[\"name\"]=json_data[\"name\"]\n",
    "        new_following[\"screen_name\"]=json_data[\"screen_name\"]\n",
    "        new_following[\"location\"]=json_data[\"location\"]\n",
    "        new_following[\"followers_count\"]=json_data[\"followers_count\"]\n",
    "        new_following[\"friends_count\"]=json_data[\"friends_count\"]\n",
    "        new_following[\"statuses_count\"]=json_data[\"statuses_count\"]\n",
    "    \n",
    "    following_utente.append(new_following)\n",
    "\n",
    "    following[utente[\"name\"]]=following_utente\n",
    "\n",
    "\n",
    "#export to json\n",
    "serialize_json(\"data_proj\",\"followers_5_utenti.json\",followers)\n",
    "serialize_json(\"data_proj\",\"following_5_utenti.json\",following)"
   ]
  },
  {
   "cell_type": "code",
   "execution_count": 7,
   "metadata": {},
   "outputs": [
    {
     "name": "stdout",
     "output_type": "stream",
     "text": [
      "Data read from path: json_5_utenti/finale/followers.json\n",
      "Data read from path: json_5_utenti/finale/following.json\n"
     ]
    }
   ],
   "source": [
    "followers=read_json(\"json_5_utenti/finale/followers.json\")\n",
    "following=read_json(\"json_5_utenti/finale/following.json\")\n",
    "#Temporaneamente ho unito i followers/ing di ogni utente in due file separati, non so se è giusto"
   ]
  },
  {
   "cell_type": "code",
   "execution_count": 8,
   "metadata": {},
   "outputs": [
    {
     "ename": "ValueError",
     "evalue": "Sample larger than population or is negative",
     "output_type": "error",
     "traceback": [
      "\u001b[1;31m---------------------------------------------------------------------------\u001b[0m",
      "\u001b[1;31mValueError\u001b[0m                                Traceback (most recent call last)",
      "\u001b[1;32m<ipython-input-8-2aa6c392e4d3>\u001b[0m in \u001b[0;36m<module>\u001b[1;34m\u001b[0m\n\u001b[0;32m     10\u001b[0m \u001b[1;32mfor\u001b[0m \u001b[0mutente\u001b[0m \u001b[1;32min\u001b[0m \u001b[0mfollowers\u001b[0m\u001b[1;33m:\u001b[0m\u001b[1;33m\u001b[0m\u001b[1;33m\u001b[0m\u001b[0m\n\u001b[0;32m     11\u001b[0m     \u001b[1;32mfor\u001b[0m \u001b[0mf\u001b[0m \u001b[1;32min\u001b[0m \u001b[0mrandom_followers_utenti\u001b[0m\u001b[1;33m[\u001b[0m\u001b[0mutente\u001b[0m\u001b[1;33m]\u001b[0m\u001b[1;33m:\u001b[0m\u001b[1;33m\u001b[0m\u001b[1;33m\u001b[0m\u001b[0m\n\u001b[1;32m---> 12\u001b[1;33m         \u001b[0mfollowers_of_followers\u001b[0m\u001b[1;33m[\u001b[0m\u001b[0mutente\u001b[0m\u001b[1;33m]\u001b[0m\u001b[1;33m=\u001b[0m\u001b[0mrandom\u001b[0m\u001b[1;33m.\u001b[0m\u001b[0msample\u001b[0m\u001b[1;33m(\u001b[0m\u001b[0mrandom_followers_utenti\u001b[0m\u001b[1;33m[\u001b[0m\u001b[0mutente\u001b[0m\u001b[1;33m]\u001b[0m\u001b[1;33m,\u001b[0m\u001b[1;36m10\u001b[0m\u001b[1;33m)\u001b[0m\u001b[1;33m\u001b[0m\u001b[1;33m\u001b[0m\u001b[0m\n\u001b[0m",
      "\u001b[1;32mC:\\Program Files\\WindowsApps\\PythonSoftwareFoundation.Python.3.8_3.8.1776.0_x64__qbz5n2kfra8p0\\lib\\random.py\u001b[0m in \u001b[0;36msample\u001b[1;34m(self, population, k)\u001b[0m\n\u001b[0;32m    361\u001b[0m         \u001b[0mn\u001b[0m \u001b[1;33m=\u001b[0m \u001b[0mlen\u001b[0m\u001b[1;33m(\u001b[0m\u001b[0mpopulation\u001b[0m\u001b[1;33m)\u001b[0m\u001b[1;33m\u001b[0m\u001b[1;33m\u001b[0m\u001b[0m\n\u001b[0;32m    362\u001b[0m         \u001b[1;32mif\u001b[0m \u001b[1;32mnot\u001b[0m \u001b[1;36m0\u001b[0m \u001b[1;33m<=\u001b[0m \u001b[0mk\u001b[0m \u001b[1;33m<=\u001b[0m \u001b[0mn\u001b[0m\u001b[1;33m:\u001b[0m\u001b[1;33m\u001b[0m\u001b[1;33m\u001b[0m\u001b[0m\n\u001b[1;32m--> 363\u001b[1;33m             \u001b[1;32mraise\u001b[0m \u001b[0mValueError\u001b[0m\u001b[1;33m(\u001b[0m\u001b[1;34m\"Sample larger than population or is negative\"\u001b[0m\u001b[1;33m)\u001b[0m\u001b[1;33m\u001b[0m\u001b[1;33m\u001b[0m\u001b[0m\n\u001b[0m\u001b[0;32m    364\u001b[0m         \u001b[0mresult\u001b[0m \u001b[1;33m=\u001b[0m \u001b[1;33m[\u001b[0m\u001b[1;32mNone\u001b[0m\u001b[1;33m]\u001b[0m \u001b[1;33m*\u001b[0m \u001b[0mk\u001b[0m\u001b[1;33m\u001b[0m\u001b[1;33m\u001b[0m\u001b[0m\n\u001b[0;32m    365\u001b[0m         \u001b[0msetsize\u001b[0m \u001b[1;33m=\u001b[0m \u001b[1;36m21\u001b[0m        \u001b[1;31m# size of a small set minus size of an empty list\u001b[0m\u001b[1;33m\u001b[0m\u001b[1;33m\u001b[0m\u001b[0m\n",
      "\u001b[1;31mValueError\u001b[0m: Sample larger than population or is negative"
     ]
    }
   ],
   "source": [
    "#2 \n",
    "random_followers_utenti,followers_of_followers={},{}\n",
    "\n",
    "for utente in followers:\n",
    "    #followers={av1:[],av2:[],...}\n",
    "    #utente=\"Iron_Man\",\"thorofficial\",...\n",
    "    random_followers_utenti[utente]=random.sample(followers[utente],5)\n",
    "#result: random_followers_utenti= {\"mizzaro\":[5 utenti {}],\"damiano10\":[5 utenti {}],...}\n",
    "\n",
    "try:\n",
    "    for utente in random_followers_utenti:\n",
    "        for f in random_followers_utenti[utente]:\n",
    "            fof=[]\n",
    "            time.sleep(10)\n",
    "            for item in tweepy.Cursor(\n",
    "                api.followers,\n",
    "                screen_name=f[\"screen_name\"],\n",
    "                skip_status=True,\n",
    "                include_user_entities=False\n",
    "            ).items(10):\n",
    "                json_data=item._json\n",
    "                user={}\n",
    "                user[\"id\"]=json_data[\"id\"]\n",
    "                user[\"name\"]=json_data[\"name\"]\n",
    "                user[\"screen_name\"]=json_data[\"screen_name\"]\n",
    "                user[\"location\"]=json_data[\"location\"]\n",
    "                user[\"followers_count\"]=json_data[\"followers_count\"]\n",
    "                user[\"friends_count\"]=json_data[\"friends_count\"]\n",
    "                user[\"statuses_count\"]=json_data[\"statuses_count\"]\n",
    "                \n",
    "                fof.append(user)\n",
    "            followers_of_followers[f[\"screen_name\"]]=fof\n",
    "except tweepy.TweepError as error: #Le prime volte mi ha tornato TweepError:Unauthorized, ma ora non più\n",
    "    print(error)\n",
    "serialize_json(\"json_5_utenti/random_fof\",\"followers_of_followers.json\",followers_of_followers)"
   ]
  },
  {
   "cell_type": "code",
   "execution_count": null,
   "metadata": {},
   "outputs": [],
   "source": [
    "#3\n",
    "\n",
    "random_following_utenti,following_of_following={},{}\n",
    "\n",
    "for utente in following:\n",
    "    random_following_utenti[utente]=random.sample(following[utente],5)\n",
    "\n",
    "try:\n",
    "    for utente in random_following_utenti:\n",
    "        for f in random_following_utenti[utente]:\n",
    "            fof=[]\n",
    "            time.sleep(10)\n",
    "            for item in tweepy.Cursor(\n",
    "                api.following,\n",
    "                screen_name=f[\"screen_name\"],\n",
    "                skip_status=True,\n",
    "                include_user_entities=False\n",
    "            ).items(10):\n",
    "                json_data=item._json\n",
    "                user={}\n",
    "                user[\"id\"]=json_data[\"id\"]\n",
    "                user[\"name\"]=json_data[\"name\"]\n",
    "                user[\"screen_name\"]=json_data[\"screen_name\"]\n",
    "                user[\"location\"]=json_data[\"location\"]\n",
    "                user[\"followers_count\"]=json_data[\"followers_count\"]\n",
    "                user[\"friends_count\"]=json_data[\"friends_count\"]\n",
    "                user[\"statuses_count\"]=json_data[\"statuses_count\"]\n",
    "\n",
    "                fof.append(user)\n",
    "            following_of_following[f[\"screen_name\"]]=fof\n",
    "except tweepy.TweepError as error: #Le prime volte mi ha tornato TweepError:Unauthorized, ma ora non più\n",
    "    print(error)\n",
    "serialize_json(\"json_5_utenti/random_fof\",\"following_of_following.json\",following_of_following)"
   ]
  },
  {
   "cell_type": "code",
   "execution_count": 1,
   "metadata": {},
   "outputs": [],
   "source": [
    "#TODO: Unire tutti i json in un singolo json sanificato da ripetizioni:\n",
    "    #followers.json\n",
    "    #following.json\n",
    "    #followers_of_followers.json\n",
    "    #following_of_following.json\n",
    "    #SINTASSI per unire dictionaries:\n",
    "        #dict_finale={**d1, **d2, ...}"
   ]
  },
  {
   "cell_type": "code",
   "execution_count": 4,
   "metadata": {},
   "outputs": [],
   "source": [
    "#5 Creazione del grafo\n",
    "in_edges = \n",
    "out_edges = \n",
    "\n",
    "grafo=nx.DiGraph()\n",
    "\n",
    "for user in followers: #works in th\n",
    "    for f in followers[user]:\n",
    "        if f[\"location\"]=\"\":\n",
    "            f[\"location\"]=\"undefined\"\n",
    "        grafo.add_node(f[\"id\"],name=f[\"name\"],screen_name=f[\"screen_name\"],location=f[\"location\"],)\n",
    "       \n",
    "        #i nodi vanno caricati creano un grafo orientato, quindi è da vedere, magari creare degli oggetti con le relative proprietà\n",
    "    \n",
    "#TODO: creare edges tra nodi(struttura del tipo if(nodoA compare in follows di nodoB)then{edge nodoB to nodoA}"
   ]
  },
  {
   "cell_type": "code",
   "execution_count": null,
   "metadata": {},
   "outputs": [],
   "source": [
    "#6 grafo interattivo di base\n",
    "from pyvis.network import Network\n",
    "twitter_graph = nx.read_gpickle(\"data/twitter_graph.pkl\")\n",
    "nt = Network(\n",
    "    height =\"100%\",\n",
    "    width = \"100%\",\n",
    "    bgcolor=\"#222222\",\n",
    "    font_color=\"white\",\n",
    "    heading=\"Twitter Graph\"\n",
    ")\n",
    "nt.barnes_hut()\n",
    "nt.from_nx(twitter_graph)\n",
    "neighbor_map = nt.get_adj_list()\n",
    "for node in nt.nodes:\n",
    "    node[\"value\"] = len(neighbor_map[node[\"id\"]])\n",
    "nt.show(\"twitter_graph.html\")\n"
   ]
  },
  {
   "cell_type": "code",
   "execution_count": null,
   "metadata": {},
   "outputs": [],
   "source": [
    "#7 Proprietà del grafo\n",
    "if nx.is_connected(twitter_graph):\n",
    "    print(\"Il grafo è connesso.\")\n",
    "else:\n",
    "    print(\"Il grafo non è connesso.\")\n",
    "    \n",
    "if nx.is_bipartite(twitter_graph):\n",
    "    print(\"Il grafo è bipartito.\")\n",
    "else:\n",
    "    print(\"Il grafo non è bipartito.\")\n",
    "#8 Distanze sul grafo\n",
    "centro = nx.center(twitter_graph)\n",
    "diametro = nx.diameter(twitter_graph)\n",
    "raggio = nx.radius(twitter_graph)\n",
    "\n",
    "#9 Misure di centralità sul grafo\n",
    "btw_centrality = betweenness_centrality(twitter_graph, nodes)\n",
    "cls_centralitu = closeness_centrality(twitter_graph, nodes)\n",
    "dg_centrality = degree_centrality(twitter_graph, nodes)\n",
    "in_centrality= in_degree_centrality(twitter_graph)\n",
    "out_centrality= out_degree_centrality(twitter_graph)\n",
    "pagerank(twitter_graph)\n",
    "hits(twitter_graph)\n",
    "\n",
    "\n",
    "#Sottografo del nodo damiano10\n",
    "sub_graph_damiano10 = ego_graph(twitter_graph, \"damiano10\")\n",
    "max_clique(sub_graph_damiano10)\n",
    "large_clique_size(sub_graph_damiano10)\n",
    "\n",
    "\n",
    "#11 copertua minima degli archi\n",
    "min_edge_cover(twitter_graph)\n",
    "\n",
    "#12 Small-world-ness\n",
    "omega(twitter_graph)\n",
    "sigma(twitter_graph)\n",
    "\n",
    "#13 Correlazione di Pearson e di Kendall (?)\n",
    "scipy.stats.pearsonr()\n",
    "scipy.stats.kendalltau()"
   ]
  }
 ],
 "metadata": {
  "kernelspec": {
   "display_name": "Python 3",
   "language": "python",
   "name": "python3"
  },
  "language_info": {
   "codemirror_mode": {
    "name": "ipython",
    "version": 3
   },
   "file_extension": ".py",
   "mimetype": "text/x-python",
   "name": "python",
   "nbconvert_exporter": "python",
   "pygments_lexer": "ipython3",
   "version": "3.8.5"
  }
 },
 "nbformat": 4,
 "nbformat_minor": 4
}