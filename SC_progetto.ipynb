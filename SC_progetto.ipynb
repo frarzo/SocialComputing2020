{
 "metadata": {
  "language_info": {
   "codemirror_mode": {
    "name": "ipython",
    "version": 3
   },
   "file_extension": ".py",
   "mimetype": "text/x-python",
   "name": "python",
   "nbconvert_exporter": "python",
   "pygments_lexer": "ipython3",
   "version": "3.8.6-final"
  },
  "orig_nbformat": 2,
  "kernelspec": {
   "name": "Python 3.8.6 64-bit",
   "display_name": "Python 3.8.6 64-bit",
   "metadata": {
    "interpreter": {
     "hash": "417396d8ec5c0b899f10be0760adda55265adc0a3ac39e67006e6aa178ab5310"
    }
   }
  }
 },
 "nbformat": 4,
 "nbformat_minor": 2,
 "cells": [
  {
   "cell_type": "code",
   "execution_count": 3,
   "metadata": {},
   "outputs": [],
   "source": [
    "import tweepy\n",
    "import json\n",
    "import os\n",
    "import time\n",
    "import pprint\n",
    "import requests\n",
    "import random\n",
    "import networkx as nx\n"
   ]
  },
  {
   "cell_type": "code",
   "execution_count": null,
   "metadata": {},
   "outputs": [],
   "source": [
    "\n",
    "path=\"data_proj/\"\n",
    "pp=pprint.PrettyPrinter()\n",
    "\n",
    "def serialize_json(folder, filename, data):\n",
    "    if not os.path.exists(folder):\n",
    "        os.makedirs(folder, exist_ok=True)\n",
    "    with open(f\"{folder}/{filename}\", 'w', encoding='utf-8') as f:\n",
    "        json.dump(data, f, ensure_ascii=False, indent=4)\n",
    "        f.close()\n",
    "    print(f\"Data serialized to path: {folder}/{filename}\")\n",
    "\n",
    "def read_json(path):\n",
    "    if os.path.exists(path):\n",
    "        with open(path, \"r\", encoding=\"utf8\") as file:\n",
    "            data = json.load(file)\n",
    "        print(f\"Data read from path: {path}\")\n",
    "        return data\n",
    "    else:\n",
    "        print(f\"No data found at path: {path}\")\n",
    "        return {}"
   ]
  },
  {
   "cell_type": "code",
   "execution_count": null,
   "metadata": {},
   "outputs": [],
   "source": []
  },
  {
   "cell_type": "code",
   "execution_count": null,
   "metadata": {},
   "outputs": [],
   "source": [
    "api_key=\"x\"\n",
    "api_secret=\"x\"\n",
    "\n",
    "access_token=\"x\"\n",
    "access_secret=\"x\"\n",
    "\n",
    "bearer_token=\"x\""
   ]
  },
  {
   "cell_type": "code",
   "execution_count": null,
   "metadata": {},
   "outputs": [],
   "source": [
    "auth=tweepy.OAuthHandler(api_key,api_secret)\n",
    "auth.set_access_token(access_token,access_secret)\n",
    "api=tweepy.API(auth,wait_on_rate_limit=True,wait_on_rate_limit_notify=True)\n",
    "if(api.verify_credentials):\n",
    "    print(\"Auth success\")\n"
   ]
  },
  {
   "cell_type": "code",
   "execution_count": null,
   "metadata": {},
   "outputs": [],
   "source": [
    "users=[\"mizzaro\",\"damiano10\",\"miccighel_\",\"eglu81\",\"KevinRoitero\"]\n",
    "f_ers=[156,785,331,540,103]\n",
    "f_ing=[331,836,211,621,256]\n",
    "utenti=[]\n",
    "for i in range(0,5):\n",
    "    utente={}\n",
    "    utente[\"name\"]=users[i]\n",
    "    utente[\"followers\"]=f_ers[i]\n",
    "    utente[\"following\"]=f_ing[i]\n",
    "    utenti.append(utente)\n",
    "pp.pprint(utenti)"
   ]
  },
  {
   "cell_type": "code",
   "execution_count": null,
   "metadata": {},
   "outputs": [],
   "source": [
    "#1. Scaricate\n",
    "followers,following={},{}\n",
    "\n",
    "for utente in utenti:\n",
    "    followers_utente,following_utente=[],[]\n",
    "    for item in tweepy.Cursor(\n",
    "        api.followers,\n",
    "        screen_name=utente[\"name\"],\n",
    "        skip_status=True,\n",
    "        include_user_entities=False\n",
    "    ).items():\n",
    "        json_data=item._json\n",
    "        new_follower={}\n",
    "        new_follower[\"id\"]=json_data[\"id\"]\n",
    "        new_follower[\"name\"]=json_data[\"name\"]\n",
    "        new_follower[\"screen_name\"]=json_data[\"screen_name\"]\n",
    "        new_follower[\"location\"]=json_data[\"location\"]\n",
    "        \n",
    "    followers_utente.append(new_follower)\n",
    "\n",
    "\n",
    "    followers[utente[\"name\"]]=followers_utente\n",
    "\n",
    "    for item in tweepy.Cursor(\n",
    "        api.friends,\n",
    "        screen_name=utente[\"name\"],\n",
    "        skip_status=True,\n",
    "        include_user_entities=False\n",
    "    ).items():\n",
    "        json_data=item._json\n",
    "        new_following={}\n",
    "        new_following[\"id\"]=json_data[\"id\"]\n",
    "        new_following[\"name\"]=json_data[\"name\"]\n",
    "        new_following[\"screen_name\"]=json_data[\"screen_name\"]\n",
    "        new_following[\"location\"]=json_data[\"location\"]\n",
    "    \n",
    "    following_utente.append(new_following)\n",
    "\n",
    "    following[utente[\"name\"]]=following_utente\n"
   ]
  },
  {
   "cell_type": "code",
   "execution_count": null,
   "metadata": {},
   "outputs": [],
   "source": [
    "#export to json\n",
    "serialize_json(\"data_proj\",\"followers_5_utenti.json\",followers)\n",
    "serialize_json(\"data_proj\",\"following_5_utenti.json\",following)\n",
    "#manca readjson e istanzia variabili da dati offline"
   ]
  },
  {
   "cell_type": "code",
   "execution_count": null,
   "metadata": {},
   "outputs": [],
   "source": [
    "#2 \n",
    "random_followers_utenti,followers_of_followers={},{}\n",
    "\n",
    "for utente in followers:\n",
    "    #followers={av1:[],av2:[],...}\n",
    "    #utente=\"Iron_Man\",\"thorofficial\",...\n",
    "    random_followers_utenti[utente]=random.sample(followers[utente],5)\n",
    "#result: random_followers_utenti= {\"mizzaro\":[5 utenti {}],\"damiano10\":[5 utenti {}],...}\n",
    "\n",
    "for utente in followers:\n",
    "    for f in random_followers_utenti[utente]:\n",
    "        followers_of_followers[utente]=random.sample(random_followers_utenti[utente],10)    "
   ]
  },
  {
   "cell_type": "code",
   "execution_count": null,
   "metadata": {},
   "outputs": [],
   "source": [
    "#3\n",
    "\n",
    "random_following_utenti,following_of_following={},{}\n",
    "\n",
    "for utente in following:\n",
    "    random_following_utenti[utente]=random.sample(following[utente],5)\n",
    "\n",
    "for utente in following:\n",
    "    for f in random_following_utenti[utente]:\n",
    "        following_of_following[utente]=random.sample(random_following_utenti[utente],10)  \n",
    "\n",
    "\n",
    "#punto 4 già fatto?"
   ]
  },
  {
   "cell_type": "code",
   "execution_count": 4,
   "metadata": {},
   "outputs": [],
   "source": [
    "#5\n",
    "grafo=nx.DiGraph()\n",
    "#come carichiamo i nodi nel grafo? ci sono più dicts di utenti, magari la cui intersezione non è nulla, bisogna sanificare\n",
    "for user in followers: #works in th\n",
    "    for f in followers[user]:\n",
    "        grafo.add_node(f[\"id\"],name=f[\"name\"],screen_name=f[\"screen_name\"],location=f[\"location\"]) #e se location è omessa?\n",
    "\n",
    "#todo: creare edges tra nodi(struttura del tipo if(nodoA compare in follows di nodoB)then{edge nodoB to nodoA}"
   ]
  },
  {
   "cell_type": "code",
   "execution_count": null,
   "metadata": {},
   "outputs": [],
   "source": []
  }
 ]
}