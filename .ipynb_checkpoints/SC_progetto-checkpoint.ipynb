{
 "cells": [
  {
   "cell_type": "code",
   "execution_count": 2,
   "metadata": {
    "collapsed": true,
    "jupyter": {
     "outputs_hidden": true
    }
   },
   "outputs": [
    {
     "name": "stdout",
     "output_type": "stream",
     "text": [
      "Librerie caricate!\n"
     ]
    }
   ],
   "source": [
    "import tweepy\n",
    "import json\n",
    "from itertools import islice\n",
    "import os\n",
    "import time\n",
    "import pprint\n",
    "import requests\n",
    "import random\n",
    "import networkx as nx\n",
    "from networkx.algorithms.approximation import clique\n",
    "import pandas as pd\n",
    "import numpy as np\n",
    "import matplotlib.pyplot as plt\n",
    "from pylab import rcParams\n",
    "from pyvis.network import Network\n",
    "import itertools \n",
    "from scipy import stats\n",
    "\n",
    "print(\"Librerie caricate!\")\n"
   ]
  },
  {
   "cell_type": "code",
   "execution_count": 3,
   "metadata": {
    "collapsed": true,
    "jupyter": {
     "outputs_hidden": true
    }
   },
   "outputs": [],
   "source": [
    "data_folder = \"data_ids\"\n",
    "pp=pprint.PrettyPrinter()\n",
    "\n",
    "def serialize_json(folder, filename, data):\n",
    "    if not os.path.exists(folder):\n",
    "        os.makedirs(folder, exist_ok=True)\n",
    "    with open(f\"{folder}/{filename}\", 'w', encoding='utf-8') as f:\n",
    "        json.dump(data, f, ensure_ascii=False, indent=4)\n",
    "        f.close()\n",
    "    print(f\"Data serialized to path: {folder}/{filename}\")\n",
    "\n",
    "def read_json(path):\n",
    "    if os.path.exists(path):\n",
    "        with open(path, \"r\", encoding=\"utf8\") as file:\n",
    "            data = json.load(file)\n",
    "        print(f\"Data read from path: {path}\")\n",
    "        return data\n",
    "    else:\n",
    "        print(f\"No data found at path: {path}\")\n",
    "        return {}"
   ]
  },
  {
   "cell_type": "code",
   "execution_count": 3,
   "metadata": {
    "collapsed": true,
    "jupyter": {
     "outputs_hidden": true
    }
   },
   "outputs": [
    {
     "name": "stdout",
     "output_type": "stream",
     "text": [
      "Auth success\n"
     ]
    }
   ],
   "source": [
    "#Fase di autenticazione\n",
    "api_key=\"cvoM8D7hXXxlvBXTM8aH9X2ec\"\n",
    "api_secret=\"Uk2UvH0FJY7KaDzkXYLfgiYkA1OuCwbLlGFPyodB5wcQ5bsItN\"\n",
    "access_token=\"3303466053-OLuExo5KcP8UQCVwZwmyakZs8b91Fpl2lMOUDAe\"\n",
    "access_secret=\"1lMXufu42KN8JvJjYT7c0zI3Q57CkN09BxkNXZuNQ0Dej\"\n",
    "bearer_token=\"AAAAAAAAAAAAAAAAAAAAAHsVJQEAAAAAQ4vYb83r6ueD8QvjJ4Zpx9R7Kbw%3DQuLzsmDYOvpff7lRHGXhNJSOXTFuPyOwLHZv7HPSj9WF34h1E8\"\n",
    "\n",
    "auth=tweepy.OAuthHandler(api_key,api_secret)\n",
    "auth.set_access_token(access_token,access_secret)\n",
    "api=tweepy.API(auth,wait_on_rate_limit=True,wait_on_rate_limit_notify=True)\n",
    "if(api.verify_credentials):\n",
    "    print(\"Auth success\")"
   ]
  },
  {
   "cell_type": "code",
   "execution_count": 4,
   "metadata": {
    "collapsed": true,
    "jupyter": {
     "outputs_hidden": true
    }
   },
   "outputs": [],
   "source": [
    "users_screen_name=[\"mizzaro\",\"damiano10\",\"miccighel_\",\"eglu81\",\"KevinRoitero\"]\n",
    "users_id=[18932422, 132646210, 15750573, 19659370, 3036907250]"
   ]
  },
  {
   "cell_type": "code",
   "execution_count": null,
   "metadata": {
    "collapsed": true,
    "jupyter": {
     "outputs_hidden": true
    }
   },
   "outputs": [],
   "source": [
    "#1. Scaricare gli id dei followers e dei following dei 5 account principali\n",
    "followers_ids,following_ids={},{}\n",
    "\n",
    "for utente in users_id:\n",
    "    print(utente)\n",
    "    followers_utente,following_utente=[],[]\n",
    "    for item in tweepy.Cursor(\n",
    "        api.followers,\n",
    "        id=utente,\n",
    "        skip_status=True,\n",
    "        include_user_entities=False\n",
    "    ).items():\n",
    "        json_data=item._json\n",
    "        user={\"id\":json_data[\"id\"]}\n",
    "        time.sleep(181)\n",
    "        followers_utente.append(user)\n",
    "\n",
    "    followers_ids[utente]=followers_utente\n",
    "    \n",
    "\n",
    "    for item in tweepy.Cursor(\n",
    "        api.friends,\n",
    "        id=utente,\n",
    "        skip_status=True,\n",
    "        include_user_entities=False\n",
    "    ).items():\n",
    "        json_data=item._json\n",
    "        user={\"id\":json_data[\"id\"]}\n",
    "        time.sleep(181)\n",
    "        following_utente.append(user)\n",
    "\n",
    "    following_ids[utente]=following_utente\n",
    "\n",
    "print(following_ids)\n",
    "\n",
    "#export to json\n",
    "serialize_json(\"data_ids\",\"followers_5_utenti.json\",followers_ids)\n",
    "serialize_json(\"data_ids\",\"following_5_utenti.json\",following_ids)"
   ]
  },
  {
   "cell_type": "code",
   "execution_count": null,
   "metadata": {
    "collapsed": true,
    "jupyter": {
     "outputs_hidden": true
    }
   },
   "outputs": [],
   "source": [
    "followers_ids, following_ids = [], []\n",
    "\n",
    "# punto 2&3\n",
    "followers_ids = read_json(\"data_ids/followers_5_utenti.json\")\n",
    "following_ids = read_json(\"data_ids/following_5_utenti.json\")\n",
    "\n",
    "# 2\n",
    "random_followers_utenti_ids, followers_of_followers_ids = {}, {}\n",
    "\n",
    "for utente in followers_ids:\n",
    "    random_followers_utenti_ids[utente] = random.sample(followers_ids[utente], 5)\n",
    "# result: random_followers_utenti_ids= {\"mizzaro\":[{}{}{}{}{}],\"damiano10\":[{}...}],...}\n",
    "\n",
    "for utente in following_ids:\n",
    "    random_following_utenti_ids[utente] = random.sample(following_ids[utente], 5)\n",
    "# result: random_following_utenti_ids= {\"mizzaro\":[{}{}{}{}{}],\"damiano10\":[{}...}],...}\n",
    "\n",
    "#Download dei followers dei 10 followers degli utenti random \n",
    "try:\n",
    "    for utente in random_followers_utenti_ids:\n",
    "        for f in random_followers_utenti_ids[utente]:\n",
    "            fof = []\n",
    "            print(\"scarico per \" + str(utente))\n",
    "            for item in tweepy.Cursor(\n",
    "                    api.followers,\n",
    "                    id=f['id'],\n",
    "                    skip_status=True,\n",
    "                    include_user_entities=False\n",
    "            ).items(10):\n",
    "                    time.sleep(10)\n",
    "                    json_data = item._json\n",
    "                    user = {\"id\": json_data[\"id\"]}\n",
    "                    fof.append(user)\n",
    "                    print(\"Downloaded: \" + str(user))\n",
    "\n",
    "\n",
    "            followers_of_followers_ids[f['id']] = fof\n",
    "except tweepy.TweepError as error: \n",
    "    print(error)\n",
    "serialize_json(\"data_ids/finale\", \"followers_of_followers.json\", followers_of_followers_ids)\n",
    "\n",
    "#Download dei following dei 10 following degli utenti random \n",
    "try:\n",
    "    for utente in random_following_utenti_ids:\n",
    "        for f in random_following_utenti_ids[utente]:\n",
    "            fof = []\n",
    "            print(\"scarico per \" + str(utente))\n",
    "            for item in tweepy.Cursor(\n",
    "                    api.friends,\n",
    "                    id=f['id'],\n",
    "                    skip_status=True,\n",
    "                    include_user_entities=False\n",
    "            ).items(10):\n",
    "                time.sleep(10)\n",
    "                json_data = item._json\n",
    "                user = {\"id\": json_data[\"id\"]}\n",
    "                fof.append(user)\n",
    "                print(\"Downloaded: \" + str(user))\n",
    "\n",
    "            following_of_following_ids[f['id']] = fof\n",
    "except tweepy.TweepError as error: \n",
    "    print(error)\n",
    "serialize_json(\"data_ids/finale\", \"following_of_following.json\", following_of_following_ids)"
   ]
  },
  {
   "cell_type": "code",
   "execution_count": 5,
   "metadata": {
    "collapsed": true,
    "jupyter": {
     "outputs_hidden": true
    }
   },
   "outputs": [
    {
     "name": "stdout",
     "output_type": "stream",
     "text": [
      "Data read from path: data_ids/followers_5_utenti.json\n",
      "Data read from path: data_ids/following_5_utenti.json\n",
      "Data read from path: data_ids/followers_of_followers.json\n",
      "Data read from path: data_ids/following_of_following.json\n",
      "Json caricati\n",
      "3103\n"
     ]
    }
   ],
   "source": [
    "#Unione di tutti gli id rilevati e rimozione dei duplicati\n",
    "\n",
    "#Caricamento json contenente tutti gli ID dei nodi interessati\n",
    "followers_ids=read_json(\"data_ids/followers_5_utenti.json\")\n",
    "following_ids=read_json(\"data_ids/following_5_utenti.json\")\n",
    "followers_of_followers_ids=read_json(\"data_ids/followers_of_followers.json\")\n",
    "following_of_following_ids=read_json(\"data_ids/following_of_following.json\")\n",
    "\n",
    "print(\"Json caricati\")\n",
    "\n",
    "lista_json=[followers_ids,following_ids, followers_of_followers_ids,following_of_following_ids]\n",
    "\n",
    "id_nodi_grafo=[]\n",
    "#Eliminazione duplicati e conteggio di essi.\n",
    "for jsonn in lista_json:\n",
    "    for user in jsonn:\n",
    "        for user_id in jsonn[user]:\n",
    "            if not user_id in id_nodi_grafo:\n",
    "                id_nodi_grafo.append(user_id)\n",
    "\n",
    "print(len(id_nodi_grafo))\n"
   ]
  },
  {
   "cell_type": "code",
   "execution_count": null,
   "metadata": {
    "collapsed": true,
    "jupyter": {
     "outputs_hidden": true
    }
   },
   "outputs": [],
   "source": [
    "#4 Scaricare i dati di ogni utente con api.get_user \n",
    "\n",
    "nodes = {}\n",
    "    \n",
    "for user_id in id_nodi_grafo: \n",
    "    #richiamo API GET_USER\n",
    "    utente=api.get_user(id=user_id['id'])._json\n",
    "    node_infos= {} \n",
    "    \n",
    "    node_infos[\"name\"]=utente[\"name\"]\n",
    "    node_infos[\"screen_name\"]=utente[\"screen_name\"]\n",
    "    node_infos[\"location\"]=utente[\"location\"]\n",
    "    node_infos[\"followers_count\"]=utente[\"followers_count\"]\n",
    "    node_infos[\"friends_count\"]=utente[\"friends_count\"]\n",
    "    node_infos[\"statuses_count\"]=utente[\"statuses_count\"]\n",
    "    node_infos[\"created_at\"]=utente[\"created_at\"]\n",
    "   \n",
    "    nodes[user_id['id']] = node_infos\n",
    "print(nodes)\n",
    "print(\"Download dei nodi effettuato\")\n",
    "serialize_json(\"data_ids\", \"nodes_of_twitter_graph.json\", nodes)"
   ]
  },
  {
   "cell_type": "code",
   "execution_count": 9,
   "metadata": {},
   "outputs": [
    {
     "name": "stdout",
     "output_type": "stream",
     "text": [
      "json letto\n",
      "0.0\n",
      "740410382\n",
      "0.0003222687721559781\n",
      "1972411447\n",
      "0.0006445375443119562\n",
      "257691637\n",
      "0.0009668063164679343\n",
      "4893681\n",
      "0.0012890750886239124\n",
      "116897811\n",
      "0.0016113438607798904\n"
     ]
    },
    {
     "ename": "KeyboardInterrupt",
     "evalue": "",
     "output_type": "error",
     "traceback": [
      "\u001b[1;31m---------------------------------------------------------------------------\u001b[0m",
      "\u001b[1;31mKeyboardInterrupt\u001b[0m                         Traceback (most recent call last)",
      "\u001b[1;32m<ipython-input-9-35532890ab7e>\u001b[0m in \u001b[0;36m<module>\u001b[1;34m\u001b[0m\n\u001b[0;32m      9\u001b[0m     \u001b[1;32mfor\u001b[0m \u001b[0mnode_id\u001b[0m \u001b[1;32min\u001b[0m \u001b[0mid_nodi_grafo\u001b[0m\u001b[1;33m:\u001b[0m\u001b[1;33m\u001b[0m\u001b[1;33m\u001b[0m\u001b[0m\n\u001b[0;32m     10\u001b[0m         \u001b[0mprint\u001b[0m\u001b[1;33m(\u001b[0m\u001b[0mcontatore\u001b[0m\u001b[1;33m/\u001b[0m\u001b[0mlen\u001b[0m\u001b[1;33m(\u001b[0m\u001b[0mid_nodi_grafo\u001b[0m\u001b[1;33m)\u001b[0m\u001b[1;33m)\u001b[0m\u001b[1;33m\u001b[0m\u001b[1;33m\u001b[0m\u001b[0m\n\u001b[1;32m---> 11\u001b[1;33m         \u001b[0mtime\u001b[0m\u001b[1;33m.\u001b[0m\u001b[0msleep\u001b[0m\u001b[1;33m(\u001b[0m\u001b[1;36m1\u001b[0m\u001b[1;33m)\u001b[0m\u001b[1;33m\u001b[0m\u001b[1;33m\u001b[0m\u001b[0m\n\u001b[0m\u001b[0;32m     12\u001b[0m         \u001b[1;32mtry\u001b[0m\u001b[1;33m:\u001b[0m\u001b[1;33m\u001b[0m\u001b[1;33m\u001b[0m\u001b[0m\n\u001b[0;32m     13\u001b[0m             \u001b[1;31m#relationship = api.show_friendship(source_id=node_id['id'],target_id=main_user)\u001b[0m\u001b[1;33m\u001b[0m\u001b[1;33m\u001b[0m\u001b[1;33m\u001b[0m\u001b[0m\n",
      "\u001b[1;31mKeyboardInterrupt\u001b[0m: "
     ]
    }
   ],
   "source": [
    "#5 Controllo relazioni di following e follow con la api.show_friendship\n",
    "# Questo è il codice ideale per scaricare con un'unica procedura tutte le relazioni utente - main_user,  \n",
    "# ma realmente è stato modificato il codice per eseguirlo parallelamente per ogni singolo utente da account twitter developper diversi\n",
    "friendships=[]\n",
    "\n",
    "print(\"json letto\")\n",
    "contatore=0\n",
    "for main_user in user_id:\n",
    "    for node_id in id_nodi_grafo:\n",
    "        print(contatore/len(id_nodi_grafo))\n",
    "        time.sleep(1)\n",
    "        try:\n",
    "            #relationship = api.show_friendship(source_id=node_id['id'],target_id=main_user)\n",
    "            relation = relationship[0]\n",
    "            #Controllo nell'oggetto relationship delle relazioni di follow e following\n",
    "            if(relation.following == True): # node follows the user\n",
    "                infos_of_relation={}\n",
    "                infos_of_relation[\"source\"] = node_id['id']\n",
    "                infos_of_relation[\"type\"] = \"following\"\n",
    "                infos_of_relation[\"target\"] = main_user\n",
    "                friendships.append(infos_of_relation)\n",
    "            if(relation.followed_by == True): # user follows the node\n",
    "                infos_of_relation={}\n",
    "                infos_of_relation[\"source\"] = main_user\n",
    "                infos_of_relation[\"type\"] = \"follows\"\n",
    "                infos_of_relation[\"target\"] = node_id['id']\n",
    "                friendships.append(infos_of_relation)\n",
    "        except:\n",
    "            print(node_id['id'])\n",
    "        contatore+=1\n",
    "    \n",
    "\n",
    "serialize_json(\"data_ids\", \"edges_of_twitter_graph.json\", friendships)\n",
    "print(\"Completamento controllo relazioni terminato\")"
   ]
  },
  {
   "cell_type": "code",
   "execution_count": 8,
   "metadata": {},
   "outputs": [
    {
     "name": "stdout",
     "output_type": "stream",
     "text": [
      "Data read from path: data_ids/api_show_friendship/damiano_edges.json\n",
      "Data read from path: data_ids/api_show_friendship/eglu_edges.json\n",
      "Data read from path: data_ids/api_show_friendship/kevin_edges.json\n",
      "Data read from path: data_ids/api_show_friendship/micch_edges.json\n",
      "Data read from path: data_ids/api_show_friendship/mizzaro_edges.json\n",
      "Data serialized to path: data_ids/edges_of_twitter_graph.json\n"
     ]
    }
   ],
   "source": [
    "# Unione delle relazioni scaricate per ogni utente, necessario per parallelizzare il download\n",
    "damiano_edges=read_json(\"data_ids/api_show_friendship/damiano_edges.json\")\n",
    "eglu_edges=read_json(\"data_ids/api_show_friendship/eglu_edges.json\")\n",
    "kevin_edges=read_json(\"data_ids/api_show_friendship/kevin_edges.json\")\n",
    "micch_edges=read_json(\"data_ids/api_show_friendship/micch_edges.json\")\n",
    "mizzaro_edges=read_json(\"data_ids/api_show_friendship/mizzaro_edges.json\")\n",
    "\n",
    "lista_edges=[damiano_edges,eglu_edges, kevin_edges,micch_edges,mizzaro_edges]\n",
    "\n",
    "main_edges = []\n",
    "#Unione json\n",
    "for main in lista_edges:\n",
    "    for relation in main:\n",
    "        main_edges.append(relation)\n",
    "serialize_json(\"data_ids\", \"edges_of_twitter_graph.json\", main_edges)"
   ]
  },
  {
   "cell_type": "code",
   "execution_count": 10,
   "metadata": {},
   "outputs": [
    {
     "name": "stdout",
     "output_type": "stream",
     "text": [
      "Data read from path: data_ids/nodes_of_twitter_graph.json\n",
      "3103\n",
      "1922\n"
     ]
    }
   ],
   "source": [
    "#5.2 Creazione del grafo\n",
    "twitter_graph = nx.DiGraph(team=\"Loris Parata 144338, Francesco Arzon 142439, Lorenzo Dal Fabbro, Matteo Galvan\")\n",
    "#Aggiunta dei nodi al grafo\n",
    "nodes_of_graph=read_json(\"data_ids/nodes_of_twitter_graph.json\")\n",
    "for ids, node in nodes_of_graph.items():\n",
    "    twitter_graph.add_node(ids,\n",
    "                               id= ids,\n",
    "                               title= node[\"name\"],\n",
    "                               color =\"#ffff00\",\n",
    "                               physics=False,#rende la visualizzazone del grafo più leggera\n",
    "                               name=node['name'],\n",
    "                               screen_name=node['screen_name'],\n",
    "                               location=node['location'],\n",
    "                               followers_count=node[\"followers_count\"],\n",
    "                               following_count=node[\"friends_count\"],\n",
    "                               number_of_twitts=node[\"statuses_count\"],\n",
    "                               data_creazione_profilo=node[\"created_at\"]\n",
    "                              ) \n",
    "#Aggiunta degli archi al grafo, con controllo se è presente nel grafo il nodo source, per rilevare eventuali incongurenze\n",
    "for edge in main_edges:\n",
    "    if edge['type'] == 'following': #non follows, a causa dell'inversione source - targhet nella funzione di show_frienship\n",
    "        if twitter_graph.has_node(str(edge['source'])):\n",
    "            twitter_graph.add_edge(str(edge['source']),str(edge['target']))\n",
    "        else:\n",
    "            print(\"Relazione relativa ad un nodo non presente nel grafo\")\n",
    "            \n",
    "print(twitter_graph.number_of_nodes())\n",
    "print(twitter_graph.number_of_edges())"
   ]
  },
  {
   "cell_type": "code",
   "execution_count": 8,
   "metadata": {
    "collapsed": true,
    "jupyter": {
     "outputs_hidden": true
    }
   },
   "outputs": [],
   "source": [
    "#6 Creazione grafo interattivo con pyvis\n",
    "\n",
    "def disegna_grafo(grafo):\n",
    "    nt = Network(\n",
    "        height =\"80%\",\n",
    "        width = \"80%\",\n",
    "        bgcolor=\"#222222\",\n",
    "        font_color=\"white\",\n",
    "        heading= grafo,\n",
    "        directed=True,\n",
    "    )\n",
    "    nt.show_buttons(filter_=None)\n",
    "    nt.from_nx(grafo)\n",
    "   # nt.barnes_hut()\n",
    "    nt.inherit_edge_colors(False)\n",
    "  # nt.set_edge_smooth(\"continuous\") #cambia formato di visualizzazione degli archi\n",
    "    neighbor_map = nt.get_adj_list()\n",
    "    \n",
    "    for node in nt.nodes:\n",
    "            node[\"value\"] = len(neighbor_map[node[\"id\"]])\n",
    "           # print(str(node[\"id\"])+\":\"+ str(node[\"value\"]))\n",
    "         \n",
    "    nt.show(\"grafo.html\")\n",
    "\n",
    "disegna_grafo(twitter_graph)"
   ]
  },
  {
   "cell_type": "code",
   "execution_count": 11,
   "metadata": {},
   "outputs": [
    {
     "name": "stdout",
     "output_type": "stream",
     "text": [
      "Numero nodi del grafo completo\n",
      "3103\n",
      "Numero archi del grafo completo\n",
      "1922\n",
      "Numero di nodi eliminati\n",
      "1424\n",
      "Numero dei nodi del grafo connesso\n",
      "1679\n"
     ]
    }
   ],
   "source": [
    "#Rimozione dei nodi sconnessi per ottenere un sotto grafo connesso\n",
    "print(\"Numero nodi del grafo completo\")\n",
    "print(twitter_graph.number_of_nodes())\n",
    "print(\"Numero archi del grafo completo\")\n",
    "print(twitter_graph.number_of_edges())\n",
    "\n",
    "#Creo una copia del grafo\n",
    "sub_twitter_graph =twitter_graph.copy()\n",
    "\n",
    "nodes_to_delete=[]\n",
    "#Controlla se un nodo ha out_degree = 0,\n",
    "#perchè ci interessano solo i nodi che seguono un account principale\n",
    "for node_id in twitter_graph.nodes():\n",
    "    if(twitter_graph.out_degree[node_id] == 0):\n",
    "        nodes_to_delete.append(node_id)\n",
    "sub_twitter_graph.remove_nodes_from(nodes_to_delete)\n",
    "\n",
    "print(\"Numero di nodi eliminati\")        \n",
    "print(len(nodes_to_delete))\n",
    "print(\"Numero dei nodi del grafo connesso\")\n",
    "print(sub_twitter_graph.number_of_nodes())\n",
    "\n",
    "#disegna_grafo(sub_twitter_graph)"
   ]
  },
  {
   "cell_type": "code",
   "execution_count": 12,
   "metadata": {},
   "outputs": [
    {
     "name": "stdout",
     "output_type": "stream",
     "text": [
      "Il grafo non è connesso.\n",
      "Il grafo non è bipartito.\n"
     ]
    }
   ],
   "source": [
    "#7 Proprietà del grafo completo\n",
    "undirected_twitter_graph= nx.to_undirected(twitter_graph)\n",
    "\n",
    "if nx.is_connected(undirected_twitter_graph):\n",
    "    print(\"Il grafo è connesso.\")\n",
    "else:\n",
    "    print(\"Il grafo non è connesso.\")\n",
    "    \n",
    "if nx.is_bipartite(undirected_twitter_graph):\n",
    "    print(\"Il grafo è bipartito.\")\n",
    "else:\n",
    "    print(\"Il grafo non è bipartito.\")\n",
    "    "
   ]
  },
  {
   "cell_type": "code",
   "execution_count": 13,
   "metadata": {},
   "outputs": [
    {
     "name": "stdout",
     "output_type": "stream",
     "text": [
      "Il grafo è connesso.\n",
      "Il grafo non è bipartito.\n"
     ]
    }
   ],
   "source": [
    "#7.1 Proprietà del grafo connesso\n",
    "undirected_sub_twitter_graph= nx.to_undirected(sub_twitter_graph)\n",
    "if nx.is_connected(undirected_sub_twitter_graph):\n",
    "    print(\"Il grafo è connesso.\")\n",
    "else:\n",
    "    print(\"Il grafo non è connesso.\")\n",
    "    \n",
    "if nx.is_bipartite(undirected_sub_twitter_graph):\n",
    "    print(\"Il grafo è bipartito.\")\n",
    "else:\n",
    "    print(\"Il grafo non è bipartito.\")"
   ]
  },
  {
   "cell_type": "code",
   "execution_count": 24,
   "metadata": {
    "collapsed": true,
    "jupyter": {
     "outputs_hidden": true
    }
   },
   "outputs": [
    {
     "name": "stdout",
     "output_type": "stream",
     "text": [
      "['3036907250', '19659370', '132646210']\n",
      "4\n",
      "2\n"
     ]
    }
   ],
   "source": [
    "#8 Distanze sul grafo connesso, ma unidirected, perchè non è fortemente connesso\n",
    "centro = nx.center(undirected_sub_twitter_graph)\n",
    "print(centro)\n",
    "diametro = nx.diameter(undirected_sub_twitter_graph)\n",
    "print(diametro)\n",
    "raggio = nx.radius(undirected_sub_twitter_graph)\n",
    "print(raggio)"
   ]
  },
  {
   "cell_type": "code",
   "execution_count": 27,
   "metadata": {},
   "outputs": [
    {
     "name": "stdout",
     "output_type": "stream",
     "text": [
      "[('132646210', 0.25499677627337203), ('19659370', 0.17504835589941972), ('15750573', 0.10863958736299162), ('18932422', 0.05190199871050935), ('3036907250', 0.03417150225660864), ('94732055', 0.0012894906511927789), ('14451127', 0.0012894906511927789), ('810893744593584128', 0.0012894906511927789), ('125483940', 0.0012894906511927789), ('2190533245', 0.0012894906511927789), ('2309104237', 0.0012894906511927789), ('341000847', 0.0012894906511927789), ('338989477', 0.0012894906511927789), ('249661913', 0.0012894906511927789), ('2601589496', 0.0012894906511927789), ('15455450', 0.0012894906511927789), ('130671142', 0.0012894906511927789), ('16868154', 0.0012894906511927789), ('78969930', 0.0012894906511927789), ('393675585', 0.0012894906511927789), ('1556357336', 0.0012894906511927789), ('116897811', 0.0009671179883945841), ('514667085', 0.0009671179883945841), ('920700510306529280', 0.0009671179883945841), ('923649456981135367', 0.0009671179883945841), ('890413838578966528', 0.0009671179883945841), ('406303880', 0.0009671179883945841), ('21192987', 0.0009671179883945841), ('3916694415', 0.0009671179883945841), ('384127183', 0.0009671179883945841), ('101045085', 0.0009671179883945841), ('400804254', 0.0009671179883945841), ('25134469', 0.0009671179883945841), ('3041372326', 0.0009671179883945841), ('202853969', 0.0009671179883945841), ('485865743', 0.0009671179883945841), ('144779689', 0.0009671179883945841), ('217377296', 0.0009671179883945841), ('251614179', 0.0009671179883945841), ('17743823', 0.0009671179883945841), ('2475224005', 0.0009671179883945841), ('66722583', 0.0009671179883945841), ('54875928', 0.0009671179883945841), ('25481069', 0.0009671179883945841), ('201275909', 0.0009671179883945841), ('1339637532', 0.0009671179883945841), ('93781753', 0.0009671179883945841), ('544737616', 0.0009671179883945841), ('78269677', 0.0009671179883945841), ('147949965', 0.0009671179883945841), ('18417153', 0.0009671179883945841), ('48677032', 0.0009671179883945841), ('1265795638551212032', 0.0009671179883945841), ('59217922', 0.0009671179883945841), ('947311503216066560', 0.0009671179883945841), ('934851466082357249', 0.0009671179883945841), ('3102522680', 0.0009671179883945841), ('39697728', 0.0009671179883945841), ('391867472', 0.0009671179883945841), ('1972411447', 0.0006447453255963894), ('257691637', 0.0006447453255963894), ('4893681', 0.0006447453255963894), ('551951577', 0.0006447453255963894), ('4149032843', 0.0006447453255963894), ('4188048952', 0.0006447453255963894), ('1527607790', 0.0006447453255963894), ('1477918760', 0.0006447453255963894), ('748315519674048512', 0.0006447453255963894), ('65915718', 0.0006447453255963894), ('3761306416', 0.0006447453255963894), ('115091858', 0.0006447453255963894), ('127894322', 0.0006447453255963894), ('269301403', 0.0006447453255963894), ('466894113', 0.0006447453255963894), ('151303125', 0.0006447453255963894), ('1121934716', 0.0006447453255963894), ('32942338', 0.0006447453255963894), ('2515540081', 0.0006447453255963894), ('193309907', 0.0006447453255963894), ('15378449', 0.0006447453255963894), ('3128829965', 0.0006447453255963894), ('720212700', 0.0006447453255963894), ('14761223', 0.0006447453255963894), ('495430242', 0.0006447453255963894), ('2226776658', 0.0006447453255963894), ('114146587', 0.0006447453255963894), ('496430086', 0.0006447453255963894), ('46131106', 0.0006447453255963894), ('1850752598', 0.0006447453255963894), ('1365711606', 0.0006447453255963894), ('44973000', 0.0006447453255963894), ('19677430', 0.0006447453255963894), ('1322931373', 0.0006447453255963894), ('175011974', 0.0006447453255963894), ('1002193231', 0.0006447453255963894), ('119512412', 0.0006447453255963894), ('11892372', 0.0006447453255963894), ('209100025', 0.0006447453255963894), ('332134740', 0.0006447453255963894), ('15159648', 0.0006447453255963894), ('538326631', 0.0006447453255963894), ('52059998', 0.0006447453255963894), ('1276832114856656896', 0.0006447453255963894), ('1182908622113660929', 0.0006447453255963894), ('778856886', 0.0006447453255963894), ('301178769', 0.0006447453255963894), ('1168865024674357248', 0.0006447453255963894), ('702309206', 0.0006447453255963894), ('1214864022572425217', 0.0006447453255963894), ('6355402', 0.0006447453255963894), ('906922846412267521', 0.0006447453255963894), ('918943909811769344', 0.0006447453255963894), ('1187585868493537280', 0.0006447453255963894), ('1155634482629791746', 0.0006447453255963894), ('743908703863083008', 0.0006447453255963894), ('305474242', 0.0006447453255963894), ('234321271', 0.0006447453255963894), ('320568816', 0.0006447453255963894), ('18874262', 0.0006447453255963894), ('17018894', 0.0006447453255963894), ('22132438', 0.0006447453255963894), ('1014561', 0.0006447453255963894), ('82774113', 0.0006447453255963894), ('224209816', 0.0006447453255963894), ('40576466', 0.0006447453255963894), ('2165646554', 0.0006447453255963894), ('1019221160742014976', 0.0006447453255963894), ('2336440088', 0.0006447453255963894), ('53250831', 0.0006447453255963894), ('3332231', 0.0006447453255963894), ('994886035086761984', 0.0006447453255963894), ('3033312071', 0.0006447453255963894), ('885944485615738881', 0.0006447453255963894), ('269930404', 0.0006447453255963894), ('78269397', 0.0006447453255963894), ('771681197781053440', 0.0006447453255963894), ('4874161629', 0.0006447453255963894), ('824812182114164736', 0.0006447453255963894), ('1053292116', 0.0006447453255963894), ('356775978', 0.0006447453255963894), ('717348489215262724', 0.0006447453255963894), ('273561140', 0.0006447453255963894), ('4829277184', 0.0006447453255963894), ('1851621', 0.0006447453255963894), ('16136933', 0.0006447453255963894), ('427431943', 0.0006447453255963894), ('3946229836', 0.0006447453255963894), ('3364147025', 0.0006447453255963894), ('607311335', 0.0006447453255963894), ('103546343', 0.0006447453255963894), ('92071137', 0.0006447453255963894), ('1494913634', 0.0006447453255963894), ('264132382', 0.0006447453255963894), ('99015174', 0.0006447453255963894), ('337745478', 0.0006447453255963894), ('784824594', 0.0006447453255963894), ('606265290', 0.0006447453255963894), ('58880930', 0.0006447453255963894), ('146195370', 0.0006447453255963894), ('788839271239184385', 0.0006447453255963894), ('3293206151', 0.0006447453255963894), ('51023058', 0.0006447453255963894), ('262236415', 0.0006447453255963894), ('157920406', 0.0006447453255963894), ('2382305514', 0.0006447453255963894), ('458399248', 0.0006447453255963894), ('350164545', 0.0006447453255963894), ('740410382', 0.0003223726627981947), ('91697719', 0.0003223726627981947), ('2988561009', 0.0003223726627981947), ('950377242483343360', 0.0003223726627981947), ('4863093417', 0.0003223726627981947), ('2924886188', 0.0003223726627981947), ('3095317209', 0.0003223726627981947), ('153764165', 0.0003223726627981947), ('386908329', 0.0003223726627981947), ('2826508686', 0.0003223726627981947), ('203070657', 0.0003223726627981947), ('3513346942', 0.0003223726627981947), ('2206179206', 0.0003223726627981947), ('3510179057', 0.0003223726627981947), ('5734242', 0.0003223726627981947), ('3331252607', 0.0003223726627981947), ('2926864059', 0.0003223726627981947), ('39048846', 0.0003223726627981947), ('1527461', 0.0003223726627981947), ('2346714074', 0.0003223726627981947), ('216703645', 0.0003223726627981947), ('17554109', 0.0003223726627981947), ('22597445', 0.0003223726627981947), ('46922123', 0.0003223726627981947), ('140093780', 0.0003223726627981947), ('3035143127', 0.0003223726627981947), ('533149076', 0.0003223726627981947), ('500950174', 0.0003223726627981947), ('3145021135', 0.0003223726627981947), ('469119337', 0.0003223726627981947), ('36448779', 0.0003223726627981947), ('126352685', 0.0003223726627981947), ('3130548765', 0.0003223726627981947), ('40030538', 0.0003223726627981947), ('828489290', 0.0003223726627981947), ('2700931729', 0.0003223726627981947), ('301941645', 0.0003223726627981947), ('2568478126', 0.0003223726627981947), ('2587811778', 0.0003223726627981947), ('2457267950', 0.0003223726627981947), ('331076291', 0.0003223726627981947), ('2318099514', 0.0003223726627981947), ('248135933', 0.0003223726627981947), ('127489643', 0.0003223726627981947), ('22026924', 0.0003223726627981947), ('146159328', 0.0003223726627981947), ('17078917', 0.0003223726627981947), ('237738266', 0.0003223726627981947), ('17076764', 0.0003223726627981947), ('831922344', 0.0003223726627981947), ('604779041', 0.0003223726627981947), ('108441778', 0.0003223726627981947), ('70422392', 0.0003223726627981947), ('350152586', 0.0003223726627981947), ('68475307', 0.0003223726627981947), ('400831970', 0.0003223726627981947), ('14266044', 0.0003223726627981947), ('18115497', 0.0003223726627981947), ('66369383', 0.0003223726627981947), ('14488805', 0.0003223726627981947), ('55044770', 0.0003223726627981947), ('60884801', 0.0003223726627981947), ('53654934', 0.0003223726627981947), ('6763242', 0.0003223726627981947), ('49945724', 0.0003223726627981947), ('7415172', 0.0003223726627981947), ('746052642925740033', 0.0003223726627981947), ('1320513201071484928', 0.0003223726627981947), ('240478658', 0.0003223726627981947), ('1371476814', 0.0003223726627981947), ('994300581291282432', 0.0003223726627981947), ('108207407', 0.0003223726627981947), ('1313137113454579717', 0.0003223726627981947), ('1301869598481014787', 0.0003223726627981947), ('1046614848', 0.0003223726627981947), ('2893424886', 0.0003223726627981947), ('14616323', 0.0003223726627981947), ('2842688136', 0.0003223726627981947), ('1256240551118200835', 0.0003223726627981947), ('301709965', 0.0003223726627981947), ('632815919', 0.0003223726627981947), ('748176824', 0.0003223726627981947), ('1535439446', 0.0003223726627981947), ('18202677', 0.0003223726627981947), ('1233080567727521792', 0.0003223726627981947), ('257111136', 0.0003223726627981947), ('1232460508160094209', 0.0003223726627981947), ('2981463028', 0.0003223726627981947), ('2960317030', 0.0003223726627981947), ('181348220', 0.0003223726627981947), ('1369078711', 0.0003223726627981947), ('22585506', 0.0003223726627981947), ('433873132', 0.0003223726627981947), ('167735563', 0.0003223726627981947), ('1081076050061213697', 0.0003223726627981947), ('1306824555420213249', 0.0003223726627981947), ('1064940934528421888', 0.0003223726627981947), ('544875915', 0.0003223726627981947), ('37162329', 0.0003223726627981947), ('1287104705185939456', 0.0003223726627981947), ('354009660', 0.0003223726627981947), ('915167646240325632', 0.0003223726627981947), ('961808198', 0.0003223726627981947), ('1245923843119575041', 0.0003223726627981947), ('623575404', 0.0003223726627981947), ('1212987379692081153', 0.0003223726627981947), ('103835763', 0.0003223726627981947), ('1609328383', 0.0003223726627981947), ('1690763647', 0.0003223726627981947), ('75525450', 0.0003223726627981947), ('1052291485901697024', 0.0003223726627981947), ('1289974182755762176', 0.0003223726627981947), ('2867784412', 0.0003223726627981947), ('2186834214', 0.0003223726627981947), ('1280838371682779136', 0.0003223726627981947), ('812055605510803456', 0.0003223726627981947), ('11773812', 0.0003223726627981947), ('948669952843595776', 0.0003223726627981947), ('925565433679298560', 0.0003223726627981947), ('103761767', 0.0003223726627981947), ('1168926603855958017', 0.0003223726627981947), ('2451712820', 0.0003223726627981947), ('484733763', 0.0003223726627981947), ('1228678952', 0.0003223726627981947), ('87473622', 0.0003223726627981947), ('193935341', 0.0003223726627981947), ('229601276', 0.0003223726627981947), ('160246849', 0.0003223726627981947), ('1019194066855006208', 0.0003223726627981947), ('831290691712004096', 0.0003223726627981947), ('1253984770083692544', 0.0003223726627981947), ('4890000754', 0.0003223726627981947), ('1251059396991311872', 0.0003223726627981947), ('1251108504653361152', 0.0003223726627981947), ('1251034648492138498', 0.0003223726627981947), ('1251232344947613701', 0.0003223726627981947), ('1251073078211178496', 0.0003223726627981947), ('1077734311799984128', 0.0003223726627981947), ('1255539999467958272', 0.0003223726627981947), ('101818541', 0.0003223726627981947), ('61143806', 0.0003223726627981947), ('33970089', 0.0003223726627981947), ('814980524200566784', 0.0003223726627981947), ('1148595838664552451', 0.0003223726627981947), ('1238826270', 0.0003223726627981947), ('755513278625898496', 0.0003223726627981947), ('1245061044847947777', 0.0003223726627981947), ('2522143308', 0.0003223726627981947), ('1605951265', 0.0003223726627981947), ('998681467696885761', 0.0003223726627981947), ('38048603', 0.0003223726627981947), ('25037133', 0.0003223726627981947), ('47681517', 0.0003223726627981947), ('1204339794471538688', 0.0003223726627981947), ('1219230275198058497', 0.0003223726627981947), ('1171878193114025987', 0.0003223726627981947), ('15068044', 0.0003223726627981947), ('427330274', 0.0003223726627981947), ('247943231', 0.0003223726627981947), ('2604894992', 0.0003223726627981947), ('1582645148', 0.0003223726627981947), ('828064288417779712', 0.0003223726627981947), ('154138518', 0.0003223726627981947), ('84036295', 0.0003223726627981947), ('2492690671', 0.0003223726627981947), ('2424680826', 0.0003223726627981947), ('1194379349803319298', 0.0003223726627981947), ('299807081', 0.0003223726627981947), ('1070352023449669632', 0.0003223726627981947), ('1110855455696314368', 0.0003223726627981947), ('1054280867512705025', 0.0003223726627981947), ('2343425496', 0.0003223726627981947), ('515192228', 0.0003223726627981947), ('409922330', 0.0003223726627981947), ('131111665', 0.0003223726627981947), ('13360372', 0.0003223726627981947), ('1178221893616308224', 0.0003223726627981947), ('87242603', 0.0003223726627981947), ('1183933523129970689', 0.0003223726627981947), ('4460137405', 0.0003223726627981947), ('87985586', 0.0003223726627981947), ('1179011991563915264', 0.0003223726627981947), ('618193431', 0.0003223726627981947), ('790451965', 0.0003223726627981947), ('1168762828607508480', 0.0003223726627981947), ('1111730640762875907', 0.0003223726627981947), ('1067977726118682625', 0.0003223726627981947), ('975115762712096768', 0.0003223726627981947), ('533584357', 0.0003223726627981947), ('1169945329053130753', 0.0003223726627981947), ('807251568961744896', 0.0003223726627981947), ('760799156256382976', 0.0003223726627981947), ('1166366776625467393', 0.0003223726627981947), ('896036165350019073', 0.0003223726627981947), ('996170598056263683', 0.0003223726627981947), ('1099250750155354114', 0.0003223726627981947), ('874632132353826816', 0.0003223726627981947), ('711001600567828481', 0.0003223726627981947), ('6459362', 0.0003223726627981947), ('1930184042', 0.0003223726627981947), ('928151539893420032', 0.0003223726627981947), ('849902720827875330', 0.0003223726627981947), ('188029486', 0.0003223726627981947), ('242868086', 0.0003223726627981947), ('2983902143', 0.0003223726627981947), ('20926161', 0.0003223726627981947), ('185263153', 0.0003223726627981947), ('54580934', 0.0003223726627981947), ('899783769854320640', 0.0003223726627981947), ('1141316975324536832', 0.0003223726627981947), ('125721127', 0.0003223726627981947), ('86754006', 0.0003223726627981947), ('1144823372158767104', 0.0003223726627981947), ('1033944831918104576', 0.0003223726627981947), ('1094001009188397057', 0.0003223726627981947), ('1017171853914333185', 0.0003223726627981947), ('3230093066', 0.0003223726627981947), ('1166221754', 0.0003223726627981947), ('1120424520773505028', 0.0003223726627981947), ('1081289442671902720', 0.0003223726627981947), ('758771866500816896', 0.0003223726627981947), ('1121364987178618880', 0.0003223726627981947), ('82364810', 0.0003223726627981947), ('82541893', 0.0003223726627981947), ('1114432920121376768', 0.0003223726627981947), ('774324193928351744', 0.0003223726627981947), ('2874803443', 0.0003223726627981947), ('1108685535088771073', 0.0003223726627981947), ('50706020', 0.0003223726627981947), ('1267637312', 0.0003223726627981947), ('1107588341124337666', 0.0003223726627981947), ('1107254048896548864', 0.0003223726627981947), ('4793796869', 0.0003223726627981947), ('871920132641173504', 0.0003223726627981947), ('1102341617371963392', 0.0003223726627981947), ('1101500498564313090', 0.0003223726627981947), ('156322219', 0.0003223726627981947), ('70900164', 0.0003223726627981947), ('3775401076', 0.0003223726627981947), ('4228354103', 0.0003223726627981947), ('3305766383', 0.0003223726627981947), ('1090911182591086592', 0.0003223726627981947), ('563947963', 0.0003223726627981947), ('822431809', 0.0003223726627981947), ('904533569749508097', 0.0003223726627981947), ('9719522', 0.0003223726627981947), ('1081241209622822913', 0.0003223726627981947), ('3232640646', 0.0003223726627981947), ('1077863989202247681', 0.0003223726627981947), ('243082126', 0.0003223726627981947), ('2882893927', 0.0003223726627981947), ('822405576504344576', 0.0003223726627981947), ('1721425735', 0.0003223726627981947), ('308799838', 0.0003223726627981947), ('827392886', 0.0003223726627981947), ('713164296604090368', 0.0003223726627981947), ('1065937815022837760', 0.0003223726627981947), ('272376633', 0.0003223726627981947), ('761153954809913344', 0.0003223726627981947), ('108989193', 0.0003223726627981947), ('6778812', 0.0003223726627981947), ('1040575154424893441', 0.0003223726627981947), ('101711550', 0.0003223726627981947), ('1471694196', 0.0003223726627981947), ('49911968', 0.0003223726627981947), ('778982023415291904', 0.0003223726627981947), ('870764041660190720', 0.0003223726627981947), ('4694535756', 0.0003223726627981947), ('13568892', 0.0003223726627981947), ('2279201814', 0.0003223726627981947), ('876785354', 0.0003223726627981947), ('1016764586228412421', 0.0003223726627981947), ('1014974716359081988', 0.0003223726627981947), ('28776166', 0.0003223726627981947), ('3865043177', 0.0003223726627981947), ('327301533', 0.0003223726627981947), ('75392682', 0.0003223726627981947), ('3272004860', 0.0003223726627981947), ('822367881547550720', 0.0003223726627981947), ('1255799724', 0.0003223726627981947), ('998279534947586048', 0.0003223726627981947), ('2608840453', 0.0003223726627981947), ('777648349', 0.0003223726627981947), ('972987874613366784', 0.0003223726627981947), ('1426135280', 0.0003223726627981947), ('984208484328763395', 0.0003223726627981947), ('374433827', 0.0003223726627981947), ('360783415', 0.0003223726627981947), ('14417382', 0.0003223726627981947), ('709493676121042945', 0.0003223726627981947), ('984363152958685184', 0.0003223726627981947), ('4652730673', 0.0003223726627981947), ('15675384', 0.0003223726627981947), ('19626509', 0.0003223726627981947), ('874530424575336449', 0.0003223726627981947), ('946591233954033664', 0.0003223726627981947), ('44583317', 0.0003223726627981947), ('972494379754688518', 0.0003223726627981947), ('36966461', 0.0003223726627981947), ('109399833', 0.0003223726627981947), ('4770618972', 0.0003223726627981947), ('969392138076041216', 0.0003223726627981947), ('4712272236', 0.0003223726627981947), ('955493794669121537', 0.0003223726627981947), ('200466843', 0.0003223726627981947), ('580335026', 0.0003223726627981947), ('950072183031771136', 0.0003223726627981947), ('949642445083459585', 0.0003223726627981947), ('838701223113068544', 0.0003223726627981947), ('942684527754989568', 0.0003223726627981947), ('9180262', 0.0003223726627981947), ('936713855878787074', 0.0003223726627981947), ('940901351759994880', 0.0003223726627981947), ('2310390416', 0.0003223726627981947), ('90109488', 0.0003223726627981947), ('911514942335012864', 0.0003223726627981947), ('4897300665', 0.0003223726627981947), ('2462926410', 0.0003223726627981947), ('809848752', 0.0003223726627981947), ('34642043', 0.0003223726627981947), ('608052226', 0.0003223726627981947), ('917738789233217536', 0.0003223726627981947), ('37069005', 0.0003223726627981947), ('45412709', 0.0003223726627981947), ('195719387', 0.0003223726627981947), ('716947512154853376', 0.0003223726627981947), ('429259920', 0.0003223726627981947), ('370597692', 0.0003223726627981947), ('14978945', 0.0003223726627981947), ('889657085868298240', 0.0003223726627981947), ('889461651673690112', 0.0003223726627981947), ('33113669', 0.0003223726627981947), ('2252260178', 0.0003223726627981947), ('872544691442466816', 0.0003223726627981947), ('891193292385288193', 0.0003223726627981947), ('3310895591', 0.0003223726627981947), ('887627169765130241', 0.0003223726627981947), ('1598324696', 0.0003223726627981947), ('880523990883848192', 0.0003223726627981947), ('3406278903', 0.0003223726627981947), ('2289023460', 0.0003223726627981947), ('877823703249068032', 0.0003223726627981947), ('873162092819488769', 0.0003223726627981947), ('2613410444', 0.0003223726627981947), ('838930153665363968', 0.0003223726627981947), ('151490538', 0.0003223726627981947), ('837214523547353089', 0.0003223726627981947), ('856509174473248768', 0.0003223726627981947), ('709476815090413568', 0.0003223726627981947), ('1557796237', 0.0003223726627981947), ('327066310', 0.0003223726627981947), ('850170113504325632', 0.0003223726627981947), ('14294701', 0.0003223726627981947), ('245345590', 0.0003223726627981947), ('26240101', 0.0003223726627981947), ('36927290', 0.0003223726627981947), ('839149376643686401', 0.0003223726627981947), ('434835815', 0.0003223726627981947), ('832267168276475904', 0.0003223726627981947), ('833624768800817152', 0.0003223726627981947), ('831393481465556992', 0.0003223726627981947), ('781751446362468353', 0.0003223726627981947), ('801059640951836672', 0.0003223726627981947), ('824886467721703425', 0.0003223726627981947), ('101353399', 0.0003223726627981947), ('20314655', 0.0003223726627981947), ('3902819477', 0.0003223726627981947), ('821666958680719361', 0.0003223726627981947), ('1409748306', 0.0003223726627981947), ('44871098', 0.0003223726627981947), ('121709074', 0.0003223726627981947), ('848687484', 0.0003223726627981947), ('1086604922', 0.0003223726627981947), ('16549460', 0.0003223726627981947), ('14794109', 0.0003223726627981947), ('289560192', 0.0003223726627981947), ('188221066', 0.0003223726627981947), ('2579832252', 0.0003223726627981947), ('253734620', 0.0003223726627981947), ('774076183461892096', 0.0003223726627981947), ('4347423515', 0.0003223726627981947), ('12414242', 0.0003223726627981947), ('4873684235', 0.0003223726627981947), ('173431194', 0.0003223726627981947), ('789107706397196288', 0.0003223726627981947), ('84060395', 0.0003223726627981947), ('256644046', 0.0003223726627981947), ('771427581992185856', 0.0003223726627981947), ('771036399671705600', 0.0003223726627981947), ('769823624308092928', 0.0003223726627981947), ('23761309', 0.0003223726627981947), ('2373145729', 0.0003223726627981947), ('16514335', 0.0003223726627981947), ('2475572071', 0.0003223726627981947), ('748525684578914304', 0.0003223726627981947), ('11235202', 0.0003223726627981947), ('742643587108605952', 0.0003223726627981947), ('4485809179', 0.0003223726627981947), ('725639768663576576', 0.0003223726627981947), ('3943475233', 0.0003223726627981947), ('312809493', 0.0003223726627981947), ('1468634743', 0.0003223726627981947), ('1974656552', 0.0003223726627981947), ('29277960', 0.0003223726627981947), ('2438493248', 0.0003223726627981947), ('1072910977', 0.0003223726627981947), ('4025609913', 0.0003223726627981947), ('494181406', 0.0003223726627981947), ('16387111', 0.0003223726627981947), ('231845623', 0.0003223726627981947), ('1028693496', 0.0003223726627981947), ('2239534928', 0.0003223726627981947), ('1108108225', 0.0003223726627981947), ('330917707', 0.0003223726627981947), ('3341697257', 0.0003223726627981947), ('263247974', 0.0003223726627981947), ('829115622', 0.0003223726627981947), ('3892710581', 0.0003223726627981947), ('700999301514686464', 0.0003223726627981947), ('41974909', 0.0003223726627981947), ('704185699415695360', 0.0003223726627981947), ('4833032980', 0.0003223726627981947), ('16279554', 0.0003223726627981947), ('4157611', 0.0003223726627981947), ('211457876', 0.0003223726627981947), ('2218900633', 0.0003223726627981947), ('3375552377', 0.0003223726627981947), ('3099020035', 0.0003223726627981947), ('3317549893', 0.0003223726627981947), ('3317585532', 0.0003223726627981947), ('4196200462', 0.0003223726627981947), ('2353222800', 0.0003223726627981947), ('337797562', 0.0003223726627981947), ('626282563', 0.0003223726627981947), ('68701660', 0.0003223726627981947), ('858519894', 0.0003223726627981947), ('2995188801', 0.0003223726627981947), ('3298523377', 0.0003223726627981947), ('3225904081', 0.0003223726627981947), ('2847332414', 0.0003223726627981947), ('376725527', 0.0003223726627981947), ('3339046197', 0.0003223726627981947), ('3243155048', 0.0003223726627981947), ('3318895763', 0.0003223726627981947), ('3160109092', 0.0003223726627981947), ('2615258306', 0.0003223726627981947), ('3292784453', 0.0003223726627981947), ('2378438060', 0.0003223726627981947), ('1708488139', 0.0003223726627981947), ('3221752726', 0.0003223726627981947), ('561277962', 0.0003223726627981947), ('231722071', 0.0003223726627981947), ('828625466', 0.0003223726627981947), ('2550133394', 0.0003223726627981947), ('396680992', 0.0003223726627981947), ('71167669', 0.0003223726627981947), ('2371689380', 0.0003223726627981947), ('2986013849', 0.0003223726627981947), ('562222972', 0.0003223726627981947), ('48457557', 0.0003223726627981947), ('1669374084', 0.0003223726627981947), ('2251030016', 0.0003223726627981947), ('2996506102', 0.0003223726627981947), ('2968801294', 0.0003223726627981947), ('2209003450', 0.0003223726627981947), ('1567085737', 0.0003223726627981947), ('352248891', 0.0003223726627981947), ('2890969865', 0.0003223726627981947), ('747665252', 0.0003223726627981947), ('7368332', 0.0003223726627981947), ('22289618', 0.0003223726627981947), ('308226281', 0.0003223726627981947), ('561226226', 0.0003223726627981947), ('2854283403', 0.0003223726627981947), ('2269512362', 0.0003223726627981947), ('47456957', 0.0003223726627981947), ('15581480', 0.0003223726627981947), ('68443905', 0.0003223726627981947), ('312131328', 0.0003223726627981947), ('212276623', 0.0003223726627981947), ('14657345', 0.0003223726627981947), ('2786141198', 0.0003223726627981947), ('392248167', 0.0003223726627981947), ('45794386', 0.0003223726627981947), ('197608061', 0.0003223726627981947), ('313207740', 0.0003223726627981947), ('518957746', 0.0003223726627981947), ('2653043425', 0.0003223726627981947), ('7851812', 0.0003223726627981947), ('20225119', 0.0003223726627981947), ('2685989162', 0.0003223726627981947), ('2422189058', 0.0003223726627981947), ('137745777', 0.0003223726627981947), ('2734776646', 0.0003223726627981947), ('290705256', 0.0003223726627981947), ('130256377', 0.0003223726627981947), ('435727485', 0.0003223726627981947), ('564663512', 0.0003223726627981947), ('1929876336', 0.0003223726627981947), ('25624456', 0.0003223726627981947), ('84508784', 0.0003223726627981947), ('1622761998', 0.0003223726627981947), ('2155233830', 0.0003223726627981947), ('2189994866', 0.0003223726627981947), ('1546005282', 0.0003223726627981947), ('223380941', 0.0003223726627981947), ('194324277', 0.0003223726627981947), ('15045590', 0.0003223726627981947), ('90626911', 0.0003223726627981947), ('2427734180', 0.0003223726627981947), ('156204739', 0.0003223726627981947), ('32193354', 0.0003223726627981947), ('27375578', 0.0003223726627981947), ('2512218333', 0.0003223726627981947), ('2461022395', 0.0003223726627981947), ('2386023224', 0.0003223726627981947), ('159240329', 0.0003223726627981947), ('213248607', 0.0003223726627981947), ('2209729028', 0.0003223726627981947), ('126274094', 0.0003223726627981947), ('2213823000', 0.0003223726627981947), ('430570985', 0.0003223726627981947), ('1379105228', 0.0003223726627981947), ('2215006026', 0.0003223726627981947), ('142293342', 0.0003223726627981947), ('159342110', 0.0003223726627981947), ('104435358', 0.0003223726627981947), ('60959947', 0.0003223726627981947), ('2189885600', 0.0003223726627981947), ('220378862', 0.0003223726627981947), ('2272376472', 0.0003223726627981947), ('21782750', 0.0003223726627981947), ('1907881', 0.0003223726627981947), ('27224166', 0.0003223726627981947), ('2203092098', 0.0003223726627981947), ('234058792', 0.0003223726627981947), ('1062729727', 0.0003223726627981947), ('206292087', 0.0003223726627981947), ('2190723061', 0.0003223726627981947), ('79067151', 0.0003223726627981947), ('1911204626', 0.0003223726627981947), ('16249403', 0.0003223726627981947), ('268262631', 0.0003223726627981947), ('135508015', 0.0003223726627981947), ('50269516', 0.0003223726627981947), ('135801478', 0.0003223726627981947), ('891186338', 0.0003223726627981947), ('1932160213', 0.0003223726627981947), ('26711278', 0.0003223726627981947), ('567383651', 0.0003223726627981947), ('279903146', 0.0003223726627981947), ('30981656', 0.0003223726627981947), ('10277212', 0.0003223726627981947), ('1685766865', 0.0003223726627981947), ('195525587', 0.0003223726627981947), ('18506971', 0.0003223726627981947), ('33505544', 0.0003223726627981947), ('856684314', 0.0003223726627981947), ('934087003', 0.0003223726627981947), ('728354894', 0.0003223726627981947), ('14614664', 0.0003223726627981947), ('1553685114', 0.0003223726627981947), ('281945877', 0.0003223726627981947), ('1517068255', 0.0003223726627981947), ('1357389505', 0.0003223726627981947), ('190821474', 0.0003223726627981947), ('60832858', 0.0003223726627981947), ('1441677282', 0.0003223726627981947), ('17354555', 0.0003223726627981947), ('17657107', 0.0003223726627981947), ('17730501', 0.0003223726627981947), ('1231314888', 0.0003223726627981947), ('10868922', 0.0003223726627981947), ('281079339', 0.0003223726627981947), ('190006526', 0.0003223726627981947), ('54682074', 0.0003223726627981947), ('234017215', 0.0003223726627981947), ('139507464', 0.0003223726627981947), ('622716896', 0.0003223726627981947), ('8260242', 0.0003223726627981947), ('1116622891', 0.0003223726627981947), ('562363', 0.0003223726627981947), ('422016668', 0.0003223726627981947), ('271370579', 0.0003223726627981947), ('250344120', 0.0003223726627981947), ('551776311', 0.0003223726627981947), ('181954043', 0.0003223726627981947), ('980046830', 0.0003223726627981947), ('285332715', 0.0003223726627981947), ('18855622', 0.0003223726627981947), ('250059685', 0.0003223726627981947), ('132453147', 0.0003223726627981947), ('17580853', 0.0003223726627981947), ('53645823', 0.0003223726627981947), ('1015930135', 0.0003223726627981947), ('1014722412', 0.0003223726627981947), ('216919545', 0.0003223726627981947), ('388144129', 0.0003223726627981947), ('618551148', 0.0003223726627981947), ('124319949', 0.0003223726627981947), ('241167877', 0.0003223726627981947), ('406932163', 0.0003223726627981947), ('951844723', 0.0003223726627981947), ('43641631', 0.0003223726627981947), ('887159288', 0.0003223726627981947), ('97880420', 0.0003223726627981947), ('84560252', 0.0003223726627981947), ('20640711', 0.0003223726627981947), ('256879792', 0.0003223726627981947), ('48235638', 0.0003223726627981947), ('47978543', 0.0003223726627981947), ('16423883', 0.0003223726627981947), ('802182440', 0.0003223726627981947), ('133550954', 0.0003223726627981947), ('78912282', 0.0003223726627981947), ('50257296', 0.0003223726627981947), ('475026877', 0.0003223726627981947), ('214272214', 0.0003223726627981947), ('606214834', 0.0003223726627981947), ('617400195', 0.0003223726627981947), ('68084193', 0.0003223726627981947), ('443602279', 0.0003223726627981947), ('126062970', 0.0003223726627981947), ('17773969', 0.0003223726627981947), ('14265641', 0.0003223726627981947), ('14784786', 0.0003223726627981947), ('12160482', 0.0003223726627981947), ('14494523', 0.0003223726627981947), ('200083348', 0.0003223726627981947), ('17268402', 0.0003223726627981947), ('80979483', 0.0003223726627981947), ('514189512', 0.0003223726627981947), ('45123871', 0.0003223726627981947), ('2025101', 0.0003223726627981947), ('13507112', 0.0003223726627981947), ('485447824', 0.0003223726627981947), ('49287656', 0.0003223726627981947), ('73705954', 0.0003223726627981947), ('113339417', 0.0003223726627981947), ('313348339', 0.0003223726627981947), ('492216731', 0.0003223726627981947), ('272623675', 0.0003223726627981947), ('274134534', 0.0003223726627981947), ('19204539', 0.0003223726627981947), ('190778398', 0.0003223726627981947), ('467852343', 0.0003223726627981947), ('289284899', 0.0003223726627981947), ('195658424', 0.0003223726627981947), ('249695469', 0.0003223726627981947), ('18843675', 0.0003223726627981947), ('111373125', 0.0003223726627981947), ('442245081', 0.0003223726627981947), ('423567471', 0.0003223726627981947), ('9571292', 0.0003223726627981947), ('431192409', 0.0003223726627981947), ('69218199', 0.0003223726627981947), ('14339792', 0.0003223726627981947), ('201194687', 0.0003223726627981947), ('408986233', 0.0003223726627981947), ('51215183', 0.0003223726627981947), ('40389352', 0.0003223726627981947), ('136088911', 0.0003223726627981947), ('391247062', 0.0003223726627981947), ('245907225', 0.0003223726627981947), ('95630269', 0.0003223726627981947), ('382393', 0.0003223726627981947), ('253587073', 0.0003223726627981947), ('226298062', 0.0003223726627981947), ('16102444', 0.0003223726627981947), ('11649702', 0.0003223726627981947), ('361115646', 0.0003223726627981947), ('202740551', 0.0003223726627981947), ('65605637', 0.0003223726627981947), ('46932973', 0.0003223726627981947), ('11069462', 0.0003223726627981947), ('258722513', 0.0003223726627981947), ('10627282', 0.0003223726627981947), ('284099686', 0.0003223726627981947), ('12755532', 0.0003223726627981947), ('181720081', 0.0003223726627981947), ('6015842', 0.0003223726627981947), ('166499569', 0.0003223726627981947), ('135047672', 0.0003223726627981947), ('37622738', 0.0003223726627981947), ('126718539', 0.0003223726627981947), ('23999540', 0.0003223726627981947), ('199298537', 0.0003223726627981947), ('17278474', 0.0003223726627981947), ('201854523', 0.0003223726627981947), ('151208743', 0.0003223726627981947), ('191728278', 0.0003223726627981947), ('142724647', 0.0003223726627981947), ('54959293', 0.0003223726627981947), ('23055193', 0.0003223726627981947), ('36659063', 0.0003223726627981947), ('18052550', 0.0003223726627981947), ('26092949', 0.0003223726627981947), ('24897144', 0.0003223726627981947), ('29639366', 0.0003223726627981947), ('76937615', 0.0003223726627981947), ('52869134', 0.0003223726627981947), ('101013918', 0.0003223726627981947), ('139377848', 0.0003223726627981947), ('18869136', 0.0003223726627981947), ('131947210', 0.0003223726627981947), ('28312691', 0.0003223726627981947), ('34698700', 0.0003223726627981947), ('112099606', 0.0003223726627981947), ('1855871', 0.0003223726627981947), ('1118909833942577153', 0.0003223726627981947), ('2572511777', 0.0003223726627981947), ('369085369', 0.0003223726627981947), ('1320653768346816512', 0.0003223726627981947), ('1218287414965350401', 0.0003223726627981947), ('700064764', 0.0003223726627981947), ('1064203950717583360', 0.0003223726627981947), ('1084900963306098689', 0.0003223726627981947), ('1037864733360226304', 0.0003223726627981947), ('1035807940719112192', 0.0003223726627981947), ('1023655925742268426', 0.0003223726627981947), ('1401748656', 0.0003223726627981947), ('959849838212014081', 0.0003223726627981947), ('636089336', 0.0003223726627981947), ('390380093', 0.0003223726627981947), ('844218954088435712', 0.0003223726627981947), ('194989299', 0.0003223726627981947), ('948483885209477121', 0.0003223726627981947), ('898161154169679873', 0.0003223726627981947), ('71502653', 0.0003223726627981947), ('918798040282091520', 0.0003223726627981947), ('920563781616496641', 0.0003223726627981947), ('945020688', 0.0003223726627981947), ('780874432927719424', 0.0003223726627981947), ('903217429555359744', 0.0003223726627981947), ('899166691652972544', 0.0003223726627981947), ('897568340075479040', 0.0003223726627981947), ('896676717603028992', 0.0003223726627981947), ('884047713372975104', 0.0003223726627981947), ('866900373302378503', 0.0003223726627981947), ('860098587287588864', 0.0003223726627981947), ('731124359117590528', 0.0003223726627981947), ('859698369765179392', 0.0003223726627981947), ('85813091', 0.0003223726627981947), ('2321117354', 0.0003223726627981947), ('857570979022876672', 0.0003223726627981947), ('2636910597', 0.0003223726627981947), ('852054291049316352', 0.0003223726627981947), ('1653261366', 0.0003223726627981947), ('848152044137574401', 0.0003223726627981947), ('3512256616', 0.0003223726627981947), ('839446682819563520', 0.0003223726627981947), ('838141984053284864', 0.0003223726627981947), ('838131126002728960', 0.0003223726627981947), ('151581782', 0.0003223726627981947), ('832361946154401792', 0.0003223726627981947), ('828683626372009985', 0.0003223726627981947), ('3030560968', 0.0003223726627981947), ('1377476875', 0.0003223726627981947), ('4707064313', 0.0003223726627981947), ('824249522389970944', 0.0003223726627981947), ('822933216206188544', 0.0003223726627981947), ('14359747', 0.0003223726627981947), ('806101991109890048', 0.0003223726627981947), ('717756832240902144', 0.0003223726627981947), ('796368494342316032', 0.0003223726627981947), ('787338664477134848', 0.0003223726627981947), ('790342394675888128', 0.0003223726627981947), ('780788089966829568', 0.0003223726627981947), ('789736108896751616', 0.0003223726627981947), ('2544161559', 0.0003223726627981947), ('748179418397421568', 0.0003223726627981947), ('780174132', 0.0003223726627981947), ('68351679', 0.0003223726627981947), ('744114034660773888', 0.0003223726627981947), ('65587580', 0.0003223726627981947), ('398537509', 0.0003223726627981947), ('739565869433524225', 0.0003223726627981947), ('720750427147341824', 0.0003223726627981947), ('1904734980', 0.0003223726627981947), ('3025618094', 0.0003223726627981947), ('882605036', 0.0003223726627981947), ('713395522095210496', 0.0003223726627981947), ('712614852263542784', 0.0003223726627981947), ('943676329', 0.0003223726627981947), ('737882640', 0.0003223726627981947), ('714365137365426176', 0.0003223726627981947), ('714783310954774529', 0.0003223726627981947), ('436122215', 0.0003223726627981947), ('706431707885477888', 0.0003223726627981947), ('705504146808565760', 0.0003223726627981947), ('4928034543', 0.0003223726627981947), ('702513144782950400', 0.0003223726627981947), ('3237012607', 0.0003223726627981947), ('1582911193', 0.0003223726627981947), ('4854858064', 0.0003223726627981947), ('4739335047', 0.0003223726627981947), ('4718039356', 0.0003223726627981947), ('3988215194', 0.0003223726627981947), ('4385501957', 0.0003223726627981947), ('334516778', 0.0003223726627981947), ('3892691301', 0.0003223726627981947), ('3751854082', 0.0003223726627981947), ('203866616', 0.0003223726627981947), ('520133735', 0.0003223726627981947), ('3319270312', 0.0003223726627981947), ('476514758', 0.0003223726627981947), ('469115517', 0.0003223726627981947), ('406260699', 0.0003223726627981947), ('3242397351', 0.0003223726627981947), ('1605423500', 0.0003223726627981947), ('3226059106', 0.0003223726627981947), ('3197088767', 0.0003223726627981947), ('3165380261', 0.0003223726627981947), ('1351611290', 0.0003223726627981947), ('2881046435', 0.0003223726627981947), ('54541583', 0.0003223726627981947), ('3007913925', 0.0003223726627981947), ('2987533553', 0.0003223726627981947), ('2328843320', 0.0003223726627981947), ('2900424513', 0.0003223726627981947), ('2895307672', 0.0003223726627981947), ('2785709353', 0.0003223726627981947), ('852962413', 0.0003223726627981947), ('2872651869', 0.0003223726627981947), ('2797743527', 0.0003223726627981947), ('517818047', 0.0003223726627981947), ('2803495736', 0.0003223726627981947), ('628623778', 0.0003223726627981947), ('487786548', 0.0003223726627981947), ('2176025565', 0.0003223726627981947), ('2754814433', 0.0003223726627981947), ('1728885823', 0.0003223726627981947), ('2754412213', 0.0003223726627981947), ('2607919231', 0.0003223726627981947), ('2735046987', 0.0003223726627981947), ('2714310207', 0.0003223726627981947), ('436837074', 0.0003223726627981947), ('202626872', 0.0003223726627981947), ('377344523', 0.0003223726627981947), ('6979832', 0.0003223726627981947), ('1004615060', 0.0003223726627981947), ('2525616956', 0.0003223726627981947), ('2560958309', 0.0003223726627981947), ('234070123', 0.0003223726627981947), ('2544647385', 0.0003223726627981947), ('2244880545', 0.0003223726627981947), ('147299961', 0.0003223726627981947), ('2381066016', 0.0003223726627981947), ('256353770', 0.0003223726627981947), ('1497795582', 0.0003223726627981947), ('1269448278', 0.0003223726627981947), ('2328954662', 0.0003223726627981947), ('2147987488', 0.0003223726627981947), ('944443345', 0.0003223726627981947), ('348011201', 0.0003223726627981947), ('1877046548', 0.0003223726627981947), ('358026989', 0.0003223726627981947), ('1934192923', 0.0003223726627981947), ('809193212', 0.0003223726627981947), ('1677808003', 0.0003223726627981947), ('1629889939', 0.0003223726627981947), ('1620225060', 0.0003223726627981947), ('1578022897', 0.0003223726627981947), ('1280804221', 0.0003223726627981947), ('1523858262', 0.0003223726627981947), ('121492869', 0.0003223726627981947), ('1109067043', 0.0003223726627981947), ('39721490', 0.0003223726627981947), ('299659731', 0.0003223726627981947), ('1043021486', 0.0003223726627981947), ('1079473267', 0.0003223726627981947), ('1284129738', 0.0003223726627981947), ('375820392', 0.0003223726627981947), ('1074807847', 0.0003223726627981947), ('1202308734', 0.0003223726627981947), ('1148229403', 0.0003223726627981947), ('184817606', 0.0003223726627981947), ('1089302341', 0.0003223726627981947), ('1037384052', 0.0003223726627981947), ('104633187', 0.0003223726627981947), ('1009253378', 0.0003223726627981947), ('960887748', 0.0003223726627981947), ('934228950', 0.0003223726627981947), ('904174368', 0.0003223726627981947), ('925220088', 0.0003223726627981947), ('370102769', 0.0003223726627981947), ('294119630', 0.0003223726627981947), ('851254609', 0.0003223726627981947), ('419946721', 0.0003223726627981947), ('174991185', 0.0003223726627981947), ('436038865', 0.0003223726627981947), ('579115459', 0.0003223726627981947), ('803003521', 0.0003223726627981947), ('8762122', 0.0003223726627981947), ('220017829', 0.0003223726627981947), ('39618125', 0.0003223726627981947), ('190161488', 0.0003223726627981947), ('616572834', 0.0003223726627981947), ('586366163', 0.0003223726627981947), ('343998886', 0.0003223726627981947), ('150732625', 0.0003223726627981947), ('624208322', 0.0003223726627981947), ('616564407', 0.0003223726627981947), ('420316063', 0.0003223726627981947), ('449616976', 0.0003223726627981947), ('96127287', 0.0003223726627981947), ('577243493', 0.0003223726627981947), ('150346051', 0.0003223726627981947), ('73926321', 0.0003223726627981947), ('479798490', 0.0003223726627981947), ('566703294', 0.0003223726627981947), ('563979425', 0.0003223726627981947), ('441676899', 0.0003223726627981947), ('293483941', 0.0003223726627981947), ('540985738', 0.0003223726627981947), ('253973566', 0.0003223726627981947), ('106505501', 0.0003223726627981947), ('555461978', 0.0003223726627981947), ('417189950', 0.0003223726627981947), ('482995387', 0.0003223726627981947), ('66821479', 0.0003223726627981947), ('24932781', 0.0003223726627981947), ('464907377', 0.0003223726627981947), ('527454176', 0.0003223726627981947), ('469631198', 0.0003223726627981947), ('394665897', 0.0003223726627981947), ('377571301', 0.0003223726627981947), ('220020080', 0.0003223726627981947), ('67383602', 0.0003223726627981947), ('304540433', 0.0003223726627981947), ('384759698', 0.0003223726627981947), ('315707871', 0.0003223726627981947), ('197623145', 0.0003223726627981947), ('450594910', 0.0003223726627981947), ('403677666', 0.0003223726627981947), ('409166947', 0.0003223726627981947), ('176870844', 0.0003223726627981947), ('277667306', 0.0003223726627981947), ('102609059', 0.0003223726627981947), ('79764713', 0.0003223726627981947), ('123678691', 0.0003223726627981947), ('146116918', 0.0003223726627981947), ('130667410', 0.0003223726627981947), ('136142062', 0.0003223726627981947), ('119406189', 0.0003223726627981947), ('122408887', 0.0003223726627981947), ('114782375', 0.0003223726627981947), ('107751300', 0.0003223726627981947), ('95745203', 0.0003223726627981947), ('95267165', 0.0003223726627981947), ('84854764', 0.0003223726627981947), ('85700509', 0.0003223726627981947), ('85428593', 0.0003223726627981947), ('79128388', 0.0003223726627981947), ('83566575', 0.0003223726627981947), ('58558979', 0.0003223726627981947), ('61187211', 0.0003223726627981947), ('15657398', 0.0003223726627981947), ('50607971', 0.0003223726627981947), ('65468350', 0.0003223726627981947), ('65423884', 0.0003223726627981947), ('63051202', 0.0003223726627981947), ('62952214', 0.0003223726627981947), ('52671862', 0.0003223726627981947), ('14183423', 0.0003223726627981947), ('59913797', 0.0003223726627981947), ('55612967', 0.0003223726627981947), ('40903402', 0.0003223726627981947), ('52414554', 0.0003223726627981947), ('37139722', 0.0003223726627981947), ('45101319', 0.0003223726627981947), ('46092394', 0.0003223726627981947), ('47567281', 0.0003223726627981947), ('73343', 0.0003223726627981947), ('33168385', 0.0003223726627981947), ('33105342', 0.0003223726627981947), ('46394850', 0.0003223726627981947), ('16113777', 0.0003223726627981947), ('46508246', 0.0003223726627981947), ('25860326', 0.0003223726627981947), ('20460664', 0.0003223726627981947), ('26329801', 0.0003223726627981947), ('43526978', 0.0003223726627981947), ('40380303', 0.0003223726627981947), ('24888653', 0.0003223726627981947), ('15862919', 0.0003223726627981947), ('42614814', 0.0003223726627981947), ('36049907', 0.0003223726627981947), ('38277726', 0.0003223726627981947), ('32246103', 0.0003223726627981947), ('44652450', 0.0003223726627981947), ('44595708', 0.0003223726627981947), ('26549850', 0.0003223726627981947), ('37048037', 0.0003223726627981947), ('39781270', 0.0003223726627981947), ('39889364', 0.0003223726627981947), ('43926213', 0.0003223726627981947), ('43961874', 0.0003223726627981947), ('30030112', 0.0003223726627981947), ('34690221', 0.0003223726627981947), ('43839644', 0.0003223726627981947), ('36347948', 0.0003223726627981947), ('37105355', 0.0003223726627981947), ('33677856', 0.0003223726627981947), ('19710651', 0.0003223726627981947), ('28077022', 0.0003223726627981947), ('26212951', 0.0003223726627981947), ('17917382', 0.0003223726627981947), ('27007409', 0.0003223726627981947), ('28316908', 0.0003223726627981947), ('27018274', 0.0003223726627981947), ('16079826', 0.0003223726627981947), ('17955611', 0.0003223726627981947), ('20605844', 0.0003223726627981947), ('19395637', 0.0003223726627981947), ('18238570', 0.0003223726627981947), ('15637569', 0.0003223726627981947), ('16739331', 0.0003223726627981947), ('16684149', 0.0003223726627981947), ('16611773', 0.0003223726627981947), ('7170002', 0.0003223726627981947), ('14957053', 0.0003223726627981947), ('12243', 0.0003223726627981947), ('16136478', 0.0003223726627981947), ('12486432', 0.0003223726627981947), ('6107292', 0.0003223726627981947), ('5869132', 0.0003223726627981947), ('5894962', 0.0003223726627981947), ('813286', 0.0003223726627981947), ('14125868', 0.0003223726627981947), ('73001375', 0.0003223726627981947), ('333597222', 0.0003223726627981947), ('569203915', 0.0003223726627981947), ('877108837475655680', 0.0003223726627981947), ('51934480', 0.0003223726627981947), ('2807461219', 0.0003223726627981947), ('268025507', 0.0003223726627981947), ('249255635', 0.0003223726627981947), ('13284672', 0.0003223726627981947), ('373974821', 0.0003223726627981947), ('117712651', 0.0003223726627981947), ('464868829', 0.0003223726627981947), ('16925097', 0.0003223726627981947), ('1145584490594443264', 0.0003223726627981947), ('1071412460', 0.0003223726627981947), ('248064213', 0.0003223726627981947), ('1196193239713353732', 0.0003223726627981947), ('47987831', 0.0003223726627981947), ('277298681', 0.0003223726627981947), ('2577967370', 0.0003223726627981947), ('1301154075434606598', 0.0003223726627981947), ('581406453', 0.0003223726627981947), ('3279064394', 0.0003223726627981947), ('1297170244658552838', 0.0003223726627981947), ('1296322367053082624', 0.0003223726627981947), ('1030464891830902784', 0.0003223726627981947), ('352650313', 0.0003223726627981947), ('2301908191', 0.0003223726627981947), ('72102865', 0.0003223726627981947), ('966024156574662656', 0.0003223726627981947), ('248721193', 0.0003223726627981947), ('833597084167122945', 0.0003223726627981947), ('761072228028911618', 0.0003223726627981947), ('2166763549', 0.0003223726627981947), ('1061582051449557003', 0.0003223726627981947), ('4042462396', 0.0003223726627981947), ('2877993331', 0.0003223726627981947), ('157238371', 0.0003223726627981947), ('35749835', 0.0003223726627981947), ('16621479', 0.0003223726627981947), ('1898912480', 0.0003223726627981947), ('2278288488', 0.0003223726627981947), ('158297618', 0.0003223726627981947), ('49719781', 0.0003223726627981947), ('219728708', 0.0003223726627981947), ('2427769760', 0.0003223726627981947), ('1189525564715089920', 0.0003223726627981947), ('383365753', 0.0003223726627981947), ('1106015165969924096', 0.0003223726627981947), ('78807415', 0.0003223726627981947), ('2527017636', 0.0003223726627981947), ('17015268', 0.0003223726627981947), ('2576448008', 0.0003223726627981947), ('1004448369140551682', 0.0003223726627981947), ('1206594224537448449', 0.0003223726627981947), ('77200220', 0.0003223726627981947), ('19690273', 0.0003223726627981947), ('3257676018', 0.0003223726627981947), ('2903217440', 0.0003223726627981947), ('49556240', 0.0003223726627981947), ('53079180', 0.0003223726627981947), ('2409117643', 0.0003223726627981947), ('977585064', 0.0003223726627981947), ('1162690737516863494', 0.0003223726627981947), ('17465774', 0.0003223726627981947), ('1222193343737794560', 0.0003223726627981947), ('1040124415151726592', 0.0003223726627981947), ('111801456', 0.0003223726627981947), ('1140163756267192321', 0.0003223726627981947), ('17383073', 0.0003223726627981947), ('4831430475', 0.0003223726627981947), ('1211825303388995584', 0.0003223726627981947), ('1228726773078208512', 0.0003223726627981947), ('1136467769199910912', 0.0003223726627981947), ('1230692054092529664', 0.0003223726627981947), ('34999723', 0.0003223726627981947), ('179571184', 0.0003223726627981947), ('1640671358', 0.0003223726627981947), ('338526004', 0.0003223726627981947), ('252411935', 0.0003223726627981947), ('803909558431313920', 0.0003223726627981947), ('18728897', 0.0003223726627981947), ('1187226845155999749', 0.0003223726627981947), ('1174325520294715392', 0.0003223726627981947), ('1734575215', 0.0003223726627981947), ('605027292', 0.0003223726627981947), ('48354997', 0.0003223726627981947), ('253609062', 0.0003223726627981947), ('22826489', 0.0003223726627981947), ('119459238', 0.0003223726627981947), ('3075691', 0.0003223726627981947), ('1077070220332740608', 0.0003223726627981947), ('1190682302977859584', 0.0003223726627981947), ('308843719', 0.0003223726627981947), ('2832694608', 0.0003223726627981947), ('826837132325027841', 0.0003223726627981947), ('1284042607', 0.0003223726627981947), ('477030336', 0.0003223726627981947), ('938473643373481985', 0.0003223726627981947), ('801934486023782400', 0.0003223726627981947), ('7295362', 0.0003223726627981947), ('30420908', 0.0003223726627981947), ('434236851', 0.0003223726627981947), ('1124623431377543169', 0.0003223726627981947), ('386277982', 0.0003223726627981947), ('465693357', 0.0003223726627981947), ('1894582058', 0.0003223726627981947), ('940441783', 0.0003223726627981947), ('769507902897856512', 0.0003223726627981947), ('3233792564', 0.0003223726627981947), ('2831695553', 0.0003223726627981947), ('27366114', 0.0003223726627981947), ('725387616', 0.0003223726627981947), ('512785206', 0.0003223726627981947), ('1148895885729947648', 0.0003223726627981947), ('1140577345973170177', 0.0003223726627981947), ('12151932', 0.0003223726627981947), ('2864356347', 0.0003223726627981947), ('48448084', 0.0003223726627981947), ('2214711331', 0.0003223726627981947), ('1138704090106646528', 0.0003223726627981947), ('30339571', 0.0003223726627981947), ('298982411', 0.0003223726627981947), ('93903085', 0.0003223726627981947), ('534290225', 0.0003223726627981947), ('17600799', 0.0003223726627981947), ('837051215339008000', 0.0003223726627981947), ('982276165992935426', 0.0003223726627981947), ('91440853', 0.0003223726627981947), ('4883900442', 0.0003223726627981947), ('2315608478', 0.0003223726627981947), ('28245224', 0.0003223726627981947), ('1080724857552199682', 0.0003223726627981947), ('1708743114', 0.0003223726627981947), ('32856732', 0.0003223726627981947), ('2932027868', 0.0003223726627981947), ('801372548940398593', 0.0003223726627981947), ('16710690', 0.0003223726627981947), ('15518172', 0.0003223726627981947), ('600067712', 0.0003223726627981947), ('14208224', 0.0003223726627981947), ('743856512', 0.0003223726627981947), ('390324658', 0.0003223726627981947), ('1065173952664952837', 0.0003223726627981947), ('10752242', 0.0003223726627981947), ('137394430', 0.0003223726627981947), ('1049203448783278080', 0.0003223726627981947), ('793688995918024704', 0.0003223726627981947), ('631705640', 0.0003223726627981947), ('343928585', 0.0003223726627981947), ('915721853833900032', 0.0003223726627981947), ('377983647', 0.0003223726627981947), ('815628453613621248', 0.0003223726627981947), ('53340169', 0.0003223726627981947), ('219293337', 0.0003223726627981947), ('3435577992', 0.0003223726627981947), ('770233588721868802', 0.0003223726627981947), ('153327232', 0.0003223726627981947), ('2989739661', 0.0003223726627981947), ('852083180182147072', 0.0003223726627981947), ('615595875', 0.0003223726627981947), ('3081585501', 0.0003223726627981947), ('796877583455555584', 0.0003223726627981947), ('199175962', 0.0003223726627981947), ('843009630812995584', 0.0003223726627981947), ('932582571338321920', 0.0003223726627981947), ('327032058', 0.0003223726627981947), ('924426975330160641', 0.0003223726627981947), ('361719507', 0.0003223726627981947), ('354801923', 0.0003223726627981947), ('793483735018504192', 0.0003223726627981947), ('80269062', 0.0003223726627981947), ('14103970', 0.0003223726627981947), ('933679231220850688', 0.0003223726627981947), ('77436536', 0.0003223726627981947), ('14575354', 0.0003223726627981947), ('450842550', 0.0003223726627981947), ('977250301', 0.0003223726627981947), ('44860754', 0.0003223726627981947), ('64732883', 0.0003223726627981947), ('949493208702099456', 0.0003223726627981947), ('45827605', 0.0003223726627981947), ('941478255789457408', 0.0003223726627981947), ('188756842', 0.0003223726627981947), ('917421341359464450', 0.0003223726627981947), ('911454651417088000', 0.0003223726627981947), ('918158086858211329', 0.0003223726627981947), ('264103867', 0.0003223726627981947), ('917259707236208640', 0.0003223726627981947), ('143187995', 0.0003223726627981947), ('431210487', 0.0003223726627981947), ('917284226269052928', 0.0003223726627981947), ('114738098', 0.0003223726627981947), ('606667727', 0.0003223726627981947), ('908589103737950208', 0.0003223726627981947), ('869188290183917568', 0.0003223726627981947), ('2803449260', 0.0003223726627981947), ('879077538525396992', 0.0003223726627981947), ('778607', 0.0003223726627981947), ('2372636521', 0.0003223726627981947), ('876083623711174657', 0.0003223726627981947), ('1425336134', 0.0003223726627981947), ('122424832', 0.0003223726627981947), ('19859014', 0.0003223726627981947), ('743917727820058626', 0.0003223726627981947), ('287275780', 0.0003223726627981947), ('835810382509928450', 0.0003223726627981947), ('856955544845811712', 0.0003223726627981947), ('158659687', 0.0003223726627981947), ('158751132', 0.0003223726627981947), ('849729477533892612', 0.0003223726627981947), ('1111871', 0.0003223726627981947), ('91523851', 0.0003223726627981947), ('4353971122', 0.0003223726627981947), ('373580725', 0.0003223726627981947), ('250055606', 0.0003223726627981947), ('63935826', 0.0003223726627981947), ('529771925', 0.0003223726627981947), ('836189288572325888', 0.0003223726627981947), ('709402060547092481', 0.0003223726627981947), ('2966094221', 0.0003223726627981947), ('2228576226', 0.0003223726627981947), ('2876226376', 0.0003223726627981947), ('797823007997722624', 0.0003223726627981947), ('76966092', 0.0003223726627981947), ('3309394037', 0.0003223726627981947), ('821769650211930112', 0.0003223726627981947), ('2986084527', 0.0003223726627981947), ('361288906', 0.0003223726627981947), ('808593541840719872', 0.0003223726627981947), ('1934999587', 0.0003223726627981947), ('207534677', 0.0003223726627981947), ('804563319457660928', 0.0003223726627981947), ('7990062', 0.0003223726627981947), ('719967950527205376', 0.0003223726627981947), ('134061959', 0.0003223726627981947), ('27171750', 0.0003223726627981947), ('240316759', 0.0003223726627981947), ('4531194259', 0.0003223726627981947), ('2190753169', 0.0003223726627981947), ('790899349471498240', 0.0003223726627981947), ('342137485', 0.0003223726627981947), ('787735106546827265', 0.0003223726627981947), ('488417933', 0.0003223726627981947), ('335829830', 0.0003223726627981947), ('700831074', 0.0003223726627981947), ('771363829556977665', 0.0003223726627981947), ('468825579', 0.0003223726627981947), ('126323494', 0.0003223726627981947), ('2450416195', 0.0003223726627981947), ('756380725859975168', 0.0003223726627981947), ('312783905', 0.0003223726627981947), ('4202417063', 0.0003223726627981947), ('317158835', 0.0003223726627981947), ('15090415', 0.0003223726627981947), ('186764685', 0.0003223726627981947), ('2394417954', 0.0003223726627981947), ('163363440', 0.0003223726627981947), ('21133730', 0.0003223726627981947), ('4898086443', 0.0003223726627981947), ('2274780686', 0.0003223726627981947), ('3147145875', 0.0003223726627981947), ('2982471489', 0.0003223726627981947), ('2891809527', 0.0003223726627981947), ('138562224', 0.0003223726627981947), ('16507835', 0.0003223726627981947), ('2895714597', 0.0003223726627981947), ('583637312', 0.0003223726627981947), ('114407120', 0.0003223726627981947), ('101764664', 0.0003223726627981947), ('22752868', 0.0003223726627981947), ('15192127', 0.0003223726627981947), ('3439304543', 0.0003223726627981947), ('262191481', 0.0003223726627981947), ('37715152', 0.0003223726627981947), ('1853174220', 0.0003223726627981947), ('595544862', 0.0003223726627981947), ('17705769', 0.0003223726627981947), ('25864331', 0.0003223726627981947), ('2752564758', 0.0003223726627981947), ('3353136183', 0.0003223726627981947), ('311404595', 0.0003223726627981947), ('716643191072628736', 0.0003223726627981947), ('470416893', 0.0003223726627981947), ('3621255616', 0.0003223726627981947), ('14947339', 0.0003223726627981947), ('549833457', 0.0003223726627981947), ('2249121151', 0.0003223726627981947), ('944905694', 0.0003223726627981947), ('115718271', 0.0003223726627981947), ('5763912', 0.0003223726627981947), ('64245814', 0.0003223726627981947), ('4742002531', 0.0003223726627981947), ('779769', 0.0003223726627981947), ('4827366892', 0.0003223726627981947), ('3361359683', 0.0003223726627981947), ('3367685915', 0.0003223726627981947), ('2974389209', 0.0003223726627981947), ('2310416978', 0.0003223726627981947), ('323616054', 0.0003223726627981947), ('1241258612', 0.0003223726627981947), ('3384319941', 0.0003223726627981947), ('199597043', 0.0003223726627981947), ('92593701', 0.0003223726627981947), ('310741473', 0.0003223726627981947), ('39112661', 0.0003223726627981947), ('15573348', 0.0003223726627981947), ('47605273', 0.0003223726627981947), ('4208606734', 0.0003223726627981947), ('197362628', 0.0003223726627981947), ('404100683', 0.0003223726627981947), ('3577056016', 0.0003223726627981947), ('339654180', 0.0003223726627981947), ('822143767', 0.0003223726627981947), ('553436328', 0.0003223726627981947), ('3405424143', 0.0003223726627981947), ('868437872', 0.0003223726627981947), ('19058451', 0.0003223726627981947), ('79721713', 0.0003223726627981947), ('27818124', 0.0003223726627981947), ('3079899620', 0.0003223726627981947), ('163009576', 0.0003223726627981947), ('14048484', 0.0003223726627981947), ('2435317801', 0.0003223726627981947), ('43583452', 0.0003223726627981947), ('21324520', 0.0003223726627981947), ('301037777', 0.0003223726627981947), ('193640022', 0.0003223726627981947), ('273921060', 0.0003223726627981947), ('2492618120', 0.0003223726627981947), ('1936953062', 0.0003223726627981947), ('24046380', 0.0003223726627981947), ('637087464', 0.0003223726627981947), ('2758095800', 0.0003223726627981947), ('512594470', 0.0003223726627981947), ('2538081673', 0.0003223726627981947), ('414130557', 0.0003223726627981947), ('2176358690', 0.0003223726627981947), ('2606773789', 0.0003223726627981947), ('2730017576', 0.0003223726627981947), ('27493489', 0.0003223726627981947), ('2209063952', 0.0003223726627981947), ('55247494', 0.0003223726627981947), ('20304025', 0.0003223726627981947), ('1153956919', 0.0003223726627981947), ('197481317', 0.0003223726627981947), ('1246421', 0.0003223726627981947), ('758175168', 0.0003223726627981947), ('16674284', 0.0003223726627981947), ('3239238377', 0.0003223726627981947), ('2813275219', 0.0003223726627981947), ('5894872', 0.0003223726627981947), ('159421391', 0.0003223726627981947), ('2962250933', 0.0003223726627981947), ('2253247064', 0.0003223726627981947), ('16579738', 0.0003223726627981947), ('261126954', 0.0003223726627981947), ('415798356', 0.0003223726627981947), ('75071601', 0.0003223726627981947), ('11939852', 0.0003223726627981947), ('3120886937', 0.0003223726627981947), ('3130629970', 0.0003223726627981947), ('972984764', 0.0003223726627981947), ('512191023', 0.0003223726627981947), ('15739506', 0.0003223726627981947), ('431764698', 0.0003223726627981947), ('14285650', 0.0003223726627981947), ('109613064', 0.0003223726627981947), ('398785862', 0.0003223726627981947), ('1002096110', 0.0003223726627981947), ('616219267', 0.0003223726627981947), ('19888273', 0.0003223726627981947), ('3074437553', 0.0003223726627981947), ('2397162947', 0.0003223726627981947), ('2769983813', 0.0003223726627981947), ('174959656', 0.0003223726627981947), ('112806109', 0.0003223726627981947), ('2706892358', 0.0003223726627981947), ('3018358499', 0.0003223726627981947), ('3005431923', 0.0003223726627981947), ('774575', 0.0003223726627981947), ('9271782', 0.0003223726627981947), ('82337208', 0.0003223726627981947), ('17581976', 0.0003223726627981947), ('211916935', 0.0003223726627981947), ('16042588', 0.0003223726627981947), ('14757518', 0.0003223726627981947), ('1376639125', 0.0003223726627981947), ('106023728', 0.0003223726627981947), ('2317814702', 0.0003223726627981947), ('117483950', 0.0003223726627981947), ('15333148', 0.0003223726627981947), ('301939006', 0.0003223726627981947), ('33993797', 0.0003223726627981947), ('2910644884', 0.0003223726627981947), ('557553364', 0.0003223726627981947), ('2908007650', 0.0003223726627981947), ('1303427371', 0.0003223726627981947), ('59481357', 0.0003223726627981947), ('61302699', 0.0003223726627981947), ('48649222', 0.0003223726627981947), ('17839109', 0.0003223726627981947), ('1617603914', 0.0003223726627981947), ('289222668', 0.0003223726627981947), ('568542838', 0.0003223726627981947), ('153506820', 0.0003223726627981947), ('2178067878', 0.0003223726627981947), ('36417099', 0.0003223726627981947), ('1074540169', 0.0003223726627981947), ('14049302', 0.0003223726627981947), ('91168371', 0.0003223726627981947), ('439572655', 0.0003223726627981947), ('547871798', 0.0003223726627981947), ('1354848524', 0.0003223726627981947), ('203250712', 0.0003223726627981947), ('585390634', 0.0003223726627981947), ('427218827', 0.0003223726627981947), ('403274895', 0.0003223726627981947), ('288823245', 0.0003223726627981947), ('184125091', 0.0003223726627981947), ('343587148', 0.0003223726627981947), ('2444133930', 0.0003223726627981947), ('839139788846411777', 0.0003223726627981947), ('2417892751', 0.0003223726627981947), ('1111315973125169152', 0.0003223726627981947), ('1195044761322823680', 0.0003223726627981947), ('1156797119149121541', 0.0003223726627981947), ('911963260005552128', 0.0003223726627981947), ('20356196', 0.0003223726627981947), ('1264438328', 0.0003223726627981947), ('270044784', 0.0003223726627981947), ('954235769618538496', 0.0003223726627981947), ('707112185076391936', 0.0003223726627981947), ('4053818032', 0.0003223726627981947), ('854719703545253888', 0.0003223726627981947), ('50414506', 0.0003223726627981947), ('894723591446687745', 0.0003223726627981947), ('436609034', 0.0003223726627981947), ('308456550', 0.0003223726627981947), ('822183485523841025', 0.0003223726627981947), ('1483247714', 0.0003223726627981947), ('735809541456027648', 0.0003223726627981947), ('824668943285702661', 0.0003223726627981947), ('271485168', 0.0003223726627981947), ('696907754275930112', 0.0003223726627981947), ('4663308149', 0.0003223726627981947), ('1978351027', 0.0003223726627981947), ('701026341500690432', 0.0003223726627981947), ('829903626', 0.0003223726627981947), ('4645255754', 0.0003223726627981947), ('1479360883', 0.0003223726627981947), ('2798157850', 0.0003223726627981947), ('3270447613', 0.0003223726627981947), ('408717162', 0.0003223726627981947), ('3201975988', 0.0003223726627981947), ('1367458171', 0.0003223726627981947), ('3240349167', 0.0003223726627981947), ('3038714572', 0.0003223726627981947), ('3081160595', 0.0003223726627981947), ('2969887354', 0.0003223726627981947), ('2877269332', 0.0003223726627981947), ('2208838112', 0.0003223726627981947), ('3077138539', 0.0003223726627981947), ('3083042302', 0.0003223726627981947), ('263265080', 0.0003223726627981947), ('3036851230', 0.0003223726627981947), ('3015605477', 0.0003223726627981947), ('1019673422', 0.0003223726627981947), ('73509664', 0.0003223726627981947), ('3051698888', 0.0003223726627981947), ('3035211041', 0.0003223726627981947), ('1734817550', 0.0003223726627981947), ('3037264899', 0.0003223726627981947), ('579133028', 0.0003223726627981947), ('49043059', 0.0003223726627981947), ('569382995', 0.0003223726627981947), ('2827812417', 0.0003223726627981947), ('3053756746', 0.0003223726627981947), ('544360896', 0.0003223726627981947), ('732713436', 0.0003223726627981947), ('1310568144742895619', 0.0003223726627981947), ('45099415', 0.0003223726627981947), ('27897414', 0.0), ('14254846', 0.0), ('118412527', 0.0), ('28822067', 0.0), ('1189744336415723520', 0.0), ('361281600', 0.0), ('1663172653', 0.0), ('910827588', 0.0), ('16273541', 0.0), ('1070321898951753728', 0.0), ('755397390', 0.0), ('106856453', 0.0), ('1434631356', 0.0), ('870362407', 0.0), ('104892871', 0.0), ('984769730983682048', 0.0), ('3415864408', 0.0), ('799830497065050112', 0.0), ('8123222', 0.0), ('91333167', 0.0), ('34743251', 0.0), ('1149491203', 0.0), ('216939636', 0.0), ('2348513340', 0.0), ('481094172', 0.0), ('804701761017671680', 0.0), ('294599794', 0.0), ('3107101390', 0.0), ('2329921', 0.0), ('20499721', 0.0), ('139811295', 0.0), ('8143682', 0.0), ('267249771', 0.0), ('862356144748204032', 0.0), ('16976496', 0.0), ('134765219', 0.0), ('2251623492', 0.0), ('296312612', 0.0), ('706980266879946752', 0.0), ('751506263792582656', 0.0), ('3395161438', 0.0), ('93494670', 0.0), ('220139885', 0.0), ('2645602164', 0.0), ('95013770', 0.0), ('11164692', 0.0), ('3513474256', 0.0), ('45303184', 0.0), ('375007888', 0.0), ('524561395', 0.0), ('106064139', 0.0), ('344725369', 0.0), ('55517828', 0.0), ('63801028', 0.0), ('2815077014', 0.0), ('265509561', 0.0), ('47602120', 0.0), ('3085799703', 0.0), ('2998896042', 0.0), ('2354542969', 0.0), ('112829445', 0.0), ('3236533841', 0.0), ('101264703', 0.0), ('264501255', 0.0), ('569790116', 0.0), ('337600744', 0.0), ('34227622', 0.0), ('2816046521', 0.0), ('1891806212', 0.0), ('33474334', 0.0), ('1530894998', 0.0), ('55858928', 0.0), ('15247794', 0.0), ('17707080', 0.0), ('172260408', 0.0), ('1237393394', 0.0), ('48839631', 0.0), ('2607616422', 0.0), ('850107536', 0.0), ('354847710', 0.0), ('70266297', 0.0), ('16689804', 0.0), ('326912209', 0.0), ('259403751', 0.0), ('19540483', 0.0), ('567360618', 0.0), ('352053266', 0.0), ('393956778', 0.0), ('40156543', 0.0), ('2880905121', 0.0), ('3107826244', 0.0), ('59208209', 0.0), ('260768625', 0.0), ('2273201773', 0.0), ('111046352', 0.0), ('9430302', 0.0), ('123846556', 0.0), ('189495871', 0.0), ('22072608', 0.0), ('561218882', 0.0), ('85648537', 0.0), ('382158989', 0.0), ('2591662868', 0.0), ('22960511', 0.0), ('369440364', 0.0), ('1562578862', 0.0), ('2493328698', 0.0), ('271243941', 0.0), ('2354616571', 0.0), ('452909538', 0.0), ('19380829', 0.0), ('405384428', 0.0), ('14538236', 0.0), ('95196023', 0.0), ('15421904', 0.0), ('26000689', 0.0), ('10695152', 0.0), ('88673826', 0.0), ('9910992', 0.0), ('21308312', 0.0), ('45389867', 0.0), ('10759032', 0.0), ('91367103', 0.0), ('773146218', 0.0), ('59504716', 0.0), ('1304717864', 0.0), ('17076940', 0.0), ('460544873', 0.0), ('89774258', 0.0), ('8220532', 0.0), ('107171037', 0.0), ('849649723', 0.0), ('342569184', 0.0), ('794790254', 0.0), ('15089078', 0.0), ('14162048', 0.0), ('75585288', 0.0), ('28165790', 0.0), ('41098784', 0.0), ('15468474', 0.0), ('14874480', 0.0), ('320603385', 0.0), ('41667342', 0.0), ('17002009', 0.0), ('88727377', 0.0), ('114485232', 0.0), ('17157367', 0.0), ('93957809', 0.0), ('21457289', 0.0), ('18059898', 0.0), ('21003382', 0.0), ('118263124', 0.0), ('33838201', 0.0), ('20536157', 0.0), ('16867526', 0.0), ('930340722', 0.0), ('59263220', 0.0), ('76679840', 0.0), ('15492359', 0.0), ('115763683', 0.0), ('3304471', 0.0), ('393652166', 0.0), ('589300441', 0.0), ('13056322', 0.0), ('479013038', 0.0), ('3077144869', 0.0), ('1909219404', 0.0), ('3275322876', 0.0), ('619585396', 0.0), ('318093688', 0.0), ('224495471', 0.0), ('178976408', 0.0), ('160741955', 0.0), ('1264027207447371776', 0.0), ('49977240', 0.0), ('41828876', 0.0), ('887207711590559745', 0.0), ('303048766', 0.0), ('172179385', 0.0), ('3411494596', 0.0), ('940445534556364800', 0.0), ('136756365', 0.0), ('22952866', 0.0), ('56318966', 0.0), ('216016685', 0.0), ('596203049', 0.0), ('1259983955408744449', 0.0), ('2183611873', 0.0), ('71306406', 0.0), ('364593753', 0.0), ('2859456143', 0.0), ('772574162', 0.0), ('829881163472916481', 0.0), ('45675087', 0.0), ('605012771', 0.0), ('266028681', 0.0), ('84653850', 0.0), ('1290762290224984064', 0.0), ('24603962', 0.0), ('56741675', 0.0), ('1127358323051749378', 0.0), ('44106240', 0.0), ('278359534', 0.0), ('25268217', 0.0), ('21573326', 0.0), ('1094048100564365312', 0.0), ('3186534415', 0.0), ('81381560', 0.0), ('909404434723213312', 0.0), ('85307840', 0.0), ('312121622', 0.0), ('47325650', 0.0), ('7466492', 0.0), ('1195040516318093312', 0.0), ('84404991', 0.0), ('41694589', 0.0), ('2821616774', 0.0), ('2797567802', 0.0), ('1038834447540531202', 0.0), ('3988959013', 0.0), ('825382759', 0.0), ('1084212657761148928', 0.0), ('762093631', 0.0), ('4083688114', 0.0), ('257618993', 0.0), ('70819203', 0.0), ('1217315090', 0.0), ('710755931227824128', 0.0), ('162124540', 0.0), ('87476034', 0.0), ('39547749', 0.0), ('1143038206335737856', 0.0), ('823957466', 0.0), ('12031032', 0.0), ('260971421', 0.0), ('27131901', 0.0), ('3780315496', 0.0), ('3549187454', 0.0), ('1154319646780272641', 0.0), ('1229540217595387904', 0.0), ('419395379', 0.0), ('346400805', 0.0), ('2986305078', 0.0), ('872274950', 0.0), ('2303160649', 0.0), ('1123336792021897216', 0.0), ('2869101210', 0.0), ('17118060', 0.0), ('274609987', 0.0), ('897060827316072448', 0.0), ('373951619', 0.0), ('807261497500069888', 0.0), ('1044869316288696320', 0.0), ('1184821524534059008', 0.0), ('33861957', 0.0), ('113125584', 0.0), ('2540678306', 0.0), ('33836629', 0.0), ('46668733', 0.0), ('838601156737654784', 0.0), ('139008774', 0.0), ('38140504', 0.0), ('905687730843037696', 0.0), ('922354202088759296', 0.0), ('18033313', 0.0), ('126132953', 0.0), ('2575365842', 0.0), ('1039052508193284096', 0.0), ('3248357604', 0.0), ('736667972123512832', 0.0), ('2280952807', 0.0), ('1037548569467731968', 0.0), ('720389270335135745', 0.0), ('22129782', 0.0), ('887535601', 0.0), ('238024065', 0.0), ('1991321', 0.0), ('1031837755234549760', 0.0), ('1617382039', 0.0), ('721931072', 0.0), ('16632955', 0.0), ('317169230', 0.0), ('928760788306878464', 0.0), ('955599008', 0.0), ('810173876466515968', 0.0), ('1060157776477982721', 0.0), ('1055893919597133824', 0.0), ('1035524448319885312', 0.0), ('919860212', 0.0), ('455428885', 0.0), ('1412036527', 0.0), ('1017373138500378624', 0.0), ('118056286', 0.0), ('591797093', 0.0), ('96962998', 0.0), ('2329817887', 0.0), ('174083824', 0.0), ('997784960', 0.0), ('191723833', 0.0), ('17053944', 0.0), ('16110508', 0.0), ('14862794', 0.0), ('15926727', 0.0), ('842043337687289856', 0.0), ('792460428005605376', 0.0), ('879014078932504577', 0.0), ('848799224854609920', 0.0), ('322711407', 0.0), ('2459299508', 0.0), ('966411199649808386', 0.0), ('72474729', 0.0), ('32872183', 0.0), ('984135577208373249', 0.0), ('1011316249274540033', 0.0), ('48062712', 0.0), ('54163837', 0.0), ('911297187664949248', 0.0), ('327122348', 0.0), ('2575124365', 0.0), ('989428140433866752', 0.0), ('984275749824638976', 0.0), ('3235806942', 0.0), ('610026759', 0.0), ('964589615230337024', 0.0), ('409890910', 0.0), ('785618379201654784', 0.0), ('877886035', 0.0), ('739854925560156160', 0.0), ('900040284616114176', 0.0), ('763432576375779328', 0.0), ('898565245484105732', 0.0), ('735447938214678529', 0.0), ('2839825685', 0.0), ('54817041', 0.0), ('846672306378326016', 0.0), ('467551928', 0.0), ('446719282', 0.0), ('342578839', 0.0), ('4027105402', 0.0), ('833967951447486465', 0.0), ('33284619', 0.0), ('16851370', 0.0), ('3482836634', 0.0), ('16319797', 0.0), ('29735775', 0.0), ('305431714', 0.0), ('784083274805248000', 0.0), ('3732176255', 0.0), ('98966111', 0.0), ('257544772', 0.0), ('2153743237', 0.0), ('539946626', 0.0), ('22514268', 0.0), ('743340014214352896', 0.0), ('412155441', 0.0), ('246713978', 0.0), ('150622632', 0.0), ('1173370158', 0.0), ('294652384', 0.0), ('14968475', 0.0), ('1014471', 0.0), ('15166546', 0.0), ('206743057', 0.0), ('2821170946', 0.0), ('14667411', 0.0), ('93655722', 0.0), ('112202046', 0.0), ('277516046', 0.0), ('402143587', 0.0), ('4702018489', 0.0), ('3246646347', 0.0), ('3270678680', 0.0), ('2188930908', 0.0), ('80446199', 0.0), ('4194417913', 0.0), ('4398626122', 0.0), ('1442906958', 0.0), ('9316452', 0.0), ('243479125', 0.0), ('2199531518', 0.0), ('72781449', 0.0), ('144947577', 0.0), ('2895770934', 0.0), ('2713275441', 0.0), ('3091376321', 0.0), ('451148485', 0.0), ('1175299088', 0.0), ('158789494', 0.0), ('2851178794', 0.0), ('272065025', 0.0), ('20644989', 0.0), ('18675332', 0.0), ('597499972', 0.0), ('104211492', 0.0), ('193227076', 0.0), ('308578864', 0.0), ('46496916', 0.0), ('804683646', 0.0), ('22994885', 0.0), ('384747822', 0.0), ('29951831', 0.0), ('19739240', 0.0), ('82573938', 0.0), ('44217911', 0.0), ('2776164847', 0.0), ('2341772972', 0.0), ('507185539', 0.0), ('1617314359', 0.0), ('240867778', 0.0), ('483150865', 0.0), ('158342368', 0.0), ('635986661', 0.0), ('2239194271', 0.0), ('372730608', 0.0), ('2383802810', 0.0), ('1167604898', 0.0), ('435462176', 0.0), ('72386774', 0.0), ('204297410', 0.0), ('27990587', 0.0), ('6844292', 0.0), ('190754693', 0.0), ('138840988', 0.0), ('2245759994', 0.0), ('1894231788', 0.0), ('48008938', 0.0), ('204718713', 0.0), ('143319983', 0.0), ('66322723', 0.0), ('325755342', 0.0), ('2166992210', 0.0), ('1432662902', 0.0), ('871687740', 0.0), ('99473901', 0.0), ('1382732563', 0.0), ('10313732', 0.0), ('14697496', 0.0), ('279084731', 0.0), ('103810205', 0.0), ('73719913', 0.0), ('39321347', 0.0), ('1077633912', 0.0), ('117553058', 0.0), ('953752657', 0.0), ('438301250', 0.0), ('27104786', 0.0), ('861246336', 0.0), ('891731882', 0.0), ('17503180', 0.0), ('45820175', 0.0), ('16687314', 0.0), ('109598348', 0.0), ('344956335', 0.0), ('976373610', 0.0), ('24989839', 0.0), ('153439378', 0.0), ('139355216', 0.0), ('380426226', 0.0), ('20621579', 0.0), ('14553715', 0.0), ('18384521', 0.0), ('313444531', 0.0), ('412270831', 0.0), ('9632312', 0.0), ('7170942', 0.0), ('5765972', 0.0), ('6057982', 0.0), ('43973475', 0.0), ('16946380', 0.0), ('146734981', 0.0), ('29959702', 0.0), ('822659', 0.0), ('99023044', 0.0), ('93873778', 0.0), ('11990112', 0.0), ('105925630', 0.0), ('372830899', 0.0), ('43652382', 0.0), ('174072879', 0.0), ('16948477', 0.0), ('14065835', 0.0), ('70478255', 0.0), ('399089660', 0.0), ('419071399', 0.0), ('403731744', 0.0), ('106418930', 0.0), ('131498466', 0.0), ('20167623', 0.0), ('22749856', 0.0), ('36515907', 0.0), ('295344317', 0.0), ('81875677', 0.0), ('220145170', 0.0), ('278482863', 0.0), ('5108051', 0.0), ('299858686', 0.0), ('317727341', 0.0), ('61449317', 0.0), ('18318677', 0.0), ('114045446', 0.0), ('49793', 0.0), ('42399260', 0.0), ('103989154', 0.0), ('783214', 0.0), ('297091554', 0.0), ('125792630', 0.0), ('167169119', 0.0), ('197313522', 0.0), ('633', 0.0), ('9320372', 0.0), ('271909348', 0.0), ('765548', 0.0), ('23973296', 0.0), ('11595422', 0.0), ('41259586', 0.0), ('8077952', 0.0), ('112415325', 0.0), ('45598113', 0.0), ('11669522', 0.0), ('18464317', 0.0), ('17305888', 0.0), ('11867332', 0.0), ('1770311', 0.0), ('84560631', 0.0), ('20747847', 0.0), ('93618186', 0.0), ('59414975', 0.0), ('333410580', 0.0), ('26280712', 0.0), ('348506984', 0.0), ('388212968', 0.0), ('3092629269', 0.0), ('117652722', 0.0), ('1048018930785083392', 0.0), ('752743856941125632', 0.0), ('791230655367700480', 0.0), ('2388819163', 0.0), ('406869976', 0.0), ('90830802', 0.0), ('196476038', 0.0), ('705427898749079552', 0.0), ('44196397', 0.0), ('772871943577931776', 0.0), ('115180931', 0.0), ('14146389', 0.0), ('24160034', 0.0), ('334678478', 0.0), ('571202103', 0.0), ('718108213078568960', 0.0), ('224466293', 0.0), ('314430404', 0.0), ('1935675295', 0.0), ('65184105', 0.0), ('188233241', 0.0), ('142837256', 0.0), ('540259669', 0.0), ('59273937', 0.0), ('346742249', 0.0), ('2887723143', 0.0), ('1023096199', 0.0), ('31422403', 0.0), ('15578992', 0.0), ('14749606', 0.0), ('316386106', 0.0), ('1095972841', 0.0), ('1725341478', 0.0), ('38190507', 0.0), ('246318475', 0.0), ('188723124', 0.0), ('29716049', 0.0), ('1193486898', 0.0), ('506166021', 0.0), ('110509537', 0.0), ('509162767', 0.0), ('253046215', 0.0), ('433226744', 0.0), ('36094947', 0.0), ('334170116', 0.0), ('182486010', 0.0), ('537014740', 0.0), ('16953723', 0.0), ('579842788', 0.0), ('452570555', 0.0), ('132539757', 0.0), ('372843212', 0.0), ('533315563', 0.0), ('483172916', 0.0), ('115512512', 0.0), ('577430083', 0.0), ('192931240', 0.0), ('258465487', 0.0), ('376297519', 0.0), ('66815732', 0.0), ('391015835', 0.0), ('16310134', 0.0), ('50956443', 0.0), ('8943', 0.0), ('122127763', 0.0), ('623111545', 0.0), ('19081001', 0.0), ('399935607', 0.0), ('186404598', 0.0), ('15962096', 0.0), ('20384956', 0.0), ('551653007', 0.0), ('271310204', 0.0), ('341258707', 0.0), ('128213903', 0.0), ('456853606', 0.0), ('385339360', 0.0), ('461578921', 0.0), ('32338210', 0.0), ('561642136', 0.0), ('14583400', 0.0), ('175529610', 0.0), ('42909798', 0.0), ('20887537', 0.0), ('546315483', 0.0), ('456673160', 0.0), ('228130177', 0.0), ('204387286', 0.0), ('284858667', 0.0), ('17922590', 0.0), ('474233138', 0.0), ('216744325', 0.0), ('248916795', 0.0), ('404376053', 0.0), ('485018563', 0.0), ('251149608', 0.0), ('414978578', 0.0), ('485140375', 0.0), ('490382218', 0.0), ('78577226', 0.0), ('72018889', 0.0), ('73909361', 0.0), ('182799181', 0.0), ('16362818', 0.0), ('131526573', 0.0), ('13533662', 0.0), ('52352322', 0.0), ('58324434', 0.0), ('9507112', 0.0), ('23666107', 0.0), ('1308409993213943809', 0.0), ('225110274', 0.0), ('359831209', 0.0), ('1190461842922995712', 0.0), ('204123892', 0.0), ('228313429', 0.0), ('773280684173463552', 0.0), ('722155990662123520', 0.0), ('145637517', 0.0), ('2288970024', 0.0), ('944810996', 0.0), ('33864359', 0.0), ('19486877', 0.0), ('709828900', 0.0), ('14707794', 0.0), ('26607837', 0.0), ('939946139029090304', 0.0), ('3314775459', 0.0), ('20131383', 0.0), ('1023751696697028608', 0.0), ('800707492346925056', 0.0), ('17855686', 0.0), ('939091', 0.0), ('1246201593755660288', 0.0), ('82095610', 0.0), ('1043211642182328320', 0.0), ('841854020058677252', 0.0), ('31442869', 0.0), ('4786709654', 0.0), ('2641476606', 0.0), ('46350079', 0.0), ('14492532', 0.0), ('37788263', 0.0), ('458079606', 0.0), ('3442793834', 0.0), ('467004982', 0.0), ('321908821', 0.0), ('388752038', 0.0), ('153004670', 0.0), ('17395999', 0.0), ('1441673010', 0.0), ('67815277', 0.0), ('330151669', 0.0), ('2922679556', 0.0), ('313140358', 0.0), ('116655482', 0.0), ('8746072', 0.0), ('1068486102930112514', 0.0), ('14895163', 0.0), ('19203768', 0.0), ('16044272', 0.0), ('2711212681', 0.0), ('3158689771', 0.0), ('134072288', 0.0), ('263483174', 0.0), ('63735508', 0.0), ('508906511', 0.0), ('33423759', 0.0), ('1057715900', 0.0), ('18485339', 0.0), ('989251872107085824', 0.0), ('108334890', 0.0), ('2587163612', 0.0), ('13235832', 0.0), ('359622624', 0.0), ('252988497', 0.0), ('61111487', 0.0), ('3008322017', 0.0), ('19677123', 0.0), ('1076178992036790272', 0.0), ('831503418376146946', 0.0), ('775449094739197953', 0.0), ('2549047974', 0.0), ('299394773', 0.0), ('867297019160707072', 0.0), ('41216797', 0.0), ('1883425892', 0.0), ('305236970', 0.0), ('916364161415892992', 0.0), ('1205609058', 0.0), ('40090727', 0.0), ('781676758932262912', 0.0), ('1014199723031449600', 0.0), ('15156540', 0.0), ('2842839092', 0.0), ('762501458', 0.0), ('755733488851189760', 0.0), ('1026754771087110144', 0.0), ('12044602', 0.0), ('2918846960', 0.0), ('3150832239', 0.0), ('598232506', 0.0), ('1865461842', 0.0), ('121881387', 0.0), ('840618056678293504', 0.0), ('68784803', 0.0), ('398092540', 0.0), ('50374439', 0.0), ('2240528131', 0.0), ('221620566', 0.0), ('5921452', 0.0), ('177751401', 0.0), ('2236856634', 0.0), ('489677804', 0.0), ('15808647', 0.0), ('787149253302812672', 0.0), ('2903681001', 0.0), ('834609484781723648', 0.0), ('830589635738816512', 0.0), ('920382882413244417', 0.0), ('12035282', 0.0), ('3565816992', 0.0), ('311340284', 0.0), ('39237580', 0.0), ('14622066', 0.0), ('817382', 0.0), ('14166306', 0.0), ('265422963', 0.0), ('572279177', 0.0), ('3207393315', 0.0), ('76336279', 0.0), ('16976682', 0.0), ('16596200', 0.0), ('194399316', 0.0), ('2312790332', 0.0), ('3415205164', 0.0), ('722242009', 0.0), ('4901700861', 0.0), ('109640788', 0.0), ('1168', 0.0), ('702932794947694592', 0.0), ('19341622', 0.0), ('59900894', 0.0), ('2399290873', 0.0), ('1303571503', 0.0), ('2842558252', 0.0), ('307912317', 0.0), ('79703784', 0.0), ('9533042', 0.0), ('734735999029383168', 0.0), ('28401365', 0.0), ('36588310', 0.0), ('71905822', 0.0), ('2859068332', 0.0), ('26976778', 0.0), ('123093566', 0.0), ('709543955126333440', 0.0), ('8719472', 0.0), ('20058825', 0.0), ('1580058000', 0.0), ('114773847', 0.0), ('3841067114', 0.0), ('2320791044', 0.0), ('497181885', 0.0), ('582161546', 0.0), ('13920962', 0.0), ('1408239470', 0.0), ('1490398796', 0.0), ('273003435', 0.0), ('1244079788', 0.0), ('18033550', 0.0), ('129746032', 0.0), ('781332157', 0.0), ('16318928', 0.0), ('17949156', 0.0), ('14341416', 0.0), ('2812873512', 0.0), ('69870134', 0.0), ('884180960', 0.0), ('207770279', 0.0), ('2523642978', 0.0), ('1728795440', 0.0), ('49976458', 0.0), ('63859619', 0.0), ('854581958', 0.0), ('1376401838', 0.0), ('2924669003', 0.0), ('2717694091', 0.0), ('4794104842', 0.0), ('3620548396', 0.0), ('15225375', 0.0), ('4728720725', 0.0), ('41572443', 0.0), ('7111232', 0.0), ('541117509', 0.0), ('870968012', 0.0), ('4329329968', 0.0), ('288995692', 0.0), ('59780450', 0.0), ('46342393', 0.0), ('164233384', 0.0), ('118748199', 0.0), ('266717381', 0.0), ('3243283713', 0.0), ('112882940', 0.0), ('45321027', 0.0), ('2916305152', 0.0), ('19811190', 0.0), ('2232721860', 0.0), ('2676313880', 0.0), ('179797676', 0.0), ('3300677471', 0.0), ('259906731', 0.0), ('9541832', 0.0), ('17455229', 0.0), ('2520999920', 0.0), ('3234931837', 0.0), ('19659141', 0.0), ('4484681', 0.0), ('281950081', 0.0), ('21991908', 0.0), ('57246759', 0.0), ('1643302016', 0.0), ('2460368252', 0.0), ('20436576', 0.0), ('740216334', 0.0), ('49438224', 0.0), ('15002894', 0.0), ('11010332', 0.0), ('22398002', 0.0), ('2322434384', 0.0), ('5943622', 0.0), ('115494880', 0.0), ('534255106', 0.0), ('2411276060', 0.0), ('15056816', 0.0), ('2455929786', 0.0), ('2444229696', 0.0), ('5637652', 0.0), ('183575679', 0.0), ('25213966', 0.0), ('402875257', 0.0), ('47562075', 0.0), ('94642927', 0.0), ('43006345', 0.0), ('1197369638', 0.0), ('302013973', 0.0), ('47319664', 0.0), ('26014256', 0.0), ('349172730', 0.0), ('2810375782', 0.0), ('221460294', 0.0), ('553729228', 0.0), ('50095170', 0.0), ('57320656', 0.0), ('11017332', 0.0), ('2814432614', 0.0), ('16895951', 0.0), ('17514022', 0.0), ('7905122', 0.0), ('117539435', 0.0), ('1252063705', 0.0), ('133806972', 0.0), ('8034682', 0.0), ('74419325', 0.0), ('15169938', 0.0), ('19073790', 0.0), ('10587552', 0.0), ('5848122', 0.0), ('2221607978', 0.0), ('263044687', 0.0), ('44953355', 0.0), ('140956562', 0.0), ('14998112', 0.0), ('10383162', 0.0), ('6365342', 0.0), ('1710656606', 0.0), ('2502662672', 0.0), ('1962172172', 0.0), ('1227698863', 0.0), ('469405173', 0.0), ('36024756', 0.0), ('15376357', 0.0), ('476700973', 0.0), ('507704346', 0.0), ('307755344', 0.0), ('2494212979', 0.0), ('539296619', 0.0), ('398500188', 0.0), ('2230151202', 0.0), ('1344951', 0.0), ('1848037524', 0.0), ('13982132', 0.0), ('1551361069', 0.0), ('1562518867', 0.0), ('47725447', 0.0), ('50393960', 0.0), ('84351228', 0.0), ('155505157', 0.0), ('20003288', 0.0), ('14369971', 0.0), ('52206988', 0.0), ('8139122', 0.0), ('15336340', 0.0), ('16134540', 0.0), ('14301911', 0.0), ('200630242', 0.0), ('17712257', 0.0), ('224379103', 0.0), ('110420616', 0.0), ('946028606', 0.0), ('111258447', 0.0), ('891725802', 0.0), ('154221292', 0.0), ('2424287186', 0.0), ('1131186925212241920', 0.0), ('108434901', 0.0), ('951237270044069888', 0.0), ('3034892963', 0.0), ('2347049341', 0.0), ('56510427', 0.0), ('23818581', 0.0), ('688583', 0.0), ('3003392104', 0.0), ('3026571023', 0.0), ('29866761', 0.0), ('80422885', 0.0), ('3697013177', 0.0), ('2360762586', 0.0), ('2385273733', 0.0), ('124087958', 0.0), ('3511430425', 0.0), ('562439654', 0.0), ('570072860', 0.0), ('831114368435748864', 0.0), ('12353582', 0.0), ('57047586', 0.0), ('477554560', 0.0), ('2898184305', 0.0), ('58160853', 0.0), ('717768811005526016', 0.0), ('230815459', 0.0), ('117079124', 0.0), ('2659265263', 0.0), ('31311757', 0.0), ('2196922086', 0.0), ('720605133483208705', 0.0), ('1053724531', 0.0), ('776732741098467328', 0.0), ('19411223', 0.0), ('1038481676', 0.0), ('207450631', 0.0), ('319135326', 0.0), ('838464523', 0.0), ('22843337', 0.0), ('573918122', 0.0), ('487736815', 0.0), ('15521075', 0.0), ('3356531254', 0.0), ('1579422614', 0.0), ('381187236', 0.0), ('19722699', 0.0), ('1636590253', 0.0), ('14677919', 0.0), ('1652541', 0.0), ('237670274', 0.0), ('2271904531', 0.0), ('1350732349', 0.0), ('817845968', 0.0), ('972651', 0.0), ('1603439773', 0.0), ('192854350', 0.0), ('2835276183', 0.0), ('245548093', 0.0), ('73147282', 0.0), ('14199378', 0.0), ('275686563', 0.0), ('114870386', 0.0), ('325476794', 0.0), ('20581429', 0.0), ('296459271', 0.0), ('87818409', 0.0), ('21769127', 0.0), ('17043428', 0.0), ('395990396', 0.0), ('14511951', 0.0), ('2413882279', 0.0), ('119711344', 0.0), ('281448138', 0.0), ('755953153', 0.0), ('117662694', 0.0), ('2097571', 0.0), ('11348282', 0.0), ('200163448', 0.0), ('742143', 0.0), ('2979365176', 0.0), ('14293310', 0.0), ('133790890', 0.0), ('180463340', 0.0), ('62513246', 0.0), ('337886919', 0.0), ('166739404', 0.0), ('15254807', 0.0), ('5893702', 0.0), ('1202405614061682688', 0.0), ('1665528704', 0.0), ('815997318839287808', 0.0), ('781467737164046340', 0.0), ('10156602', 0.0), ('795672949105692672', 0.0), ('492631754', 0.0), ('1907662020', 0.0), ('97125994', 0.0), ('2240097007', 0.0), ('243191777', 0.0), ('1271181993255079936', 0.0), ('816002594434846722', 0.0), ('103938091', 0.0), ('2840036564', 0.0), ('1250649584298160128', 0.0), ('2833154860', 0.0), ('1325403832575266816', 0.0), ('52512497', 0.0), ('1251631340476383232', 0.0), ('3169857785', 0.0), ('987247593427218433', 0.0), ('1186594446177120257', 0.0), ('1378031480', 0.0), ('111135113', 0.0), ('1242866439931023365', 0.0), ('961561664222097408', 0.0), ('171188094', 0.0), ('1328357185844170757', 0.0), ('277551458', 0.0), ('179578703', 0.0), ('2322577264', 0.0), ('22513981', 0.0), ('128667648', 0.0), ('407991717', 0.0), ('1312302334001786880', 0.0), ('1314445891185639425', 0.0), ('3248798612', 0.0), ('1088528384114782209', 0.0), ('847133183078379521', 0.0), ('1041474872566722565', 0.0), ('962989392', 0.0), ('902515850887938048', 0.0), ('944681614289727488', 0.0), ('941745852313255937', 0.0), ('4913618793', 0.0), ('4771322414', 0.0), ('904721946985861121', 0.0), ('2666722843', 0.0), ('924983134696775682', 0.0), ('4840660983', 0.0), ('861774864', 0.0), ('18757582', 0.0), ('331794451', 0.0), ('1288283164360814594', 0.0), ('633193657', 0.0), ('1303989663510802432', 0.0), ('1125396397275136000', 0.0), ('96149686', 0.0), ('391837759', 0.0), ('105840440', 0.0), ('531122860', 0.0), ('1151405613705904128', 0.0), ('2842853434', 0.0), ('148688937', 0.0), ('2956797953', 0.0), ('2107571', 0.0), ('14358960', 0.0), ('3236057847', 0.0), ('2470220689', 0.0), ('67972546', 0.0), ('54885336', 0.0), ('210412961', 0.0), ('1385325056', 0.0), ('863022433', 0.0), ('97458396', 0.0), ('47854489', 0.0), ('71089918', 0.0), ('320235828', 0.0), ('1275793771393884160', 0.0), ('1094613159476977664', 0.0), ('1237610022630084610', 0.0), ('156900838', 0.0), ('2175037530', 0.0), ('1119870687747956736', 0.0), ('1094731321082085379', 0.0), ('532027490', 0.0), ('986618492844683264', 0.0), ('1329567099803627522', 0.0), ('1313406633423372288', 0.0), ('566190363', 0.0), ('1217044581549821957', 0.0), ('1326634531231846400', 0.0), ('1236346072643092480', 0.0), ('1602046633', 0.0), ('1313074693495296000', 0.0), ('1298571847211134976', 0.0), ('1294474826023829505', 0.0), ('22930986', 0.0), ('1741411', 0.0), ('19270513', 0.0), ('1035229032563007488', 0.0), ('101977103', 0.0), ('4612900933', 0.0), ('44385991', 0.0), ('45178479', 0.0), ('2533903339', 0.0), ('29106538', 0.0), ('20936940', 0.0), ('1203445880088432640', 0.0), ('1165947546784731136', 0.0), ('1140978344525258753', 0.0), ('1089340583791992832', 0.0), ('216695158', 0.0), ('1067141578760818692', 0.0), ('701190543288750081', 0.0), ('1969169006', 0.0), ('780327661495255040', 0.0), ('1099898459459448832', 0.0), ('800741784372461571', 0.0), ('4663478836', 0.0), ('161278758', 0.0), ('735818445749690368', 0.0), ('713433338527223808', 0.0), ('19791999', 0.0), ('242513137', 0.0), ('386987077', 0.0), ('1952751', 0.0), ('484168296', 0.0), ('18176371', 0.0), ('1322344303939694594', 0.0), ('85378572', 0.0), ('2174428111', 0.0), ('1707233839', 0.0), ('137159973', 0.0), ('1226872028029997059', 0.0), ('277427939', 0.0), ('1466774707', 0.0), ('380991604', 0.0), ('4863993118', 0.0), ('252635181', 0.0), ('987144750', 0.0), ('2755921978', 0.0), ('19953949', 0.0), ('2596578522', 0.0), ('1275809673573208070', 0.0), ('1145882698600218624', 0.0), ('1178684065324716034', 0.0), ('1291929863901904896', 0.0), ('3179345939', 0.0), ('793517274380525569', 0.0), ('24534026', 0.0), ('24879017', 0.0), ('14725740', 0.0), ('576656293', 0.0), ('1230451745047883776', 0.0), ('2607204912', 0.0), ('108883965', 0.0), ('2428166844', 0.0), ('247374296', 0.0), ('281839323', 0.0), ('1249086401540489216', 0.0), ('551578911', 0.0), ('1218482763634003968', 0.0), ('1150116821531598853', 0.0), ('2216410356', 0.0), ('739716992534515712', 0.0), ('15102534', 0.0), ('1509555870', 0.0), ('157976915', 0.0), ('99516991', 0.0), ('2212398679', 0.0), ('2394167438', 0.0), ('126001699', 0.0), ('1261359828401717249', 0.0), ('1247446261805928455', 0.0), ('36342164', 0.0), ('1263881997958565894', 0.0), ('969043413801713664', 0.0), ('89755286', 0.0), ('986640156261167105', 0.0), ('22041954', 0.0), ('747702842065035264', 0.0), ('2829298111', 0.0), ('14520773', 0.0), ('2206348270', 0.0), ('595152780', 0.0), ('206588190', 0.0), ('76288852', 0.0), ('1182205436310822912', 0.0), ('1022208942351544326', 0.0), ('1158964368312172545', 0.0), ('72159072', 0.0), ('161540679', 0.0), ('2219977081', 0.0), ('376954139', 0.0), ('250160844', 0.0), ('117111043', 0.0), ('9928752', 0.0), ('1293232367667118081', 0.0), ('1320869539718938629', 0.0), ('2523883750', 0.0), ('1298672332702199815', 0.0), ('139545462', 0.0), ('1941782508', 0.0), ('3303323813', 0.0), ('2952172139', 0.0), ('234912536', 0.0), ('615869920', 0.0), ('69037047', 0.0), ('73741494', 0.0), ('3000770234', 0.0), ('465968292', 0.0), ('1288347202947973120', 0.0), ('1044212590472245249', 0.0), ('869203933994024964', 0.0), ('826177782560518148', 0.0), ('388729560', 0.0), ('1675720117', 0.0), ('799238884936843264', 0.0), ('254538825', 0.0), ('22680918', 0.0), ('976996942071742464', 0.0), ('346251068', 0.0), ('87719108', 0.0), ('260326071', 0.0), ('2758621', 0.0), ('893369040181182464', 0.0), ('380578021', 0.0), ('62640737', 0.0), ('1330457336', 0.0), ('367297219', 0.0), ('185910194', 0.0), ('18850305', 0.0), ('1679964246', 0.0), ('703010130418339840', 0.0), ('229817847', 0.0), ('113651615', 0.0), ('1254352414372777984', 0.0), ('1167378155054780418', 0.0), ('1216318368678141954', 0.0), ('153208675', 0.0), ('745515596', 0.0), ('864531464272191488', 0.0), ('931134909682417665', 0.0), ('111649098', 0.0), ('1085303366253633536', 0.0), ('59040724', 0.0), ('16403943', 0.0), ('42956737', 0.0), ('3007703358', 0.0), ('1259941035087724547', 0.0), ('988221020', 0.0), ('2255642364', 0.0), ('806193181972779008', 0.0), ('3187990776', 0.0), ('3741979273', 0.0), ('1252310878965334016', 0.0), ('1138105948214505473', 0.0), ('372910226', 0.0), ('47656923', 0.0), ('401075948', 0.0), ('938141717022289920', 0.0), ('507182348', 0.0), ('294697122', 0.0), ('228535666', 0.0), ('43064490', 0.0), ('816653', 0.0), ('1283895232795295745', 0.0), ('2768501', 0.0), ('512319723', 0.0), ('17999593', 0.0), ('742940883457347586', 0.0), ('3321159693', 0.0), ('115616550', 0.0), ('2291233340', 0.0), ('40684912', 0.0), ('17145337', 0.0), ('928497104', 0.0), ('255096946', 0.0), ('357117681', 0.0), ('4707431321', 0.0), ('931715286', 0.0), ('573722983', 0.0), ('1881004003', 0.0), ('1606450142', 0.0), ('863379594', 0.0), ('2891747483', 0.0), ('18749977', 0.0), ('1263481274267693057', 0.0), ('34725777', 0.0), ('158532102', 0.0), ('155966304', 0.0), ('267123917', 0.0), ('54343977', 0.0), ('388279159', 0.0), ('833648491', 0.0), ('1296270021534945281', 0.0), ('1537028058', 0.0), ('4413501', 0.0), ('2800410081', 0.0), ('102937620', 0.0), ('1307796572', 0.0), ('551724311', 0.0), ('14285097', 0.0), ('14146294', 0.0), ('75654439', 0.0), ('2530821750', 0.0), ('106894107', 0.0), ('15661871', 0.0), ('27967444', 0.0), ('831020121694965762', 0.0), ('3223742785', 0.0), ('3140245508', 0.0), ('1209471801706897408', 0.0), ('259022865', 0.0), ('597189763', 0.0), ('931227981867077632', 0.0), ('27692596', 0.0), ('242059303', 0.0), ('21386695', 0.0), ('2755584845', 0.0), ('17981214', 0.0), ('500943104', 0.0), ('788827729', 0.0), ('1308325902762344448', 0.0), ('1148629750681886723', 0.0), ('1167848079904694272', 0.0), ('1001485112129867782', 0.0), ('24228154', 0.0), ('29442313', 0.0), ('1299803958056226820', 0.0), ('138203134', 0.0), ('30354991', 0.0), ('1318989432507256832', 0.0), ('901430690', 0.0), ('537527968', 0.0), ('1064301730488299522', 0.0), ('2839749065', 0.0), ('872535256003469312', 0.0), ('46875612', 0.0), ('87926380', 0.0), ('2911730338', 0.0), ('899613012851654656', 0.0), ('865639297595998208', 0.0), ('3001350724', 0.0), ('203210815', 0.0), ('894789698635407360', 0.0), ('17540785', 0.0), ('988900167289131009', 0.0), ('326511843', 0.0), ('427477975', 0.0), ('41834258', 0.0), ('118096362', 0.0), ('128212140', 0.0), ('3244502554', 0.0), ('355207720', 0.0), ('84940293', 0.0), ('4011587187', 0.0), ('318022837', 0.0), ('129936509', 0.0), ('365162432', 0.0), ('1186998929944207362', 0.0), ('1263497769936961536', 0.0), ('2415555361', 0.0), ('18994444', 0.0), ('118524934', 0.0), ('194514278', 0.0), ('845616763', 0.0), ('625733', 0.0), ('419918470', 0.0), ('592623701', 0.0), ('49916244', 0.0), ('2436260462', 0.0), ('409486555', 0.0), ('40386577', 0.0), ('128738898', 0.0), ('20548213', 0.0), ('69671781', 0.0), ('141745416', 0.0), ('1246567549', 0.0), ('308753623', 0.0), ('408651285', 0.0), ('1260069618569314308', 0.0), ('11864262', 0.0), ('17462708', 0.0), ('3312317120', 0.0)]\n"
     ]
    }
   ],
   "source": [
    "#9 Misure di centralità sul grafo completo\n",
    "#btw_centrality = nx.betweenness_centrality(twitter_graph)\n",
    "#print(\"\")\n",
    "#btw_centrality=sorted(btw_centrality.items(),key=lambda x:x[1],reverse=True)\n",
    "#print(btw_centrality)\n",
    "#cls_centrality = nx.closeness_centrality(sub_twitter_graph)\n",
    "#cls_centrality = sorted(cls_centrality.items(),key=lambda x:x[1],reverse=True)\n",
    "#print(cls_centrality)\n",
    "#dg_centrality = nx.degree_centrality(twitter_graph)\n",
    "#dg_centrality=sorted(dg_centrality.items(),key=lambda x:x[1],reverse=True)\n",
    "#print(dg_centrality)\n",
    "\n",
    "#in_centrality= nx.in_degree_centrality(twitter_graph)\n",
    "#in_centrality=sorted(in_centrality.items(),key=lambda x:x[1],reverse=True)\n",
    "#print(in_centrality)\n",
    "#out_centrality= nx.out_degree_centrality(twitter_graph)\n",
    "#print(out_centrality)\n",
    "#valori di centralità\n",
    "#undirect_centralities=[btw_centrality,cls_centrality,dg_centrality]\n",
    "#direct_centralities=[in_centrality,out_centrality]\n",
    "\n",
    "#pagerank= nx.pagerank(twitter_graph)\n",
    "#pagerank=sorted(pagerank.items(),key=lambda x:x[1],reverse=True)\n",
    "#centralities= [btw_centrality,cls_centrality,dg_centrality,in_centrality,out_centrality]\n",
    "#print(pagerank[:5])\n",
    "\n",
    "#hits= nx.hits(twitter_graph)\n",
    "#hits_hubs=hits[0]\n",
    "#hits_hub= sorted(hits_hubs.items(),key=lambda x:x[1],reverse=True)\n",
    "#print(hits_hub[:5])\n",
    "#hits_authorities=hits[1]\n",
    "#hits_authorities=sorted(hits_authorities.items(),key=lambda x:x[1],reverse=True)\n",
    "#print(hits_authorities[:5])"
   ]
  },
  {
   "cell_type": "code",
   "execution_count": 21,
   "metadata": {},
   "outputs": [
    {
     "name": "stdout",
     "output_type": "stream",
     "text": [
      "[('132646210', 0.0012819802089974392), ('19659370', 0.0006506145805422351), ('15750573', 0.0004623894429033436), ('18932422', 0.0001937332993130315), ('3036907250', 0.00015008259873409434), ('740410382', 0.0), ('1972411447', 0.0), ('257691637', 0.0), ('4893681', 0.0), ('116897811', 0.0), ('551951577', 0.0), ('91697719', 0.0), ('94732055', 0.0), ('514667085', 0.0), ('4149032843', 0.0), ('4188048952', 0.0), ('14451127', 0.0), ('2988561009', 0.0), ('920700510306529280', 0.0), ('950377242483343360', 0.0), ('1527607790', 0.0), ('923649456981135367', 0.0), ('890413838578966528', 0.0), ('1477918760', 0.0), ('810893744593584128', 0.0), ('125483940', 0.0), ('406303880', 0.0), ('4863093417', 0.0), ('2924886188', 0.0), ('2190533245', 0.0), ('3095317209', 0.0), ('153764165', 0.0), ('748315519674048512', 0.0), ('386908329', 0.0), ('21192987', 0.0), ('2826508686', 0.0), ('65915718', 0.0), ('203070657', 0.0), ('3916694415', 0.0), ('3761306416', 0.0), ('384127183', 0.0), ('3513346942', 0.0), ('115091858', 0.0), ('2206179206', 0.0), ('3510179057', 0.0), ('5734242', 0.0), ('2309104237', 0.0), ('101045085', 0.0), ('3331252607', 0.0), ('127894322', 0.0), ('269301403', 0.0), ('466894113', 0.0), ('341000847', 0.0), ('2926864059', 0.0), ('39048846', 0.0), ('151303125', 0.0), ('1527461', 0.0), ('400804254', 0.0), ('2346714074', 0.0), ('25134469', 0.0), ('216703645', 0.0), ('17554109', 0.0), ('1121934716', 0.0), ('22597445', 0.0), ('32942338', 0.0), ('3041372326', 0.0), ('2515540081', 0.0), ('46922123', 0.0), ('202853969', 0.0), ('140093780', 0.0), ('3035143127', 0.0), ('193309907', 0.0), ('485865743', 0.0), ('15378449', 0.0), ('533149076', 0.0), ('144779689', 0.0), ('500950174', 0.0), ('3145021135', 0.0), ('469119337', 0.0), ('217377296', 0.0), ('36448779', 0.0), ('3128829965', 0.0), ('126352685', 0.0), ('720212700', 0.0), ('14761223', 0.0), ('495430242', 0.0), ('2226776658', 0.0), ('251614179', 0.0), ('114146587', 0.0), ('17743823', 0.0), ('2475224005', 0.0), ('3130548765', 0.0), ('496430086', 0.0), ('40030538', 0.0), ('828489290', 0.0), ('2700931729', 0.0), ('301941645', 0.0), ('338989477', 0.0), ('2568478126', 0.0), ('66722583', 0.0), ('46131106', 0.0), ('249661913', 0.0), ('54875928', 0.0), ('2601589496', 0.0), ('2587811778', 0.0), ('1850752598', 0.0), ('25481069', 0.0), ('2457267950', 0.0), ('1365711606', 0.0), ('201275909', 0.0), ('331076291', 0.0), ('44973000', 0.0), ('1339637532', 0.0), ('93781753', 0.0), ('2318099514', 0.0), ('19677430', 0.0), ('544737616', 0.0), ('1322931373', 0.0), ('175011974', 0.0), ('248135933', 0.0), ('15455450', 0.0), ('1002193231', 0.0), ('119512412', 0.0), ('127489643', 0.0), ('11892372', 0.0), ('22026924', 0.0), ('146159328', 0.0), ('130671142', 0.0), ('209100025', 0.0), ('332134740', 0.0), ('17078917', 0.0), ('78269677', 0.0), ('147949965', 0.0), ('237738266', 0.0), ('17076764', 0.0), ('831922344', 0.0), ('15159648', 0.0), ('16868154', 0.0), ('538326631', 0.0), ('604779041', 0.0), ('108441778', 0.0), ('78969930', 0.0), ('18417153', 0.0), ('393675585', 0.0), ('70422392', 0.0), ('350152586', 0.0), ('68475307', 0.0), ('400831970', 0.0), ('14266044', 0.0), ('18115497', 0.0), ('66369383', 0.0), ('14488805', 0.0), ('55044770', 0.0), ('60884801', 0.0), ('53654934', 0.0), ('6763242', 0.0), ('52059998', 0.0), ('49945724', 0.0), ('48677032', 0.0), ('7415172', 0.0), ('746052642925740033', 0.0), ('1320513201071484928', 0.0), ('240478658', 0.0), ('1371476814', 0.0), ('994300581291282432', 0.0), ('108207407', 0.0), ('1313137113454579717', 0.0), ('1301869598481014787', 0.0), ('1046614848', 0.0), ('2893424886', 0.0), ('14616323', 0.0), ('2842688136', 0.0), ('1256240551118200835', 0.0), ('1276832114856656896', 0.0), ('301709965', 0.0), ('632815919', 0.0), ('748176824', 0.0), ('1535439446', 0.0), ('18202677', 0.0), ('1233080567727521792', 0.0), ('257111136', 0.0), ('1232460508160094209', 0.0), ('2981463028', 0.0), ('2960317030', 0.0), ('181348220', 0.0), ('1369078711', 0.0), ('22585506', 0.0), ('433873132', 0.0), ('167735563', 0.0), ('1081076050061213697', 0.0), ('1306824555420213249', 0.0), ('1064940934528421888', 0.0), ('544875915', 0.0), ('37162329', 0.0), ('1287104705185939456', 0.0), ('354009660', 0.0), ('915167646240325632', 0.0), ('1556357336', 0.0), ('961808198', 0.0), ('1245923843119575041', 0.0), ('623575404', 0.0), ('1182908622113660929', 0.0), ('1212987379692081153', 0.0), ('103835763', 0.0), ('1609328383', 0.0), ('1690763647', 0.0), ('75525450', 0.0), ('1052291485901697024', 0.0), ('1289974182755762176', 0.0), ('778856886', 0.0), ('2867784412', 0.0), ('2186834214', 0.0), ('1280838371682779136', 0.0), ('812055605510803456', 0.0), ('11773812', 0.0), ('948669952843595776', 0.0), ('925565433679298560', 0.0), ('103761767', 0.0), ('301178769', 0.0), ('1168926603855958017', 0.0), ('2451712820', 0.0), ('484733763', 0.0), ('1228678952', 0.0), ('1168865024674357248', 0.0), ('87473622', 0.0), ('193935341', 0.0), ('229601276', 0.0), ('702309206', 0.0), ('160246849', 0.0), ('1019194066855006208', 0.0), ('1265795638551212032', 0.0), ('831290691712004096', 0.0), ('1253984770083692544', 0.0), ('4890000754', 0.0), ('1251059396991311872', 0.0), ('1251108504653361152', 0.0), ('1251034648492138498', 0.0), ('1251232344947613701', 0.0), ('1251073078211178496', 0.0), ('1077734311799984128', 0.0), ('1255539999467958272', 0.0), ('101818541', 0.0), ('61143806', 0.0), ('33970089', 0.0), ('1214864022572425217', 0.0), ('814980524200566784', 0.0), ('1148595838664552451', 0.0), ('1238826270', 0.0), ('755513278625898496', 0.0), ('1245061044847947777', 0.0), ('2522143308', 0.0), ('1605951265', 0.0), ('6355402', 0.0), ('998681467696885761', 0.0), ('38048603', 0.0), ('906922846412267521', 0.0), ('25037133', 0.0), ('918943909811769344', 0.0), ('47681517', 0.0), ('1204339794471538688', 0.0), ('1219230275198058497', 0.0), ('1171878193114025987', 0.0), ('15068044', 0.0), ('427330274', 0.0), ('247943231', 0.0), ('2604894992', 0.0), ('1582645148', 0.0), ('828064288417779712', 0.0), ('1187585868493537280', 0.0), ('154138518', 0.0), ('84036295', 0.0), ('2492690671', 0.0), ('2424680826', 0.0), ('1194379349803319298', 0.0), ('299807081', 0.0), ('1070352023449669632', 0.0), ('1110855455696314368', 0.0), ('1054280867512705025', 0.0), ('2343425496', 0.0), ('515192228', 0.0), ('409922330', 0.0), ('131111665', 0.0), ('13360372', 0.0), ('1178221893616308224', 0.0), ('87242603', 0.0), ('1183933523129970689', 0.0), ('4460137405', 0.0), ('87985586', 0.0), ('1179011991563915264', 0.0), ('618193431', 0.0), ('790451965', 0.0), ('1168762828607508480', 0.0), ('1111730640762875907', 0.0), ('1067977726118682625', 0.0), ('1155634482629791746', 0.0), ('975115762712096768', 0.0), ('533584357', 0.0), ('1169945329053130753', 0.0), ('807251568961744896', 0.0), ('760799156256382976', 0.0), ('1166366776625467393', 0.0), ('743908703863083008', 0.0), ('305474242', 0.0), ('896036165350019073', 0.0), ('996170598056263683', 0.0), ('234321271', 0.0), ('1099250750155354114', 0.0), ('874632132353826816', 0.0), ('711001600567828481', 0.0), ('6459362', 0.0), ('1930184042', 0.0), ('928151539893420032', 0.0), ('849902720827875330', 0.0), ('188029486', 0.0), ('242868086', 0.0), ('2983902143', 0.0), ('320568816', 0.0), ('20926161', 0.0), ('185263153', 0.0), ('54580934', 0.0), ('899783769854320640', 0.0), ('18874262', 0.0), ('1141316975324536832', 0.0), ('125721127', 0.0), ('17018894', 0.0), ('86754006', 0.0), ('1144823372158767104', 0.0), ('1033944831918104576', 0.0), ('1094001009188397057', 0.0), ('22132438', 0.0), ('1017171853914333185', 0.0), ('3230093066', 0.0), ('1166221754', 0.0), ('1120424520773505028', 0.0), ('1081289442671902720', 0.0), ('758771866500816896', 0.0), ('1014561', 0.0), ('1121364987178618880', 0.0), ('82364810', 0.0), ('82541893', 0.0), ('1114432920121376768', 0.0), ('774324193928351744', 0.0), ('2874803443', 0.0), ('1108685535088771073', 0.0), ('50706020', 0.0), ('1267637312', 0.0), ('1107588341124337666', 0.0), ('1107254048896548864', 0.0), ('4793796869', 0.0), ('871920132641173504', 0.0), ('1102341617371963392', 0.0), ('1101500498564313090', 0.0), ('156322219', 0.0), ('82774113', 0.0), ('70900164', 0.0), ('3775401076', 0.0), ('59217922', 0.0), ('4228354103', 0.0), ('3305766383', 0.0), ('1090911182591086592', 0.0), ('563947963', 0.0), ('822431809', 0.0), ('904533569749508097', 0.0), ('9719522', 0.0), ('1081241209622822913', 0.0), ('224209816', 0.0), ('3232640646', 0.0), ('1077863989202247681', 0.0), ('243082126', 0.0), ('2882893927', 0.0), ('822405576504344576', 0.0), ('1721425735', 0.0), ('308799838', 0.0), ('827392886', 0.0), ('713164296604090368', 0.0), ('1065937815022837760', 0.0), ('272376633', 0.0), ('761153954809913344', 0.0), ('108989193', 0.0), ('6778812', 0.0), ('1040575154424893441', 0.0), ('101711550', 0.0), ('1471694196', 0.0), ('49911968', 0.0), ('778982023415291904', 0.0), ('870764041660190720', 0.0), ('4694535756', 0.0), ('40576466', 0.0), ('13568892', 0.0), ('2165646554', 0.0), ('2279201814', 0.0), ('1019221160742014976', 0.0), ('2336440088', 0.0), ('947311503216066560', 0.0), ('876785354', 0.0), ('1016764586228412421', 0.0), ('1014974716359081988', 0.0), ('28776166', 0.0), ('3865043177', 0.0), ('327301533', 0.0), ('53250831', 0.0), ('75392682', 0.0), ('3272004860', 0.0), ('822367881547550720', 0.0), ('1255799724', 0.0), ('998279534947586048', 0.0), ('3332231', 0.0), ('994886035086761984', 0.0), ('2608840453', 0.0), ('777648349', 0.0), ('972987874613366784', 0.0), ('1426135280', 0.0), ('984208484328763395', 0.0), ('374433827', 0.0), ('360783415', 0.0), ('14417382', 0.0), ('709493676121042945', 0.0), ('984363152958685184', 0.0), ('4652730673', 0.0), ('15675384', 0.0), ('19626509', 0.0), ('874530424575336449', 0.0), ('946591233954033664', 0.0), ('44583317', 0.0), ('972494379754688518', 0.0), ('36966461', 0.0), ('109399833', 0.0), ('934851466082357249', 0.0), ('4770618972', 0.0), ('969392138076041216', 0.0), ('4712272236', 0.0), ('955493794669121537', 0.0), ('200466843', 0.0), ('580335026', 0.0), ('950072183031771136', 0.0), ('949642445083459585', 0.0), ('3033312071', 0.0), ('838701223113068544', 0.0), ('942684527754989568', 0.0), ('9180262', 0.0), ('936713855878787074', 0.0), ('940901351759994880', 0.0), ('2310390416', 0.0), ('885944485615738881', 0.0), ('90109488', 0.0), ('911514942335012864', 0.0), ('4897300665', 0.0), ('2462926410', 0.0), ('809848752', 0.0), ('34642043', 0.0), ('608052226', 0.0), ('917738789233217536', 0.0), ('37069005', 0.0), ('45412709', 0.0), ('195719387', 0.0), ('716947512154853376', 0.0), ('429259920', 0.0), ('269930404', 0.0), ('370597692', 0.0), ('14978945', 0.0), ('889657085868298240', 0.0), ('889461651673690112', 0.0), ('33113669', 0.0), ('2252260178', 0.0), ('872544691442466816', 0.0), ('891193292385288193', 0.0), ('3310895591', 0.0), ('887627169765130241', 0.0), ('1598324696', 0.0), ('880523990883848192', 0.0), ('3406278903', 0.0), ('2289023460', 0.0), ('877823703249068032', 0.0), ('873162092819488769', 0.0), ('78269397', 0.0), ('2613410444', 0.0), ('838930153665363968', 0.0), ('151490538', 0.0), ('837214523547353089', 0.0), ('856509174473248768', 0.0), ('709476815090413568', 0.0), ('3102522680', 0.0), ('771681197781053440', 0.0), ('1557796237', 0.0), ('327066310', 0.0), ('850170113504325632', 0.0), ('4874161629', 0.0), ('14294701', 0.0), ('245345590', 0.0), ('26240101', 0.0), ('36927290', 0.0), ('839149376643686401', 0.0), ('434835815', 0.0), ('832267168276475904', 0.0), ('833624768800817152', 0.0), ('831393481465556992', 0.0), ('781751446362468353', 0.0), ('801059640951836672', 0.0), ('824886467721703425', 0.0), ('101353399', 0.0), ('20314655', 0.0), ('824812182114164736', 0.0), ('3902819477', 0.0), ('821666958680719361', 0.0), ('1409748306', 0.0), ('44871098', 0.0), ('1053292116', 0.0), ('121709074', 0.0), ('848687484', 0.0), ('1086604922', 0.0), ('16549460', 0.0), ('14794109', 0.0), ('289560192', 0.0), ('188221066', 0.0), ('2579832252', 0.0), ('253734620', 0.0), ('774076183461892096', 0.0), ('4347423515', 0.0), ('12414242', 0.0), ('4873684235', 0.0), ('173431194', 0.0), ('356775978', 0.0), ('789107706397196288', 0.0), ('84060395', 0.0), ('717348489215262724', 0.0), ('256644046', 0.0), ('771427581992185856', 0.0), ('771036399671705600', 0.0), ('769823624308092928', 0.0), ('23761309', 0.0), ('2373145729', 0.0), ('16514335', 0.0), ('2475572071', 0.0), ('748525684578914304', 0.0), ('11235202', 0.0), ('742643587108605952', 0.0), ('4485809179', 0.0), ('725639768663576576', 0.0), ('3943475233', 0.0), ('312809493', 0.0), ('1468634743', 0.0), ('1974656552', 0.0), ('29277960', 0.0), ('273561140', 0.0), ('2438493248', 0.0), ('1072910977', 0.0), ('4025609913', 0.0), ('494181406', 0.0), ('16387111', 0.0), ('231845623', 0.0), ('1028693496', 0.0), ('2239534928', 0.0), ('1108108225', 0.0), ('330917707', 0.0), ('3341697257', 0.0), ('263247974', 0.0), ('829115622', 0.0), ('3892710581', 0.0), ('700999301514686464', 0.0), ('41974909', 0.0), ('39697728', 0.0), ('704185699415695360', 0.0), ('4833032980', 0.0), ('16279554', 0.0), ('4829277184', 0.0), ('4157611', 0.0), ('211457876', 0.0), ('2218900633', 0.0), ('3375552377', 0.0), ('1851621', 0.0), ('3099020035', 0.0), ('3317549893', 0.0), ('3317585532', 0.0), ('4196200462', 0.0), ('16136933', 0.0), ('427431943', 0.0), ('3946229836', 0.0), ('2353222800', 0.0), ('337797562', 0.0), ('626282563', 0.0), ('68701660', 0.0), ('858519894', 0.0), ('2995188801', 0.0), ('3298523377', 0.0), ('3225904081', 0.0), ('2847332414', 0.0), ('3364147025', 0.0), ('376725527', 0.0), ('3339046197', 0.0), ('3243155048', 0.0), ('3318895763', 0.0), ('3160109092', 0.0), ('2615258306', 0.0), ('607311335', 0.0), ('3292784453', 0.0), ('2378438060', 0.0), ('1708488139', 0.0), ('103546343', 0.0), ('3221752726', 0.0), ('561277962', 0.0), ('231722071', 0.0), ('828625466', 0.0), ('92071137', 0.0), ('391867472', 0.0), ('2550133394', 0.0), ('396680992', 0.0), ('71167669', 0.0), ('2371689380', 0.0), ('2986013849', 0.0), ('562222972', 0.0), ('48457557', 0.0), ('1669374084', 0.0), ('2251030016', 0.0), ('2996506102', 0.0), ('2968801294', 0.0), ('2209003450', 0.0), ('1567085737', 0.0), ('352248891', 0.0), ('2890969865', 0.0), ('747665252', 0.0), ('7368332', 0.0), ('22289618', 0.0), ('308226281', 0.0), ('561226226', 0.0), ('2854283403', 0.0), ('2269512362', 0.0), ('47456957', 0.0), ('15581480', 0.0), ('68443905', 0.0), ('312131328', 0.0), ('212276623', 0.0), ('14657345', 0.0), ('2786141198', 0.0), ('392248167', 0.0), ('1494913634', 0.0), ('45794386', 0.0), ('197608061', 0.0), ('313207740', 0.0), ('518957746', 0.0), ('2653043425', 0.0), ('7851812', 0.0), ('20225119', 0.0), ('2685989162', 0.0), ('2422189058', 0.0), ('264132382', 0.0), ('137745777', 0.0), ('2734776646', 0.0), ('290705256', 0.0), ('130256377', 0.0), ('435727485', 0.0), ('564663512', 0.0), ('1929876336', 0.0), ('25624456', 0.0), ('84508784', 0.0), ('1622761998', 0.0), ('2155233830', 0.0), ('2189994866', 0.0), ('1546005282', 0.0), ('223380941', 0.0), ('194324277', 0.0), ('15045590', 0.0), ('90626911', 0.0), ('2427734180', 0.0), ('156204739', 0.0), ('32193354', 0.0), ('27375578', 0.0), ('2512218333', 0.0), ('2461022395', 0.0), ('2386023224', 0.0), ('159240329', 0.0), ('213248607', 0.0), ('99015174', 0.0), ('2209729028', 0.0), ('126274094', 0.0), ('2213823000', 0.0), ('430570985', 0.0), ('1379105228', 0.0), ('2215006026', 0.0), ('142293342', 0.0), ('159342110', 0.0), ('104435358', 0.0), ('60959947', 0.0), ('2189885600', 0.0), ('220378862', 0.0), ('2272376472', 0.0), ('21782750', 0.0), ('1907881', 0.0), ('27224166', 0.0), ('2203092098', 0.0), ('234058792', 0.0), ('1062729727', 0.0), ('206292087', 0.0), ('2190723061', 0.0), ('79067151', 0.0), ('1911204626', 0.0), ('16249403', 0.0), ('268262631', 0.0), ('135508015', 0.0), ('50269516', 0.0), ('135801478', 0.0), ('891186338', 0.0), ('1932160213', 0.0), ('26711278', 0.0), ('567383651', 0.0), ('279903146', 0.0), ('30981656', 0.0), ('10277212', 0.0), ('1685766865', 0.0), ('195525587', 0.0), ('18506971', 0.0), ('33505544', 0.0), ('856684314', 0.0), ('934087003', 0.0), ('728354894', 0.0), ('14614664', 0.0), ('1553685114', 0.0), ('281945877', 0.0), ('1517068255', 0.0), ('1357389505', 0.0), ('190821474', 0.0), ('60832858', 0.0), ('1441677282', 0.0), ('17354555', 0.0), ('17657107', 0.0), ('337745478', 0.0), ('17730501', 0.0), ('1231314888', 0.0), ('10868922', 0.0), ('281079339', 0.0), ('190006526', 0.0), ('54682074', 0.0), ('234017215', 0.0), ('139507464', 0.0), ('622716896', 0.0), ('8260242', 0.0), ('1116622891', 0.0), ('562363', 0.0), ('422016668', 0.0), ('271370579', 0.0), ('250344120', 0.0), ('551776311', 0.0), ('181954043', 0.0), ('980046830', 0.0), ('285332715', 0.0), ('18855622', 0.0), ('250059685', 0.0), ('784824594', 0.0), ('132453147', 0.0), ('17580853', 0.0), ('53645823', 0.0), ('1015930135', 0.0), ('1014722412', 0.0), ('216919545', 0.0), ('388144129', 0.0), ('618551148', 0.0), ('124319949', 0.0), ('241167877', 0.0), ('406932163', 0.0), ('951844723', 0.0), ('43641631', 0.0), ('887159288', 0.0), ('97880420', 0.0), ('84560252', 0.0), ('20640711', 0.0), ('256879792', 0.0), ('48235638', 0.0), ('47978543', 0.0), ('16423883', 0.0), ('802182440', 0.0), ('606265290', 0.0), ('133550954', 0.0), ('58880930', 0.0), ('78912282', 0.0), ('50257296', 0.0), ('475026877', 0.0), ('214272214', 0.0), ('606214834', 0.0), ('617400195', 0.0), ('68084193', 0.0), ('443602279', 0.0), ('126062970', 0.0), ('17773969', 0.0), ('14265641', 0.0), ('14784786', 0.0), ('12160482', 0.0), ('14494523', 0.0), ('200083348', 0.0), ('17268402', 0.0), ('80979483', 0.0), ('514189512', 0.0), ('45123871', 0.0), ('2025101', 0.0), ('13507112', 0.0), ('485447824', 0.0), ('49287656', 0.0), ('73705954', 0.0), ('113339417', 0.0), ('313348339', 0.0), ('492216731', 0.0), ('272623675', 0.0), ('274134534', 0.0), ('19204539', 0.0), ('190778398', 0.0), ('467852343', 0.0), ('289284899', 0.0), ('195658424', 0.0), ('249695469', 0.0), ('18843675', 0.0), ('111373125', 0.0), ('442245081', 0.0), ('423567471', 0.0), ('9571292', 0.0), ('431192409', 0.0), ('69218199', 0.0), ('14339792', 0.0), ('201194687', 0.0), ('146195370', 0.0), ('408986233', 0.0), ('51215183', 0.0), ('40389352', 0.0), ('136088911', 0.0), ('391247062', 0.0), ('245907225', 0.0), ('95630269', 0.0), ('382393', 0.0), ('253587073', 0.0), ('226298062', 0.0), ('16102444', 0.0), ('11649702', 0.0), ('361115646', 0.0), ('202740551', 0.0), ('65605637', 0.0), ('46932973', 0.0), ('11069462', 0.0), ('258722513', 0.0), ('10627282', 0.0), ('284099686', 0.0), ('12755532', 0.0), ('181720081', 0.0), ('6015842', 0.0), ('166499569', 0.0), ('135047672', 0.0), ('37622738', 0.0), ('126718539', 0.0), ('23999540', 0.0), ('199298537', 0.0), ('17278474', 0.0), ('201854523', 0.0), ('151208743', 0.0), ('191728278', 0.0), ('142724647', 0.0), ('54959293', 0.0), ('23055193', 0.0), ('36659063', 0.0), ('18052550', 0.0), ('26092949', 0.0), ('24897144', 0.0), ('29639366', 0.0), ('76937615', 0.0), ('52869134', 0.0), ('101013918', 0.0), ('139377848', 0.0), ('18869136', 0.0), ('131947210', 0.0), ('28312691', 0.0), ('34698700', 0.0), ('112099606', 0.0), ('1855871', 0.0), ('1118909833942577153', 0.0), ('2572511777', 0.0), ('369085369', 0.0), ('1320653768346816512', 0.0), ('1218287414965350401', 0.0), ('700064764', 0.0), ('1064203950717583360', 0.0), ('1084900963306098689', 0.0), ('1037864733360226304', 0.0), ('1035807940719112192', 0.0), ('1023655925742268426', 0.0), ('1401748656', 0.0), ('959849838212014081', 0.0), ('636089336', 0.0), ('390380093', 0.0), ('844218954088435712', 0.0), ('194989299', 0.0), ('948483885209477121', 0.0), ('898161154169679873', 0.0), ('71502653', 0.0), ('918798040282091520', 0.0), ('920563781616496641', 0.0), ('945020688', 0.0), ('780874432927719424', 0.0), ('903217429555359744', 0.0), ('899166691652972544', 0.0), ('897568340075479040', 0.0), ('896676717603028992', 0.0), ('884047713372975104', 0.0), ('866900373302378503', 0.0), ('860098587287588864', 0.0), ('731124359117590528', 0.0), ('859698369765179392', 0.0), ('85813091', 0.0), ('2321117354', 0.0), ('857570979022876672', 0.0), ('2636910597', 0.0), ('852054291049316352', 0.0), ('1653261366', 0.0), ('848152044137574401', 0.0), ('3512256616', 0.0), ('839446682819563520', 0.0), ('838141984053284864', 0.0), ('838131126002728960', 0.0), ('151581782', 0.0), ('832361946154401792', 0.0), ('828683626372009985', 0.0), ('3030560968', 0.0), ('1377476875', 0.0), ('4707064313', 0.0), ('824249522389970944', 0.0), ('822933216206188544', 0.0), ('14359747', 0.0), ('806101991109890048', 0.0), ('717756832240902144', 0.0), ('796368494342316032', 0.0), ('787338664477134848', 0.0), ('790342394675888128', 0.0), ('780788089966829568', 0.0), ('789736108896751616', 0.0), ('788839271239184385', 0.0), ('2544161559', 0.0), ('748179418397421568', 0.0), ('780174132', 0.0), ('68351679', 0.0), ('744114034660773888', 0.0), ('65587580', 0.0), ('398537509', 0.0), ('739565869433524225', 0.0), ('720750427147341824', 0.0), ('1904734980', 0.0), ('3025618094', 0.0), ('882605036', 0.0), ('713395522095210496', 0.0), ('712614852263542784', 0.0), ('943676329', 0.0), ('737882640', 0.0), ('714365137365426176', 0.0), ('714783310954774529', 0.0), ('436122215', 0.0), ('706431707885477888', 0.0), ('705504146808565760', 0.0), ('4928034543', 0.0), ('702513144782950400', 0.0), ('3237012607', 0.0), ('1582911193', 0.0), ('4854858064', 0.0), ('4739335047', 0.0), ('4718039356', 0.0), ('3988215194', 0.0), ('4385501957', 0.0), ('334516778', 0.0), ('3892691301', 0.0), ('3751854082', 0.0), ('203866616', 0.0), ('520133735', 0.0), ('3319270312', 0.0), ('476514758', 0.0), ('469115517', 0.0), ('406260699', 0.0), ('3242397351', 0.0), ('3293206151', 0.0), ('1605423500', 0.0), ('3226059106', 0.0), ('3197088767', 0.0), ('3165380261', 0.0), ('1351611290', 0.0), ('2881046435', 0.0), ('54541583', 0.0), ('3007913925', 0.0), ('2987533553', 0.0), ('2328843320', 0.0), ('2900424513', 0.0), ('2895307672', 0.0), ('2785709353', 0.0), ('852962413', 0.0), ('2872651869', 0.0), ('2797743527', 0.0), ('517818047', 0.0), ('2803495736', 0.0), ('628623778', 0.0), ('487786548', 0.0), ('2176025565', 0.0), ('2754814433', 0.0), ('1728885823', 0.0), ('2754412213', 0.0), ('2607919231', 0.0), ('2735046987', 0.0), ('2714310207', 0.0), ('436837074', 0.0), ('202626872', 0.0), ('377344523', 0.0), ('6979832', 0.0), ('1004615060', 0.0), ('2525616956', 0.0), ('2560958309', 0.0), ('234070123', 0.0), ('2544647385', 0.0), ('2244880545', 0.0), ('147299961', 0.0), ('2381066016', 0.0), ('256353770', 0.0), ('1497795582', 0.0), ('1269448278', 0.0), ('2328954662', 0.0), ('2147987488', 0.0), ('944443345', 0.0), ('51023058', 0.0), ('348011201', 0.0), ('1877046548', 0.0), ('358026989', 0.0), ('1934192923', 0.0), ('809193212', 0.0), ('1677808003', 0.0), ('1629889939', 0.0), ('1620225060', 0.0), ('1578022897', 0.0), ('1280804221', 0.0), ('1523858262', 0.0), ('121492869', 0.0), ('1109067043', 0.0), ('39721490', 0.0), ('299659731', 0.0), ('1043021486', 0.0), ('1079473267', 0.0), ('1284129738', 0.0), ('375820392', 0.0), ('1074807847', 0.0), ('1202308734', 0.0), ('1148229403', 0.0), ('184817606', 0.0), ('1089302341', 0.0), ('1037384052', 0.0), ('104633187', 0.0), ('1009253378', 0.0), ('960887748', 0.0), ('934228950', 0.0), ('904174368', 0.0), ('925220088', 0.0), ('370102769', 0.0), ('294119630', 0.0), ('851254609', 0.0), ('419946721', 0.0), ('174991185', 0.0), ('436038865', 0.0), ('579115459', 0.0), ('803003521', 0.0), ('8762122', 0.0), ('220017829', 0.0), ('39618125', 0.0), ('190161488', 0.0), ('616572834', 0.0), ('586366163', 0.0), ('343998886', 0.0), ('150732625', 0.0), ('624208322', 0.0), ('616564407', 0.0), ('420316063', 0.0), ('449616976', 0.0), ('96127287', 0.0), ('577243493', 0.0), ('150346051', 0.0), ('73926321', 0.0), ('479798490', 0.0), ('566703294', 0.0), ('563979425', 0.0), ('441676899', 0.0), ('293483941', 0.0), ('540985738', 0.0), ('253973566', 0.0), ('106505501', 0.0), ('555461978', 0.0), ('262236415', 0.0), ('417189950', 0.0), ('482995387', 0.0), ('66821479', 0.0), ('24932781', 0.0), ('464907377', 0.0), ('527454176', 0.0), ('469631198', 0.0), ('394665897', 0.0), ('377571301', 0.0), ('220020080', 0.0), ('67383602', 0.0), ('304540433', 0.0), ('384759698', 0.0), ('315707871', 0.0), ('197623145', 0.0), ('450594910', 0.0), ('403677666', 0.0), ('409166947', 0.0), ('176870844', 0.0), ('277667306', 0.0), ('102609059', 0.0), ('79764713', 0.0), ('123678691', 0.0), ('146116918', 0.0), ('130667410', 0.0), ('136142062', 0.0), ('119406189', 0.0), ('122408887', 0.0), ('114782375', 0.0), ('107751300', 0.0), ('95745203', 0.0), ('95267165', 0.0), ('84854764', 0.0), ('85700509', 0.0), ('85428593', 0.0), ('79128388', 0.0), ('83566575', 0.0), ('58558979', 0.0), ('61187211', 0.0), ('15657398', 0.0), ('50607971', 0.0), ('65468350', 0.0), ('65423884', 0.0), ('63051202', 0.0), ('62952214', 0.0), ('52671862', 0.0), ('14183423', 0.0), ('59913797', 0.0), ('55612967', 0.0), ('40903402', 0.0), ('52414554', 0.0), ('37139722', 0.0), ('45101319', 0.0), ('46092394', 0.0), ('47567281', 0.0), ('73343', 0.0), ('33168385', 0.0), ('33105342', 0.0), ('46394850', 0.0), ('16113777', 0.0), ('46508246', 0.0), ('25860326', 0.0), ('20460664', 0.0), ('26329801', 0.0), ('43526978', 0.0), ('40380303', 0.0), ('24888653', 0.0), ('15862919', 0.0), ('42614814', 0.0), ('36049907', 0.0), ('38277726', 0.0), ('32246103', 0.0), ('44652450', 0.0), ('44595708', 0.0), ('26549850', 0.0), ('37048037', 0.0), ('39781270', 0.0), ('39889364', 0.0), ('43926213', 0.0), ('43961874', 0.0), ('30030112', 0.0), ('34690221', 0.0), ('43839644', 0.0), ('36347948', 0.0), ('37105355', 0.0), ('33677856', 0.0), ('19710651', 0.0), ('28077022', 0.0), ('26212951', 0.0), ('17917382', 0.0), ('27007409', 0.0), ('28316908', 0.0), ('27018274', 0.0), ('16079826', 0.0), ('17955611', 0.0), ('20605844', 0.0), ('19395637', 0.0), ('18238570', 0.0), ('15637569', 0.0), ('16739331', 0.0), ('16684149', 0.0), ('16611773', 0.0), ('7170002', 0.0), ('14957053', 0.0), ('12243', 0.0), ('16136478', 0.0), ('12486432', 0.0), ('6107292', 0.0), ('5869132', 0.0), ('5894962', 0.0), ('813286', 0.0), ('14125868', 0.0), ('73001375', 0.0), ('333597222', 0.0), ('569203915', 0.0), ('877108837475655680', 0.0), ('51934480', 0.0), ('2807461219', 0.0), ('268025507', 0.0), ('249255635', 0.0), ('13284672', 0.0), ('373974821', 0.0), ('117712651', 0.0), ('464868829', 0.0), ('16925097', 0.0), ('1145584490594443264', 0.0), ('1071412460', 0.0), ('248064213', 0.0), ('1196193239713353732', 0.0), ('47987831', 0.0), ('277298681', 0.0), ('2577967370', 0.0), ('1301154075434606598', 0.0), ('581406453', 0.0), ('3279064394', 0.0), ('1297170244658552838', 0.0), ('1296322367053082624', 0.0), ('1030464891830902784', 0.0), ('352650313', 0.0), ('2301908191', 0.0), ('72102865', 0.0), ('966024156574662656', 0.0), ('248721193', 0.0), ('833597084167122945', 0.0), ('761072228028911618', 0.0), ('2166763549', 0.0), ('1061582051449557003', 0.0), ('4042462396', 0.0), ('2877993331', 0.0), ('157238371', 0.0), ('35749835', 0.0), ('16621479', 0.0), ('1898912480', 0.0), ('2278288488', 0.0), ('158297618', 0.0), ('49719781', 0.0), ('219728708', 0.0), ('2427769760', 0.0), ('1189525564715089920', 0.0), ('383365753', 0.0), ('1106015165969924096', 0.0), ('78807415', 0.0), ('2527017636', 0.0), ('17015268', 0.0), ('2576448008', 0.0), ('1004448369140551682', 0.0), ('1206594224537448449', 0.0), ('77200220', 0.0), ('19690273', 0.0), ('3257676018', 0.0), ('2903217440', 0.0), ('49556240', 0.0), ('53079180', 0.0), ('2409117643', 0.0), ('977585064', 0.0), ('1162690737516863494', 0.0), ('17465774', 0.0), ('1222193343737794560', 0.0), ('1040124415151726592', 0.0), ('111801456', 0.0), ('1140163756267192321', 0.0), ('17383073', 0.0), ('4831430475', 0.0), ('1211825303388995584', 0.0), ('1228726773078208512', 0.0), ('1136467769199910912', 0.0), ('1230692054092529664', 0.0), ('34999723', 0.0), ('179571184', 0.0), ('1640671358', 0.0), ('338526004', 0.0), ('252411935', 0.0), ('803909558431313920', 0.0), ('18728897', 0.0), ('1187226845155999749', 0.0), ('1174325520294715392', 0.0), ('1734575215', 0.0), ('605027292', 0.0), ('48354997', 0.0), ('253609062', 0.0), ('22826489', 0.0), ('119459238', 0.0), ('3075691', 0.0), ('1077070220332740608', 0.0), ('1190682302977859584', 0.0), ('308843719', 0.0), ('2832694608', 0.0), ('826837132325027841', 0.0), ('1284042607', 0.0), ('477030336', 0.0), ('938473643373481985', 0.0), ('801934486023782400', 0.0), ('7295362', 0.0), ('30420908', 0.0), ('434236851', 0.0), ('1124623431377543169', 0.0), ('386277982', 0.0), ('465693357', 0.0), ('1894582058', 0.0), ('940441783', 0.0), ('769507902897856512', 0.0), ('3233792564', 0.0), ('2831695553', 0.0), ('27366114', 0.0), ('725387616', 0.0), ('512785206', 0.0), ('1148895885729947648', 0.0), ('1140577345973170177', 0.0), ('12151932', 0.0), ('157920406', 0.0), ('2864356347', 0.0), ('48448084', 0.0), ('2214711331', 0.0), ('1138704090106646528', 0.0), ('30339571', 0.0), ('298982411', 0.0), ('93903085', 0.0), ('534290225', 0.0), ('17600799', 0.0), ('837051215339008000', 0.0), ('982276165992935426', 0.0), ('91440853', 0.0), ('4883900442', 0.0), ('2315608478', 0.0), ('2382305514', 0.0), ('28245224', 0.0), ('1080724857552199682', 0.0), ('1708743114', 0.0), ('32856732', 0.0), ('2932027868', 0.0), ('801372548940398593', 0.0), ('16710690', 0.0), ('15518172', 0.0), ('600067712', 0.0), ('14208224', 0.0), ('743856512', 0.0), ('390324658', 0.0), ('1065173952664952837', 0.0), ('10752242', 0.0), ('137394430', 0.0), ('1049203448783278080', 0.0), ('793688995918024704', 0.0), ('631705640', 0.0), ('343928585', 0.0), ('915721853833900032', 0.0), ('377983647', 0.0), ('815628453613621248', 0.0), ('53340169', 0.0), ('219293337', 0.0), ('3435577992', 0.0), ('770233588721868802', 0.0), ('153327232', 0.0), ('2989739661', 0.0), ('852083180182147072', 0.0), ('615595875', 0.0), ('3081585501', 0.0), ('796877583455555584', 0.0), ('199175962', 0.0), ('843009630812995584', 0.0), ('932582571338321920', 0.0), ('327032058', 0.0), ('924426975330160641', 0.0), ('361719507', 0.0), ('354801923', 0.0), ('793483735018504192', 0.0), ('80269062', 0.0), ('14103970', 0.0), ('933679231220850688', 0.0), ('458399248', 0.0), ('77436536', 0.0), ('14575354', 0.0), ('450842550', 0.0), ('977250301', 0.0), ('44860754', 0.0), ('64732883', 0.0), ('949493208702099456', 0.0), ('45827605', 0.0), ('941478255789457408', 0.0), ('188756842', 0.0), ('917421341359464450', 0.0), ('911454651417088000', 0.0), ('918158086858211329', 0.0), ('264103867', 0.0), ('917259707236208640', 0.0), ('143187995', 0.0), ('431210487', 0.0), ('917284226269052928', 0.0), ('114738098', 0.0), ('606667727', 0.0), ('908589103737950208', 0.0), ('869188290183917568', 0.0), ('2803449260', 0.0), ('879077538525396992', 0.0), ('778607', 0.0), ('2372636521', 0.0), ('876083623711174657', 0.0), ('1425336134', 0.0), ('122424832', 0.0), ('19859014', 0.0), ('743917727820058626', 0.0), ('287275780', 0.0), ('835810382509928450', 0.0), ('856955544845811712', 0.0), ('158659687', 0.0), ('158751132', 0.0), ('849729477533892612', 0.0), ('1111871', 0.0), ('91523851', 0.0), ('4353971122', 0.0), ('373580725', 0.0), ('250055606', 0.0), ('63935826', 0.0), ('529771925', 0.0), ('836189288572325888', 0.0), ('709402060547092481', 0.0), ('2966094221', 0.0), ('2228576226', 0.0), ('2876226376', 0.0), ('797823007997722624', 0.0), ('76966092', 0.0), ('3309394037', 0.0), ('821769650211930112', 0.0), ('2986084527', 0.0), ('361288906', 0.0), ('808593541840719872', 0.0), ('1934999587', 0.0), ('207534677', 0.0), ('804563319457660928', 0.0), ('7990062', 0.0), ('719967950527205376', 0.0), ('134061959', 0.0), ('27171750', 0.0), ('240316759', 0.0), ('4531194259', 0.0), ('2190753169', 0.0), ('790899349471498240', 0.0), ('342137485', 0.0), ('787735106546827265', 0.0), ('488417933', 0.0), ('335829830', 0.0), ('700831074', 0.0), ('771363829556977665', 0.0), ('468825579', 0.0), ('126323494', 0.0), ('2450416195', 0.0), ('756380725859975168', 0.0), ('312783905', 0.0), ('4202417063', 0.0), ('317158835', 0.0), ('15090415', 0.0), ('186764685', 0.0), ('2394417954', 0.0), ('163363440', 0.0), ('21133730', 0.0), ('4898086443', 0.0), ('2274780686', 0.0), ('3147145875', 0.0), ('2982471489', 0.0), ('2891809527', 0.0), ('138562224', 0.0), ('16507835', 0.0), ('2895714597', 0.0), ('583637312', 0.0), ('114407120', 0.0), ('101764664', 0.0), ('22752868', 0.0), ('15192127', 0.0), ('3439304543', 0.0), ('262191481', 0.0), ('37715152', 0.0), ('1853174220', 0.0), ('595544862', 0.0), ('17705769', 0.0), ('25864331', 0.0), ('2752564758', 0.0), ('3353136183', 0.0), ('311404595', 0.0), ('716643191072628736', 0.0), ('470416893', 0.0), ('3621255616', 0.0), ('14947339', 0.0), ('549833457', 0.0), ('2249121151', 0.0), ('944905694', 0.0), ('115718271', 0.0), ('5763912', 0.0), ('64245814', 0.0), ('4742002531', 0.0), ('779769', 0.0), ('4827366892', 0.0), ('3361359683', 0.0), ('3367685915', 0.0), ('2974389209', 0.0), ('2310416978', 0.0), ('323616054', 0.0), ('1241258612', 0.0), ('3384319941', 0.0), ('199597043', 0.0), ('92593701', 0.0), ('310741473', 0.0), ('39112661', 0.0), ('15573348', 0.0), ('47605273', 0.0), ('4208606734', 0.0), ('197362628', 0.0), ('404100683', 0.0), ('3577056016', 0.0), ('339654180', 0.0), ('822143767', 0.0), ('553436328', 0.0), ('3405424143', 0.0), ('868437872', 0.0), ('19058451', 0.0), ('79721713', 0.0), ('27818124', 0.0), ('3079899620', 0.0), ('163009576', 0.0), ('14048484', 0.0), ('2435317801', 0.0), ('43583452', 0.0), ('21324520', 0.0), ('301037777', 0.0), ('193640022', 0.0), ('273921060', 0.0), ('2492618120', 0.0), ('1936953062', 0.0), ('24046380', 0.0), ('637087464', 0.0), ('2758095800', 0.0), ('512594470', 0.0), ('2538081673', 0.0), ('414130557', 0.0), ('2176358690', 0.0), ('2606773789', 0.0), ('2730017576', 0.0), ('27493489', 0.0), ('2209063952', 0.0), ('55247494', 0.0), ('20304025', 0.0), ('1153956919', 0.0), ('197481317', 0.0), ('1246421', 0.0), ('758175168', 0.0), ('16674284', 0.0), ('3239238377', 0.0), ('2813275219', 0.0), ('5894872', 0.0), ('159421391', 0.0), ('2962250933', 0.0), ('2253247064', 0.0), ('16579738', 0.0), ('261126954', 0.0), ('415798356', 0.0), ('75071601', 0.0), ('11939852', 0.0), ('3120886937', 0.0), ('3130629970', 0.0), ('972984764', 0.0), ('512191023', 0.0), ('15739506', 0.0), ('431764698', 0.0), ('14285650', 0.0), ('109613064', 0.0), ('398785862', 0.0), ('1002096110', 0.0), ('616219267', 0.0), ('19888273', 0.0), ('3074437553', 0.0), ('2397162947', 0.0), ('2769983813', 0.0), ('174959656', 0.0), ('112806109', 0.0), ('2706892358', 0.0), ('3018358499', 0.0), ('350164545', 0.0), ('3005431923', 0.0), ('774575', 0.0), ('9271782', 0.0), ('82337208', 0.0), ('17581976', 0.0), ('211916935', 0.0), ('16042588', 0.0), ('14757518', 0.0), ('1376639125', 0.0), ('106023728', 0.0), ('2317814702', 0.0), ('117483950', 0.0), ('15333148', 0.0), ('301939006', 0.0), ('33993797', 0.0), ('2910644884', 0.0), ('557553364', 0.0), ('2908007650', 0.0), ('1303427371', 0.0), ('59481357', 0.0), ('61302699', 0.0), ('48649222', 0.0), ('17839109', 0.0), ('1617603914', 0.0), ('289222668', 0.0), ('568542838', 0.0), ('153506820', 0.0), ('2178067878', 0.0), ('36417099', 0.0), ('1074540169', 0.0), ('14049302', 0.0), ('91168371', 0.0), ('439572655', 0.0), ('547871798', 0.0), ('1354848524', 0.0), ('203250712', 0.0), ('585390634', 0.0), ('427218827', 0.0), ('403274895', 0.0), ('288823245', 0.0), ('184125091', 0.0), ('343587148', 0.0), ('2444133930', 0.0), ('839139788846411777', 0.0), ('2417892751', 0.0), ('1111315973125169152', 0.0), ('1195044761322823680', 0.0), ('1156797119149121541', 0.0), ('911963260005552128', 0.0), ('20356196', 0.0), ('1264438328', 0.0), ('270044784', 0.0), ('954235769618538496', 0.0), ('707112185076391936', 0.0), ('4053818032', 0.0), ('854719703545253888', 0.0), ('50414506', 0.0), ('894723591446687745', 0.0), ('436609034', 0.0), ('308456550', 0.0), ('822183485523841025', 0.0), ('1483247714', 0.0), ('735809541456027648', 0.0), ('824668943285702661', 0.0), ('271485168', 0.0), ('696907754275930112', 0.0), ('4663308149', 0.0), ('1978351027', 0.0), ('701026341500690432', 0.0), ('829903626', 0.0), ('4645255754', 0.0), ('1479360883', 0.0), ('2798157850', 0.0), ('3270447613', 0.0), ('408717162', 0.0), ('3201975988', 0.0), ('1367458171', 0.0), ('3240349167', 0.0), ('3038714572', 0.0), ('3081160595', 0.0), ('2969887354', 0.0), ('2877269332', 0.0), ('2208838112', 0.0), ('3077138539', 0.0), ('3083042302', 0.0), ('263265080', 0.0), ('3036851230', 0.0), ('3015605477', 0.0), ('1019673422', 0.0), ('73509664', 0.0), ('3051698888', 0.0), ('3035211041', 0.0), ('1734817550', 0.0), ('3037264899', 0.0), ('579133028', 0.0), ('49043059', 0.0), ('569382995', 0.0), ('2827812417', 0.0), ('3053756746', 0.0), ('544360896', 0.0), ('732713436', 0.0), ('1310568144742895619', 0.0), ('45099415', 0.0)]\n"
     ]
    }
   ],
   "source": [
    "#9 Misure di centralità sul sotto-grafo\n",
    "btw_centrality = nx.betweenness_centrality(sub_twitter_graph)\n",
    "#print(btw_centrality)\n",
    "btw_centrality=sorted(btw_centrality.items(),key=lambda x:x[1],reverse=True)\n",
    "print(btw_centrality)\n"
   ]
  },
  {
   "cell_type": "code",
   "execution_count": null,
   "metadata": {
    "collapsed": true,
    "jupyter": {
     "outputs_hidden": true
    }
   },
   "outputs": [],
   "source": [
    "#Sottografo del nodo KevinRoitero\n",
    "sub_graph_KevinRoitero = nx.ego_graph(twitter_graph, \"3036907250\")\n",
    "disegna_grafo(sub_graph_KevinRoitero)\n",
    "print(clique.max_clique(sub_graph_KevinRoitero))\n"
   ]
  },
  {
   "cell_type": "code",
   "execution_count": null,
   "metadata": {
    "collapsed": true,
    "jupyter": {
     "outputs_hidden": true
    }
   },
   "outputs": [],
   "source": [
    "#11 copertua minima degli archi\n",
    "nx.min_edge_cover(undirected_twitter_graph)\n"
   ]
  },
  {
   "cell_type": "code",
   "execution_count": 1,
   "metadata": {
    "collapsed": true,
    "jupyter": {
     "outputs_hidden": true
    }
   },
   "outputs": [
    {
     "ename": "NameError",
     "evalue": "name 'omega' is not defined",
     "output_type": "error",
     "traceback": [
      "\u001b[1;31m---------------------------------------------------------------------------\u001b[0m",
      "\u001b[1;31mNameError\u001b[0m                                 Traceback (most recent call last)",
      "\u001b[1;32m<ipython-input-1-5bb5f3062409>\u001b[0m in \u001b[0;36m<module>\u001b[1;34m\u001b[0m\n\u001b[0;32m      1\u001b[0m \u001b[1;31m#12 Small-world-ness\u001b[0m\u001b[1;33m\u001b[0m\u001b[1;33m\u001b[0m\u001b[1;33m\u001b[0m\u001b[0m\n\u001b[0;32m      2\u001b[0m \u001b[1;31m#omega=nx.omega(undirected_twitter_graph, niter=20, nrand=5)\u001b[0m\u001b[1;33m\u001b[0m\u001b[1;33m\u001b[0m\u001b[1;33m\u001b[0m\u001b[0m\n\u001b[1;32m----> 3\u001b[1;33m \u001b[0mprint\u001b[0m\u001b[1;33m(\u001b[0m\u001b[0momega\u001b[0m\u001b[1;33m)\u001b[0m\u001b[1;33m\u001b[0m\u001b[1;33m\u001b[0m\u001b[0m\n\u001b[0m\u001b[0;32m      4\u001b[0m \u001b[1;31m#sigma=nx.sigma(undirected_twitter_graph,niter=20, nrand=5)\u001b[0m\u001b[1;33m\u001b[0m\u001b[1;33m\u001b[0m\u001b[1;33m\u001b[0m\u001b[0m\n\u001b[0;32m      5\u001b[0m \u001b[0mprint\u001b[0m\u001b[1;33m(\u001b[0m\u001b[0msigma\u001b[0m\u001b[1;33m)\u001b[0m\u001b[1;33m\u001b[0m\u001b[1;33m\u001b[0m\u001b[0m\n",
      "\u001b[1;31mNameError\u001b[0m: name 'omega' is not defined"
     ]
    }
   ],
   "source": [
    "#12 Small-world-ness\n",
    "omega=nx.omega(undirected_twitter_graph, niter=10, nrand=2)\n",
    "print(omega)\n",
    "sigma=nx.sigma(undirected_twitter_graph,niter=10, nrand=2)\n",
    "print(sigma)"
   ]
  },
  {
   "cell_type": "code",
   "execution_count": null,
   "metadata": {
    "collapsed": true,
    "jupyter": {
     "outputs_hidden": true
    }
   },
   "outputs": [],
   "source": [
    "#13 Correlazione di Pearson e di Kendall\n",
    "\n",
    "columns=[\"name\",\"value\"]\n",
    "centralita_df = pd.DataFrame(columns=columns)\n",
    "rows = [[\"btw_centrality\",btw_centrality],[\"cls_centrality\",cls_centrality],[\"dg_centrality\",dg_centrality],[\"in_centrality\",in_centrality],[\"out_centrality\",out_centrality]]\n",
    "#Creazione df contenente tipologia_misura : valore\n",
    "for row in rows:\n",
    "    centralita_df.loc[len(centralita_df)] = row\n",
    "#print(centralita_df)\n",
    "\n",
    "#Creazione df contenente  tipologia_misura_1 , tipologia_misura_2, valore_correlazione_1 , valore_correlazione_2\n",
    "columns=[\"name_1\",\"name_2\",\"pearson\", \"kendall\"]\n",
    "result= pd.DataFrame(columns=columns)\n",
    "\n",
    "for index, param_1 in centralita_df.iterrows():\n",
    "    for index, param_2 in centralita_df.iterrows():\n",
    "        if(param_1[\"name\"] != param_2[\"name\"]):\n",
    "            name_1= param_1[\"name\"]\n",
    "            name_2= param_2[\"name\"]\n",
    "            array_1= np.array(list(param_1[\"value\"].values()), dtype=float)\n",
    "            array_2= np.array(list(param_2[\"value\"].values()), dtype=float)\n",
    "            pearson= stats.pearsonr(array_1,array_2)\n",
    "            kendall= stats.kendalltau(array_1,array_2)\n",
    "            new_row = {\n",
    "            'name_1': name_1,\n",
    "            'name_2': name_2,\n",
    "            'pearson': pearson,\n",
    "            'kendall': kendall\n",
    "                }\n",
    "            result = result.append(new_row, ignore_index=True)\n",
    "\n",
    "result"
   ]
  }
 ],
 "metadata": {
  "kernelspec": {
   "display_name": "Python 3",
   "language": "python",
   "name": "python3"
  },
  "language_info": {
   "codemirror_mode": {
    "name": "ipython",
    "version": 3
   },
   "file_extension": ".py",
   "mimetype": "text/x-python",
   "name": "python",
   "nbconvert_exporter": "python",
   "pygments_lexer": "ipython3",
   "version": "3.8.5"
  }
 },
 "nbformat": 4,
 "nbformat_minor": 4
}
