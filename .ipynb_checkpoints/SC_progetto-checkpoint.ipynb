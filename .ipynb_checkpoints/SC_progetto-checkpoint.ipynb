{
 "cells": [
  {
   "cell_type": "code",
   "execution_count": null,
   "metadata": {
    "collapsed": true,
    "jupyter": {
     "outputs_hidden": true
    }
   },
   "outputs": [],
   "source": [
    "import tweepy\n",
    "import json\n",
    "from itertools import islice\n",
    "import os\n",
    "import time\n",
    "import pprint\n",
    "import requests\n",
    "import random\n",
    "import networkx as nx\n",
    "from networkx.algorithms.approximation import clique\n",
    "import pandas as pd\n",
    "import numpy as np\n",
    "import matplotlib.pyplot as plt\n",
    "from pylab import rcParams\n",
    "from pyvis.network import Network\n",
    "import itertools \n",
    "\n",
    "print(\"Librerie caricate!\")\n"
   ]
  },
  {
   "cell_type": "code",
   "execution_count": null,
   "metadata": {
    "collapsed": true,
    "jupyter": {
     "outputs_hidden": true
    }
   },
   "outputs": [],
   "source": [
    "\n",
    "pp=pprint.PrettyPrinter()\n",
    "\n",
    "def serialize_json(folder, filename, data):\n",
    "    if not os.path.exists(folder):\n",
    "        os.makedirs(folder, exist_ok=True)\n",
    "    with open(f\"{folder}/{filename}\", 'w', encoding='utf-8') as f:\n",
    "        json.dump(data, f, ensure_ascii=False, indent=4)\n",
    "        f.close()\n",
    "    print(f\"Data serialized to path: {folder}/{filename}\")\n",
    "\n",
    "def read_json(path):\n",
    "    if os.path.exists(path):\n",
    "        with open(path, \"r\", encoding=\"utf8\") as file:\n",
    "            data = json.load(file)\n",
    "        print(f\"Data read from path: {path}\")\n",
    "        return data\n",
    "    else:\n",
    "        print(f\"No data found at path: {path}\")\n",
    "        return {}"
   ]
  },
  {
   "cell_type": "code",
   "execution_count": null,
   "metadata": {
    "collapsed": true,
    "jupyter": {
     "outputs_hidden": true
    }
   },
   "outputs": [],
   "source": [
    "api_key=\"cvoM8D7hXXxlvBXTM8aH9X2ec\"\n",
    "api_secret=\"Uk2UvH0FJY7KaDzkXYLfgiYkA1OuCwbLlGFPyodB5wcQ5bsItN\"\n",
    "\n",
    "access_token=\"3303466053-OLuExo5KcP8UQCVwZwmyakZs8b91Fpl2lMOUDAe\"\n",
    "access_secret=\"1lMXufu42KN8JvJjYT7c0zI3Q57CkN09BxkNXZuNQ0Dej\"\n",
    "\n",
    "bearer_token=\"AAAAAAAAAAAAAAAAAAAAAHsVJQEAAAAAQ4vYb83r6ueD8QvjJ4Zpx9R7Kbw%3DQuLzsmDYOvpff7lRHGXhNJSOXTFuPyOwLHZv7HPSj9WF34h1E8\""
   ]
  },
  {
   "cell_type": "code",
   "execution_count": null,
   "metadata": {
    "collapsed": true,
    "jupyter": {
     "outputs_hidden": true
    }
   },
   "outputs": [],
   "source": [
    "auth=tweepy.OAuthHandler(api_key,api_secret)\n",
    "auth.set_access_token(access_token,access_secret)\n",
    "api=tweepy.API(auth,wait_on_rate_limit=True,wait_on_rate_limit_notify=True)\n",
    "if(api.verify_credentials):\n",
    "    print(\"Auth success\")\n"
   ]
  },
  {
   "cell_type": "code",
   "execution_count": null,
   "metadata": {
    "collapsed": true,
    "jupyter": {
     "outputs_hidden": true
    }
   },
   "outputs": [],
   "source": [
    "users=[\"mizzaro\",\"damiano10\",\"miccighel_\",\"eglu81\",\"KevinRoitero\"]\n",
    "users_id=[18932422, 132646210, 15750573, 19659370, 3036907250]"
   ]
  },
  {
   "cell_type": "code",
   "execution_count": null,
   "metadata": {
    "collapsed": true,
    "jupyter": {
     "outputs_hidden": true
    }
   },
   "outputs": [],
   "source": [
    "#1. Scaricate\n",
    "#codice da non eseguire a meno che non vogliate bruciarvi tutte le richieste di twitter API\n",
    "followers_ids,following_ids={},{}\n",
    "\n",
    "for utente in users_id:\n",
    "    followers_utente,following_utente=[],[]\n",
    "    for item in tweepy.Cursor(\n",
    "        api.followers,\n",
    "        id=utente,\n",
    "        skip_status=True,\n",
    "        include_user_entities=False\n",
    "    ).items():\n",
    "        json_data=item._json\n",
    "        user={\"id\":json_data[\"id\"]}\n",
    "        time.sleep(181)\n",
    "        #followers_utente.append({id:item._data[\"id\"]})\n",
    "        followers_utente.append(user)\n",
    "\n",
    "    followers_ids[utente]=followers_utente\n",
    "\n",
    "    for item in tweepy.Cursor(\n",
    "        api.friends,\n",
    "        id=utente,\n",
    "        skip_status=True,\n",
    "        include_user_entities=False\n",
    "    ).items():\n",
    "        json_data=item._json\n",
    "        user={\"id\":json_data[\"id\"]}\n",
    "        time.sleep(181)\n",
    "        following_utente.append(user)\n",
    "\n",
    "    following_ids[utente]=following_utente\n",
    "\n",
    "#followers_ids={\"mizzaro\":[123,456,789,...],\"damiano10\":[123,789,367,...],...}\n",
    "#export to json\n",
    "serialize_json(\"data\",\"followers_principali.json\",followers_ids)\n",
    "serialize_json(\"data\",\"following_principali.json\",following_ids)"
   ]
  },
  {
   "cell_type": "code",
   "execution_count": null,
   "metadata": {
    "collapsed": true,
    "jupyter": {
     "outputs_hidden": true
    }
   },
   "outputs": [],
   "source": [
    "followers_ids=read_json(\"data_ids/finale/followers.json\")\n",
    "following_ids=read_json(\"data_ids/finale/following.json\")\n",
    "#Temporaneamente ho unito i followers/ing di ogni utente in due file separati, non so se è giusto"
   ]
  },
  {
   "cell_type": "code",
   "execution_count": null,
   "metadata": {
    "collapsed": true,
    "jupyter": {
     "outputs_hidden": true
    }
   },
   "outputs": [],
   "source": [
    "followers_ids, following_ids = [], []\n",
    "\n",
    "# punto 2&3\n",
    "followers_ids = read_json(\"/followers_5_utenti.json\")\n",
    "following_ids = read_json(\"/following_5_utenti.json\")\n",
    "\n",
    "# 2\n",
    "random_followers_utenti_ids, followers_of_followers_ids = {}, {}\n",
    "\n",
    "for utente in followers_ids:\n",
    "    random_followers_utenti_ids[utente] = random.sample(followers_ids[utente], 5)\n",
    "# result: random_followers_utenti_ids= {\"mizzaro\":[{}{}{}{}{}],\"damiano10\":[{}...}],...}\n",
    "\n",
    "for utente in following_ids:\n",
    "    random_following_utenti_ids[utente] = random.sample(following_ids[utente], 5)\n",
    "# result: random_following_utenti_ids= {\"mizzaro\":[{}{}{}{}{}],\"damiano10\":[{}...}],...}\n",
    "\n",
    "#Download dei followers dei 10 followers degli utenti random \n",
    "for utente in random_followers_utenti_ids:\n",
    "    for f in random_followers_utenti_ids[utente]:\n",
    "        fof = []\n",
    "        print(\"scarico per \" + str(utente))\n",
    "        for item in tweepy.Cursor(\n",
    "                api.followers,\n",
    "                id=f['id'],\n",
    "                skip_status=True,\n",
    "                include_user_entities=False\n",
    "        ).items(10):\n",
    "                time.sleep(10)\n",
    "                json_data = item._json\n",
    "                user = {\"id\": json_data[\"id\"]}\n",
    "                fof.append(user)\n",
    "                print(\"Downloaded: \" + str(user))\n",
    "\n",
    "\n",
    "        followers_of_followers_ids[f['id']] = fof\n",
    "\n",
    "serialize_json(\"data_ids/finale\", \"followers_of_followers.json\", followers_of_followers_ids)\n",
    "\n",
    "#Download dei following dei 10 following degli utenti random \n",
    "for utente in random_following_utenti_ids:\n",
    "    for f in random_following_utenti_ids[utente]:\n",
    "        fof = []\n",
    "        print(\"scarico per \" + str(utente))\n",
    "        for item in tweepy.Cursor(\n",
    "                api.friends,\n",
    "                id=f['id'],\n",
    "                skip_status=True,\n",
    "                include_user_entities=False\n",
    "        ).items(10):\n",
    "            time.sleep(10)\n",
    "            json_data = item._json\n",
    "            user = {\"id\": json_data[\"id\"]}\n",
    "            fof.append(user)\n",
    "            print(\"Downloaded: \" + str(user))\n",
    "\n",
    "        following_of_following_ids[f['id']] = fof\n",
    "\n",
    "serialize_json(\"data_ids/finale\", \"following_of_following.json\", following_of_following_ids)"
   ]
  },
  {
   "cell_type": "code",
   "execution_count": null,
   "metadata": {
    "collapsed": true,
    "jupyter": {
     "outputs_hidden": true
    }
   },
   "outputs": [],
   "source": [
    "#3\n",
    "\n",
    "random_following_utenti_ids,following_of_following_ids={},{}\n",
    "\n",
    "for utente in following_ids:\n",
    "    random_following_utenti_ids[utente]=random.sample(following_ids[utente],5)\n",
    "\n",
    "try:\n",
    "    for utente in random_following_utenti_ids:\n",
    "        for f in random_following_utenti_ids[utente]:\n",
    "            fof=[]\n",
    "            time.sleep(10)\n",
    "            for item in tweepy.Cursor(\n",
    "                api.following,\n",
    "                id=f,\n",
    "                skip_status=True,\n",
    "                include_user_entities=False\n",
    "            ).items(10):\n",
    "                json_data=item._json\n",
    "                user={\"id\":json_data[\"id\"]}\n",
    "                fof.append(user)\n",
    "\n",
    "            following_of_following_ids[f[\"id\"]]=fof\n",
    "except tweepy.TweepError as error: #Le prime volte mi ha tornato TweepError:Unauthorized, ma ora non più\n",
    "    print(error)\n",
    "serialize_json(\"data_ids/finale\",\"following_of_following.json\",following_of_following_ids)"
   ]
  },
  {
   "cell_type": "code",
   "execution_count": null,
   "metadata": {
    "collapsed": true,
    "jupyter": {
     "outputs_hidden": true
    }
   },
   "outputs": [],
   "source": [
    "#Caricamento json contenente tutti gli ID dei nodi interessati\n",
    "followers_ids=read_json(\"data_ids/followers_5_utenti.json\")\n",
    "following_ids=read_json(\"data_ids/following_5_utenti.json\")\n",
    "followers_of_followers_ids=read_json(\"data_ids/followers_of_followers.json\")\n",
    "following_of_following_ids=read_json(\"data_ids/following_of_following.json\")\n",
    "print(\"Json caricati\")"
   ]
  },
  {
   "cell_type": "code",
   "execution_count": null,
   "metadata": {
    "collapsed": true,
    "jupyter": {
     "outputs_hidden": true
    }
   },
   "outputs": [],
   "source": [
    "#unione in unico json finale senza ripetizioni, tanto abbiamo già estratto i follower random ed è più comodo per la chiamata api.show_friendship\n",
    "#Logicamente, se non fosse stato per la consegna, avremmo avuto già le relazioni scaricando i followers dei 5 nodi principali\n",
    "\n",
    "lista_json=[followers_ids,following_ids,followers_of_followers_ids,following_of_following_ids]\n",
    "id_nodi_revisionati=[]\n",
    "#print(lista_json)\n",
    "for json_2 in lista_json:\n",
    "    for utente in json_2:\n",
    "      #  print(utente)\n",
    "        for user_id in json_2[utente]:\n",
    "            if not user_id in id_nodi_revisionati:\n",
    "                id_nodi_revisionati.append(user_id['id'])\n",
    "\n",
    "print(id_nodi_revisionati[:100])\n"
   ]
  },
  {
   "cell_type": "code",
   "execution_count": 24,
   "metadata": {
    "collapsed": true,
    "jupyter": {
     "outputs_hidden": true
    }
   },
   "outputs": [
    {
     "name": "stdout",
     "output_type": "stream",
     "text": [
      "{'name': 'ἀν-ἀρχή', 'screen_name': 'ColoursRiot', 'location': '', 'followers_count': 26, 'friends_count': 145, 'statuses_count': 874, 'created_at': 'Mon Aug 06 11:26:07 +0000 2012'}\n",
      "{'name': 'Christian Abbondo', 'screen_name': 'ChriShot90', 'location': '', 'followers_count': 46, 'friends_count': 226, 'statuses_count': 202, 'created_at': 'Sat Oct 19 18:02:28 +0000 2013'}\n",
      "{'name': 'Dung Doan', 'screen_name': 'dungdx34', 'location': 'Hanoi University of Technology', 'followers_count': 120, 'friends_count': 3937, 'statuses_count': 1, 'created_at': 'Fri Feb 25 23:56:08 +0000 2011'}\n",
      "{'name': 'Flavio Martins', 'screen_name': 'flaviomartins', 'location': 'Lisbon, Portugal', 'followers_count': 606, 'friends_count': 578, 'statuses_count': 1396, 'created_at': 'Mon Apr 16 16:14:43 +0000 2007'}\n",
      "{'name': 'Robert Monarch', 'screen_name': 'WWRob', 'location': 'San Francisco', 'followers_count': 4418, 'friends_count': 2990, 'statuses_count': 3343, 'created_at': 'Tue Feb 23 22:47:08 +0000 2010'}\n",
      "{'name': 'Jorge Carrillo-de-A.', 'screen_name': 'JCAlbornozC', 'location': '', 'followers_count': 50, 'friends_count': 90, 'statuses_count': 72, 'created_at': 'Thu Apr 12 13:42:57 +0000 2012'}\n",
      "{'name': 'Frank T. Hopfgartner', 'screen_name': 'FTHopf', 'location': 'Sheffield', 'followers_count': 832, 'friends_count': 615, 'statuses_count': 1318, 'created_at': 'Sun Nov 22 01:41:50 +0000 2009'}\n",
      "{'name': 'Luke Gallagher', 'screen_name': 'lgr3d', 'location': 'Australia', 'followers_count': 77, 'friends_count': 365, 'statuses_count': 1015, 'created_at': 'Sat Dec 05 05:24:54 +0000 2009'}\n",
      "{'name': 'Antonio Mallia', 'screen_name': 'antonio_mallia', 'location': 'New York, USA', 'followers_count': 952, 'friends_count': 2165, 'statuses_count': 51287, 'created_at': 'Sun Mar 04 19:22:28 +0000 2012'}\n",
      "{'name': \"NewsIR Workshop '19\", 'screen_name': 'NewsIR_Workshop', 'location': 'Parigi, Francia', 'followers_count': 105, 'friends_count': 219, 'statuses_count': 25, 'created_at': 'Mon Nov 09 12:20:28 +0000 2015'}\n",
      "{'name': 'Alberto Purpura', 'screen_name': 'alb_purpura', 'location': '', 'followers_count': 59, 'friends_count': 566, 'statuses_count': 12, 'created_at': 'Sat Nov 14 17:48:11 +0000 2015'}\n",
      "{'name': 'J. Shane Culpepper', 'screen_name': 'sculpepper', 'location': 'Australia', 'followers_count': 343, 'friends_count': 290, 'statuses_count': 447, 'created_at': 'Sun Apr 20 12:01:41 +0000 2008'}\n",
      "{'name': 'NTCIR STC', 'screen_name': 'ntcirstc', 'location': '', 'followers_count': 107, 'friends_count': 108, 'statuses_count': 55, 'created_at': 'Wed Jan 21 02:05:35 +0000 2015'}\n",
      "{'name': 'ACM SIGIR ICTIR', 'screen_name': 'acm_ictir', 'location': '', 'followers_count': 439, 'friends_count': 327, 'statuses_count': 39, 'created_at': 'Wed Oct 18 17:18:02 +0000 2017'}\n",
      "{'name': 'Emran Hossain', 'screen_name': 'emranrian55', 'location': 'Bangladesh', 'followers_count': 25, 'friends_count': 858, 'statuses_count': 132, 'created_at': 'Mon Jan 08 14:42:46 +0000 2018'}\n",
      "{'name': 'Ida Mele', 'screen_name': 'ida_mele', 'location': '', 'followers_count': 162, 'friends_count': 143, 'statuses_count': 357, 'created_at': 'Tue Jun 18 12:09:19 +0000 2013'}\n",
      "{'name': 'EvALL', 'screen_name': 'EvALL_TEAM', 'location': 'Madrid, Spain', 'followers_count': 158, 'friends_count': 447, 'statuses_count': 401, 'created_at': 'Thu Oct 26 20:36:05 +0000 2017'}\n",
      "{'name': 'Lisa Smith', 'screen_name': 'heartedlisa30', 'location': 'Stati Uniti', 'followers_count': 24, 'friends_count': 805, 'statuses_count': 61, 'created_at': 'Thu Jul 27 03:29:37 +0000 2017'}\n",
      "{'name': 'Ali Bahrainian', 'screen_name': 'ABH878', 'location': '', 'followers_count': 134, 'friends_count': 341, 'statuses_count': 71, 'created_at': 'Sun Jun 02 18:30:27 +0000 2013'}\n",
      "{'name': 'essir2017', 'screen_name': 'essir2017', 'location': 'Barcellona, Spagna', 'followers_count': 212, 'friends_count': 881, 'statuses_count': 84, 'created_at': 'Mon Dec 19 17:05:09 +0000 2016'}\n",
      "{'name': 'Franco Maria Nardini', 'screen_name': 'fmnardini', 'location': 'Montecatini-Terme, Toscana', 'followers_count': 404, 'friends_count': 1004, 'statuses_count': 333, 'created_at': 'Mon Mar 22 23:51:50 +0000 2010'}\n",
      "{'name': 'Md Zia Ullah', 'screen_name': 'zuacsea', 'location': 'Toulouse, France', 'followers_count': 283, 'friends_count': 776, 'statuses_count': 2238, 'created_at': 'Sun Nov 06 14:40:51 +0000 2011'}\n",
      "{'name': 'Josiane Mothe', 'screen_name': 'JosianeMotheFr', 'location': 'Tolosa, Francia', 'followers_count': 137, 'friends_count': 93, 'statuses_count': 82, 'created_at': 'Sat Jan 30 08:55:43 +0000 2016'}\n",
      "{'name': 'RankSys', 'screen_name': 'RankSys', 'location': '', 'followers_count': 158, 'friends_count': 129, 'statuses_count': 37, 'created_at': 'Wed Dec 10 00:39:02 +0000 2014'}\n",
      "{'name': 'ACM SIGIR', 'screen_name': 'ACMSIGIR', 'location': '', 'followers_count': 1348, 'friends_count': 841, 'statuses_count': 91, 'created_at': 'Tue Nov 12 15:15:43 +0000 2013'}\n",
      "download effettuato\n",
      "{740410382: [{'name': 'ἀν-ἀρχή', 'screen_name': 'ColoursRiot', 'location': '', 'followers_count': 26, 'friends_count': 145, 'statuses_count': 874, 'created_at': 'Mon Aug 06 11:26:07 +0000 2012'}], 1972411447: [{'name': 'Christian Abbondo', 'screen_name': 'ChriShot90', 'location': '', 'followers_count': 46, 'friends_count': 226, 'statuses_count': 202, 'created_at': 'Sat Oct 19 18:02:28 +0000 2013'}], 257691637: [{'name': 'Dung Doan', 'screen_name': 'dungdx34', 'location': 'Hanoi University of Technology', 'followers_count': 120, 'friends_count': 3937, 'statuses_count': 1, 'created_at': 'Fri Feb 25 23:56:08 +0000 2011'}], 4893681: [{'name': 'Flavio Martins', 'screen_name': 'flaviomartins', 'location': 'Lisbon, Portugal', 'followers_count': 606, 'friends_count': 578, 'statuses_count': 1396, 'created_at': 'Mon Apr 16 16:14:43 +0000 2007'}], 116897811: [{'name': 'Robert Monarch', 'screen_name': 'WWRob', 'location': 'San Francisco', 'followers_count': 4418, 'friends_count': 2990, 'statuses_count': 3343, 'created_at': 'Tue Feb 23 22:47:08 +0000 2010'}], 551951577: [{'name': 'Jorge Carrillo-de-A.', 'screen_name': 'JCAlbornozC', 'location': '', 'followers_count': 50, 'friends_count': 90, 'statuses_count': 72, 'created_at': 'Thu Apr 12 13:42:57 +0000 2012'}], 91697719: [{'name': 'Frank T. Hopfgartner', 'screen_name': 'FTHopf', 'location': 'Sheffield', 'followers_count': 832, 'friends_count': 615, 'statuses_count': 1318, 'created_at': 'Sun Nov 22 01:41:50 +0000 2009'}], 94732055: [{'name': 'Luke Gallagher', 'screen_name': 'lgr3d', 'location': 'Australia', 'followers_count': 77, 'friends_count': 365, 'statuses_count': 1015, 'created_at': 'Sat Dec 05 05:24:54 +0000 2009'}], 514667085: [{'name': 'Antonio Mallia', 'screen_name': 'antonio_mallia', 'location': 'New York, USA', 'followers_count': 952, 'friends_count': 2165, 'statuses_count': 51287, 'created_at': 'Sun Mar 04 19:22:28 +0000 2012'}], 4149032843: [{'name': \"NewsIR Workshop '19\", 'screen_name': 'NewsIR_Workshop', 'location': 'Parigi, Francia', 'followers_count': 105, 'friends_count': 219, 'statuses_count': 25, 'created_at': 'Mon Nov 09 12:20:28 +0000 2015'}], 4188048952: [{'name': 'Alberto Purpura', 'screen_name': 'alb_purpura', 'location': '', 'followers_count': 59, 'friends_count': 566, 'statuses_count': 12, 'created_at': 'Sat Nov 14 17:48:11 +0000 2015'}], 14451127: [{'name': 'J. Shane Culpepper', 'screen_name': 'sculpepper', 'location': 'Australia', 'followers_count': 343, 'friends_count': 290, 'statuses_count': 447, 'created_at': 'Sun Apr 20 12:01:41 +0000 2008'}], 2988561009: [{'name': 'NTCIR STC', 'screen_name': 'ntcirstc', 'location': '', 'followers_count': 107, 'friends_count': 108, 'statuses_count': 55, 'created_at': 'Wed Jan 21 02:05:35 +0000 2015'}], 920700510306529280: [{'name': 'ACM SIGIR ICTIR', 'screen_name': 'acm_ictir', 'location': '', 'followers_count': 439, 'friends_count': 327, 'statuses_count': 39, 'created_at': 'Wed Oct 18 17:18:02 +0000 2017'}], 950377242483343360: [{'name': 'Emran Hossain', 'screen_name': 'emranrian55', 'location': 'Bangladesh', 'followers_count': 25, 'friends_count': 858, 'statuses_count': 132, 'created_at': 'Mon Jan 08 14:42:46 +0000 2018'}], 1527607790: [{'name': 'Ida Mele', 'screen_name': 'ida_mele', 'location': '', 'followers_count': 162, 'friends_count': 143, 'statuses_count': 357, 'created_at': 'Tue Jun 18 12:09:19 +0000 2013'}], 923649456981135367: [{'name': 'EvALL', 'screen_name': 'EvALL_TEAM', 'location': 'Madrid, Spain', 'followers_count': 158, 'friends_count': 447, 'statuses_count': 401, 'created_at': 'Thu Oct 26 20:36:05 +0000 2017'}], 890413838578966528: [{'name': 'Lisa Smith', 'screen_name': 'heartedlisa30', 'location': 'Stati Uniti', 'followers_count': 24, 'friends_count': 805, 'statuses_count': 61, 'created_at': 'Thu Jul 27 03:29:37 +0000 2017'}], 1477918760: [{'name': 'Ali Bahrainian', 'screen_name': 'ABH878', 'location': '', 'followers_count': 134, 'friends_count': 341, 'statuses_count': 71, 'created_at': 'Sun Jun 02 18:30:27 +0000 2013'}], 810893744593584128: [{'name': 'essir2017', 'screen_name': 'essir2017', 'location': 'Barcellona, Spagna', 'followers_count': 212, 'friends_count': 881, 'statuses_count': 84, 'created_at': 'Mon Dec 19 17:05:09 +0000 2016'}], 125483940: [{'name': 'Franco Maria Nardini', 'screen_name': 'fmnardini', 'location': 'Montecatini-Terme, Toscana', 'followers_count': 404, 'friends_count': 1004, 'statuses_count': 333, 'created_at': 'Mon Mar 22 23:51:50 +0000 2010'}], 406303880: [{'name': 'Md Zia Ullah', 'screen_name': 'zuacsea', 'location': 'Toulouse, France', 'followers_count': 283, 'friends_count': 776, 'statuses_count': 2238, 'created_at': 'Sun Nov 06 14:40:51 +0000 2011'}], 4863093417: [{'name': 'Josiane Mothe', 'screen_name': 'JosianeMotheFr', 'location': 'Tolosa, Francia', 'followers_count': 137, 'friends_count': 93, 'statuses_count': 82, 'created_at': 'Sat Jan 30 08:55:43 +0000 2016'}], 2924886188: [{'name': 'RankSys', 'screen_name': 'RankSys', 'location': '', 'followers_count': 158, 'friends_count': 129, 'statuses_count': 37, 'created_at': 'Wed Dec 10 00:39:02 +0000 2014'}], 2190533245: [{'name': 'ACM SIGIR', 'screen_name': 'ACMSIGIR', 'location': '', 'followers_count': 1348, 'friends_count': 841, 'statuses_count': 91, 'created_at': 'Tue Nov 12 15:15:43 +0000 2013'}]}\n"
     ]
    }
   ],
   "source": [
    "#4 Scaricare i dati con api.get_user\n",
    "id_nodi_revisionati = id_nodi_revisionati[:25]\n",
    "nodes = {}\n",
    "    \n",
    "for user_id in id_nodi_revisionati: \n",
    "    node_info_of_id = []\n",
    "    #richiamo API GET_USER\n",
    "    utente=api.get_user(id=user_id)._json\n",
    "    node_infos= {} \n",
    "    \n",
    "    node_infos[\"name\"]=utente[\"name\"]\n",
    "    node_infos[\"screen_name\"]=utente[\"screen_name\"]\n",
    "    node_infos[\"location\"]=utente[\"location\"]\n",
    "    node_infos[\"followers_count\"]=utente[\"followers_count\"]\n",
    "    node_infos[\"friends_count\"]=utente[\"friends_count\"]\n",
    "    node_infos[\"statuses_count\"]=utente[\"statuses_count\"]\n",
    "    node_infos[\"created_at\"]=utente[\"created_at\"]\n",
    "    node_info_of_id.append(node_infos)\n",
    "    #print(node_infos)\n",
    "    nodes[user_id] = node_info_of_id\n",
    "    \n",
    "print(\"download effettuato\")"
   ]
  },
  {
   "cell_type": "code",
   "execution_count": null,
   "metadata": {
    "collapsed": true,
    "jupyter": {
     "outputs_hidden": true
    }
   },
   "outputs": [],
   "source": [
    "#print(nodes)    \n",
    "#serialize_json(\"data_ids\", \"nodes_of_twitter_graph.json\", nodes)"
   ]
  },
  {
   "cell_type": "code",
   "execution_count": 34,
   "metadata": {},
   "outputs": [
    {
     "name": "stdout",
     "output_type": "stream",
     "text": [
      "Completamento controllo relazioni\n"
     ]
    }
   ],
   "source": [
    "#Creazione Json avente le informazioni relative alle relazioni tra nodi e nodi_principali\n",
    "friendships=[]\n",
    "\n",
    "for node in nodes:\n",
    "    for main_user in users_id:\n",
    "        relationship = api.show_friendship(source_id=node,target_id=main_user)\n",
    "        relation = relationship[0]\n",
    "        infos_of_relation={}\n",
    "        #Controllo nell'oggetto relationship delle relazioni di follow e following\n",
    "        if(relation.following == True): # node follows the user\n",
    "            infos_of_relation[\"source\"] = node\n",
    "            infos_of_relation[\"type\"] = \"following\"\n",
    "            infos_of_relation[\"target\"] = user\n",
    "            friendships.append(r)\n",
    "        if(relation.followed_by == True): # user follows the node\n",
    "            infos_of_relation[\"source\"] = user\n",
    "            infos_of_relation[\"type\"] = \"follows\"\n",
    "            infos_of_relation[\"target\"] = node\n",
    "            friendships.append(infos_of_relation)\n",
    "\n",
    "print(\"Completamento controllo relazioni\")"
   ]
  },
  {
   "cell_type": "code",
   "execution_count": 48,
   "metadata": {},
   "outputs": [
    {
     "name": "stdout",
     "output_type": "stream",
     "text": [
      "{'name': 'ἀν-ἀρχή', 'screen_name': 'ColoursRiot', 'location': '', 'followers_count': 26, 'friends_count': 145, 'statuses_count': 874, 'created_at': 'Mon Aug 06 11:26:07 +0000 2012'}\n",
      "{'name': 'Christian Abbondo', 'screen_name': 'ChriShot90', 'location': '', 'followers_count': 46, 'friends_count': 226, 'statuses_count': 202, 'created_at': 'Sat Oct 19 18:02:28 +0000 2013'}\n",
      "{'name': 'Dung Doan', 'screen_name': 'dungdx34', 'location': 'Hanoi University of Technology', 'followers_count': 120, 'friends_count': 3937, 'statuses_count': 1, 'created_at': 'Fri Feb 25 23:56:08 +0000 2011'}\n",
      "{'name': 'Flavio Martins', 'screen_name': 'flaviomartins', 'location': 'Lisbon, Portugal', 'followers_count': 606, 'friends_count': 578, 'statuses_count': 1396, 'created_at': 'Mon Apr 16 16:14:43 +0000 2007'}\n",
      "{'name': 'Robert Monarch', 'screen_name': 'WWRob', 'location': 'San Francisco', 'followers_count': 4418, 'friends_count': 2990, 'statuses_count': 3343, 'created_at': 'Tue Feb 23 22:47:08 +0000 2010'}\n",
      "{'name': 'Jorge Carrillo-de-A.', 'screen_name': 'JCAlbornozC', 'location': '', 'followers_count': 50, 'friends_count': 90, 'statuses_count': 72, 'created_at': 'Thu Apr 12 13:42:57 +0000 2012'}\n",
      "{'name': 'Frank T. Hopfgartner', 'screen_name': 'FTHopf', 'location': 'Sheffield', 'followers_count': 832, 'friends_count': 615, 'statuses_count': 1318, 'created_at': 'Sun Nov 22 01:41:50 +0000 2009'}\n",
      "{'name': 'Luke Gallagher', 'screen_name': 'lgr3d', 'location': 'Australia', 'followers_count': 77, 'friends_count': 365, 'statuses_count': 1015, 'created_at': 'Sat Dec 05 05:24:54 +0000 2009'}\n",
      "{'name': 'Antonio Mallia', 'screen_name': 'antonio_mallia', 'location': 'New York, USA', 'followers_count': 952, 'friends_count': 2165, 'statuses_count': 51287, 'created_at': 'Sun Mar 04 19:22:28 +0000 2012'}\n",
      "{'name': \"NewsIR Workshop '19\", 'screen_name': 'NewsIR_Workshop', 'location': 'Parigi, Francia', 'followers_count': 105, 'friends_count': 219, 'statuses_count': 25, 'created_at': 'Mon Nov 09 12:20:28 +0000 2015'}\n",
      "{'name': 'Alberto Purpura', 'screen_name': 'alb_purpura', 'location': '', 'followers_count': 59, 'friends_count': 566, 'statuses_count': 12, 'created_at': 'Sat Nov 14 17:48:11 +0000 2015'}\n",
      "{'name': 'J. Shane Culpepper', 'screen_name': 'sculpepper', 'location': 'Australia', 'followers_count': 343, 'friends_count': 290, 'statuses_count': 447, 'created_at': 'Sun Apr 20 12:01:41 +0000 2008'}\n",
      "{'name': 'NTCIR STC', 'screen_name': 'ntcirstc', 'location': '', 'followers_count': 107, 'friends_count': 108, 'statuses_count': 55, 'created_at': 'Wed Jan 21 02:05:35 +0000 2015'}\n",
      "{'name': 'ACM SIGIR ICTIR', 'screen_name': 'acm_ictir', 'location': '', 'followers_count': 439, 'friends_count': 327, 'statuses_count': 39, 'created_at': 'Wed Oct 18 17:18:02 +0000 2017'}\n",
      "{'name': 'Emran Hossain', 'screen_name': 'emranrian55', 'location': 'Bangladesh', 'followers_count': 25, 'friends_count': 858, 'statuses_count': 132, 'created_at': 'Mon Jan 08 14:42:46 +0000 2018'}\n",
      "{'name': 'Ida Mele', 'screen_name': 'ida_mele', 'location': '', 'followers_count': 162, 'friends_count': 143, 'statuses_count': 357, 'created_at': 'Tue Jun 18 12:09:19 +0000 2013'}\n",
      "{'name': 'EvALL', 'screen_name': 'EvALL_TEAM', 'location': 'Madrid, Spain', 'followers_count': 158, 'friends_count': 447, 'statuses_count': 401, 'created_at': 'Thu Oct 26 20:36:05 +0000 2017'}\n",
      "{'name': 'Lisa Smith', 'screen_name': 'heartedlisa30', 'location': 'Stati Uniti', 'followers_count': 24, 'friends_count': 805, 'statuses_count': 61, 'created_at': 'Thu Jul 27 03:29:37 +0000 2017'}\n",
      "{'name': 'Ali Bahrainian', 'screen_name': 'ABH878', 'location': '', 'followers_count': 134, 'friends_count': 341, 'statuses_count': 71, 'created_at': 'Sun Jun 02 18:30:27 +0000 2013'}\n",
      "{'name': 'essir2017', 'screen_name': 'essir2017', 'location': 'Barcellona, Spagna', 'followers_count': 212, 'friends_count': 881, 'statuses_count': 84, 'created_at': 'Mon Dec 19 17:05:09 +0000 2016'}\n",
      "{'name': 'Franco Maria Nardini', 'screen_name': 'fmnardini', 'location': 'Montecatini-Terme, Toscana', 'followers_count': 404, 'friends_count': 1004, 'statuses_count': 333, 'created_at': 'Mon Mar 22 23:51:50 +0000 2010'}\n",
      "{'name': 'Md Zia Ullah', 'screen_name': 'zuacsea', 'location': 'Toulouse, France', 'followers_count': 283, 'friends_count': 776, 'statuses_count': 2238, 'created_at': 'Sun Nov 06 14:40:51 +0000 2011'}\n",
      "{'name': 'Josiane Mothe', 'screen_name': 'JosianeMotheFr', 'location': 'Tolosa, Francia', 'followers_count': 137, 'friends_count': 93, 'statuses_count': 82, 'created_at': 'Sat Jan 30 08:55:43 +0000 2016'}\n",
      "{'name': 'RankSys', 'screen_name': 'RankSys', 'location': '', 'followers_count': 158, 'friends_count': 129, 'statuses_count': 37, 'created_at': 'Wed Dec 10 00:39:02 +0000 2014'}\n",
      "{'name': 'ACM SIGIR', 'screen_name': 'ACMSIGIR', 'location': '', 'followers_count': 1348, 'friends_count': 841, 'statuses_count': 91, 'created_at': 'Tue Nov 12 15:15:43 +0000 2013'}\n",
      "25\n"
     ]
    }
   ],
   "source": [
    "i = 0\n",
    "for ids in id_nodi_revisionati:\n",
    "    for node in nodes[ids]:\n",
    "        i= i+1\n",
    "        print(node)\n",
    "        \n",
    "print(i)"
   ]
  },
  {
   "cell_type": "code",
   "execution_count": 49,
   "metadata": {},
   "outputs": [
    {
     "name": "stdout",
     "output_type": "stream",
     "text": [
      "{'name': 'ἀν-ἀρχή', 'screen_name': 'ColoursRiot', 'location': '', 'followers_count': 26, 'friends_count': 145, 'statuses_count': 874, 'created_at': 'Mon Aug 06 11:26:07 +0000 2012'}\n",
      "{'name': 'Christian Abbondo', 'screen_name': 'ChriShot90', 'location': '', 'followers_count': 46, 'friends_count': 226, 'statuses_count': 202, 'created_at': 'Sat Oct 19 18:02:28 +0000 2013'}\n",
      "{'name': 'Dung Doan', 'screen_name': 'dungdx34', 'location': 'Hanoi University of Technology', 'followers_count': 120, 'friends_count': 3937, 'statuses_count': 1, 'created_at': 'Fri Feb 25 23:56:08 +0000 2011'}\n",
      "{'name': 'Flavio Martins', 'screen_name': 'flaviomartins', 'location': 'Lisbon, Portugal', 'followers_count': 606, 'friends_count': 578, 'statuses_count': 1396, 'created_at': 'Mon Apr 16 16:14:43 +0000 2007'}\n",
      "{'name': 'Robert Monarch', 'screen_name': 'WWRob', 'location': 'San Francisco', 'followers_count': 4418, 'friends_count': 2990, 'statuses_count': 3343, 'created_at': 'Tue Feb 23 22:47:08 +0000 2010'}\n",
      "{'name': 'Jorge Carrillo-de-A.', 'screen_name': 'JCAlbornozC', 'location': '', 'followers_count': 50, 'friends_count': 90, 'statuses_count': 72, 'created_at': 'Thu Apr 12 13:42:57 +0000 2012'}\n",
      "{'name': 'Frank T. Hopfgartner', 'screen_name': 'FTHopf', 'location': 'Sheffield', 'followers_count': 832, 'friends_count': 615, 'statuses_count': 1318, 'created_at': 'Sun Nov 22 01:41:50 +0000 2009'}\n",
      "{'name': 'Luke Gallagher', 'screen_name': 'lgr3d', 'location': 'Australia', 'followers_count': 77, 'friends_count': 365, 'statuses_count': 1015, 'created_at': 'Sat Dec 05 05:24:54 +0000 2009'}\n",
      "{'name': 'Antonio Mallia', 'screen_name': 'antonio_mallia', 'location': 'New York, USA', 'followers_count': 952, 'friends_count': 2165, 'statuses_count': 51287, 'created_at': 'Sun Mar 04 19:22:28 +0000 2012'}\n",
      "{'name': \"NewsIR Workshop '19\", 'screen_name': 'NewsIR_Workshop', 'location': 'Parigi, Francia', 'followers_count': 105, 'friends_count': 219, 'statuses_count': 25, 'created_at': 'Mon Nov 09 12:20:28 +0000 2015'}\n",
      "{'name': 'Alberto Purpura', 'screen_name': 'alb_purpura', 'location': '', 'followers_count': 59, 'friends_count': 566, 'statuses_count': 12, 'created_at': 'Sat Nov 14 17:48:11 +0000 2015'}\n",
      "{'name': 'J. Shane Culpepper', 'screen_name': 'sculpepper', 'location': 'Australia', 'followers_count': 343, 'friends_count': 290, 'statuses_count': 447, 'created_at': 'Sun Apr 20 12:01:41 +0000 2008'}\n",
      "{'name': 'NTCIR STC', 'screen_name': 'ntcirstc', 'location': '', 'followers_count': 107, 'friends_count': 108, 'statuses_count': 55, 'created_at': 'Wed Jan 21 02:05:35 +0000 2015'}\n",
      "{'name': 'ACM SIGIR ICTIR', 'screen_name': 'acm_ictir', 'location': '', 'followers_count': 439, 'friends_count': 327, 'statuses_count': 39, 'created_at': 'Wed Oct 18 17:18:02 +0000 2017'}\n",
      "{'name': 'Emran Hossain', 'screen_name': 'emranrian55', 'location': 'Bangladesh', 'followers_count': 25, 'friends_count': 858, 'statuses_count': 132, 'created_at': 'Mon Jan 08 14:42:46 +0000 2018'}\n",
      "{'name': 'Ida Mele', 'screen_name': 'ida_mele', 'location': '', 'followers_count': 162, 'friends_count': 143, 'statuses_count': 357, 'created_at': 'Tue Jun 18 12:09:19 +0000 2013'}\n",
      "{'name': 'EvALL', 'screen_name': 'EvALL_TEAM', 'location': 'Madrid, Spain', 'followers_count': 158, 'friends_count': 447, 'statuses_count': 401, 'created_at': 'Thu Oct 26 20:36:05 +0000 2017'}\n",
      "{'name': 'Lisa Smith', 'screen_name': 'heartedlisa30', 'location': 'Stati Uniti', 'followers_count': 24, 'friends_count': 805, 'statuses_count': 61, 'created_at': 'Thu Jul 27 03:29:37 +0000 2017'}\n",
      "{'name': 'Ali Bahrainian', 'screen_name': 'ABH878', 'location': '', 'followers_count': 134, 'friends_count': 341, 'statuses_count': 71, 'created_at': 'Sun Jun 02 18:30:27 +0000 2013'}\n",
      "{'name': 'essir2017', 'screen_name': 'essir2017', 'location': 'Barcellona, Spagna', 'followers_count': 212, 'friends_count': 881, 'statuses_count': 84, 'created_at': 'Mon Dec 19 17:05:09 +0000 2016'}\n",
      "{'name': 'Franco Maria Nardini', 'screen_name': 'fmnardini', 'location': 'Montecatini-Terme, Toscana', 'followers_count': 404, 'friends_count': 1004, 'statuses_count': 333, 'created_at': 'Mon Mar 22 23:51:50 +0000 2010'}\n",
      "{'name': 'Md Zia Ullah', 'screen_name': 'zuacsea', 'location': 'Toulouse, France', 'followers_count': 283, 'friends_count': 776, 'statuses_count': 2238, 'created_at': 'Sun Nov 06 14:40:51 +0000 2011'}\n",
      "{'name': 'Josiane Mothe', 'screen_name': 'JosianeMotheFr', 'location': 'Tolosa, Francia', 'followers_count': 137, 'friends_count': 93, 'statuses_count': 82, 'created_at': 'Sat Jan 30 08:55:43 +0000 2016'}\n",
      "{'name': 'RankSys', 'screen_name': 'RankSys', 'location': '', 'followers_count': 158, 'friends_count': 129, 'statuses_count': 37, 'created_at': 'Wed Dec 10 00:39:02 +0000 2014'}\n",
      "{'name': 'ACM SIGIR', 'screen_name': 'ACMSIGIR', 'location': '', 'followers_count': 1348, 'friends_count': 841, 'statuses_count': 91, 'created_at': 'Tue Nov 12 15:15:43 +0000 2013'}\n"
     ]
    }
   ],
   "source": [
    "#5. Creazione del grafo\n",
    "#Aggiunta dei nodi al grafo\n",
    "#print(friendships)\n",
    "twitter_graph = nx.DiGraph(team=\"Loris Parata 144338, Francesco Arzon 142439, Lorenzo Dal Fabbro, Matteo Galvan\")#non dobbiamo aggiungerci con tutte i parametri degli altri nodi?\n",
    "for ids in id_nodi_revisionati:\n",
    "    for node in nodes[ids]:\n",
    "        print(node)\n",
    "        twitter_graph.add_node(ids,\n",
    "                            id= ids,\n",
    "                            title= node[\"name\"],\n",
    "                            color =\"#ffff00\",\n",
    "                            physics=False,#rende la visualizzazone del grafo più leggera\n",
    "                            name=node['name'],\n",
    "                            screen_name=node['screen_name'],\n",
    "                            location=node['location'],\n",
    "                            followers_count=node[\"followers_count\"],\n",
    "                            following_count=node[\"friends_count\"],\n",
    "                            number_of_twitts=node[\"statuses_count\"],\n",
    "                            data_creazione_profilo=node[\"created_at\"]\n",
    "                            )            \n",
    "\n",
    "#Aggiunta collegamenti al grafo\n",
    "for relation in friendships:\n",
    "    if(relation[\"type\"]==\"following\"):\n",
    "        print(\"arco aggiunto\")\n",
    "        twitter_graph.add_edge(relation[\"source\"],relation[\"target\"])\n",
    "        \n",
    "        \n",
    "disegna_grafo(twitter_graph)"
   ]
  },
  {
   "cell_type": "code",
   "execution_count": 22,
   "metadata": {
    "collapsed": true,
    "jupyter": {
     "outputs_hidden": true
    }
   },
   "outputs": [],
   "source": [
    "#6 Creazione grafo interattivo con pyvis\n",
    "\n",
    "def disegna_grafo(grafo):\n",
    "    nt = Network(\n",
    "        height =\"50%\",\n",
    "        width = \"50%\",\n",
    "        bgcolor=\"#222222\",\n",
    "        font_color=\"white\",\n",
    "        heading= grafo,\n",
    "        directed=True,\n",
    "    )\n",
    "\n",
    "    nt.from_nx(grafo)\n",
    "    nt.barnes_hut()\n",
    "  # nt.set_edge_smooth(\"continuous\") #cambia formato di visualizzazione degli archi\n",
    "    neighbor_map = nt.get_adj_list()\n",
    "    \n",
    "    for node in nt.nodes:\n",
    "            node[\"value\"] = len(neighbor_map[node[\"id\"]])\n",
    "           # print(str(node[\"id\"])+\":\"+ str(node[\"value\"]))\n",
    "         \n",
    "    nt.show(\"grafo.html\")\n"
   ]
  },
  {
   "cell_type": "code",
   "execution_count": null,
   "metadata": {
    "collapsed": true,
    "jupyter": {
     "outputs_hidden": true
    }
   },
   "outputs": [],
   "source": [
    "#Main\n",
    "\n",
    "#Array usernames dei nodi principali\n",
    "usernames=[\"miccighel_\",\"mizzaro\",\"damiano10\",\"eglu81\",\"KevinRoitero\"]\n",
    "df_users= users_dfs(usernames)\n",
    "#Creazione del grafo\n",
    "twitter_graph=following_graph(df_users)\n",
    "#print(fg.nodes().data())\n",
    "twitter_graph.number_of_edges()\n",
    "#disegna_grafo(following_graph(df.loc[df['id'] == 1527461]))\n",
    "#disegna_grafo(fg)"
   ]
  },
  {
   "cell_type": "code",
   "execution_count": null,
   "metadata": {
    "collapsed": true,
    "jupyter": {
     "outputs_hidden": true
    }
   },
   "outputs": [],
   "source": [
    "#7 Proprietà del grafo\n",
    "undirected_twitter_graph= nx.to_undirected(twitter_graph)\n",
    "\n",
    "if nx.is_connected(undirected_twitter_graph):\n",
    "    print(\"Il grafo è connesso.\")\n",
    "else:\n",
    "    print(\"Il grafo non è connesso.\")\n",
    "    \n",
    "if nx.is_bipartite(undirected_twitter_graph):\n",
    "    print(\"Il grafo è bipartito.\")\n",
    "else:\n",
    "    print(\"Il grafo non è bipartito.\")"
   ]
  },
  {
   "cell_type": "code",
   "execution_count": null,
   "metadata": {
    "collapsed": true,
    "jupyter": {
     "outputs_hidden": true
    }
   },
   "outputs": [],
   "source": [
    "#8 Distanze sul grafo\n",
    "centro = nx.center(twitter_graph)\n",
    "print(centro)\n",
    "diametro = nx.diameter(twitter_graph)\n",
    "print(diametro)\n",
    "raggio = nx.radius(twitter_graph)\n",
    "print(raggio)"
   ]
  },
  {
   "cell_type": "code",
   "execution_count": null,
   "metadata": {
    "collapsed": true,
    "jupyter": {
     "outputs_hidden": true
    }
   },
   "outputs": [],
   "source": [
    "#9 Misure di centralità sul grafo\n",
    "btw_centrality = nx.betweenness_centrality(twitter_graph)\n",
    "print(btw_centrality)\n",
    "cls_centrality = nx.closeness_centrality(twitter_graph)\n",
    "print(cls_centralitu)\n",
    "dg_centrality = nx.degree_centrality(twitter_graph)\n",
    "print(dg_centrality)\n",
    "\n",
    "in_centrality= nx.in_degree_centrality(twitter_graph)\n",
    "print(in_centrality)\n",
    "out_centrality= nx.out_degree_centrality(twitter_graph)\n",
    "print(out_centrality)\n",
    "#valori di centralità\n",
    "undirect_centralities=[btw_centrality,cls_centrality,dg_centrality]\n",
    "direct_centralities=[in_centrality,out_centrality]\n",
    "\n",
    "pagerank= nx.pagerank(twitter_graph)\n",
    "pagerank=sorted(pagerank.items(),key=lambda x:x[1],reverse=True)\n",
    "centralities= [btw_centrality,cls_centrality,dg_centrality,in_centrality,out_centrality]\n",
    "print(pagerank[:5])\n",
    "\n",
    "hits= nx.hits(twitter_graph)\n",
    "hits_hubs=hits[0]\n",
    "hits_hub= sorted(hits_hubs.items(),key=lambda x:x[1],reverse=True)\n",
    "print(hits_hub[:5])\n",
    "hits_authorities=hits[1]\n",
    "hits_authorities=sorted(hits_authorities.items(),key=lambda x:x[1],reverse=True)\n",
    "print(hits_authorities[:5])"
   ]
  },
  {
   "cell_type": "code",
   "execution_count": null,
   "metadata": {
    "collapsed": true,
    "jupyter": {
     "outputs_hidden": true
    }
   },
   "outputs": [],
   "source": [
    "#Sottografo del nodo damiano10\n",
    "sub_graph_damiano10 = nx.ego_graph(twitter_graph, \"damiano10\")\n",
    "disegna_grafo(sub_graph_damiano10)\n",
    "print(help(nx.clique))\n",
    "clique.max_clique(sub_graph_damiano10)\n",
    "print(nx.large_clique_size(sub_graph_damiano10))"
   ]
  },
  {
   "cell_type": "code",
   "execution_count": null,
   "metadata": {
    "collapsed": true,
    "jupyter": {
     "outputs_hidden": true
    }
   },
   "outputs": [],
   "source": [
    "#11 copertua minima degli archi\n",
    "nx.min_edge_cover(twitter_graph)\n",
    "\n",
    "#12 Small-world-ness\n",
    "nx.omega(twitter_graph)\n",
    "nx.sigma(twitter_graph)"
   ]
  },
  {
   "cell_type": "code",
   "execution_count": null,
   "metadata": {
    "collapsed": true,
    "jupyter": {
     "outputs_hidden": true
    }
   },
   "outputs": [],
   "source": [
    "#13 Correlazione di Pearson e di Kendall\n",
    "\n",
    "columns=[\"name\",\"value\"]\n",
    "centralita_df = pd.DataFrame(columns=columns)\n",
    "rows = [[\"btw_centrality\",btw_centrality],[\"cls_centrality\",cls_centrality],[\"dg_centrality\",dg_centrality],[\"in_centrality\",in_centrality],[\"out_centrality\",out_centrality]]\n",
    "#Creazione df contenente tipologia_misura : valore\n",
    "for row in rows:\n",
    "    centralita_df.loc[len(centralita_df)] = row\n",
    "#print(centralita_df)\n",
    "\n",
    "#Creazione df contenente  tipologia_misura_1 , tipologia_misura_2, valore_correlazione_1 , valore_correlazione_2\n",
    "columns=[\"name_1\",\"name_2\",\"pearson\", \"kendall\"]\n",
    "result= pd.DataFrame(columns=columns)\n",
    "\n",
    "for index, param_1 in centralita_df.iterrows():\n",
    "    for index, param_2 in centralita_df.iterrows():\n",
    "        if(param_1[\"name\"] != param_2[\"name\"]):\n",
    "            name_1= param_1[\"name\"]\n",
    "            name_2= param_2[\"name\"]\n",
    "            array_1= np.array(list(param_1[\"value\"].values()), dtype=float)\n",
    "            array_2= np.array(list(param_2[\"value\"].values()), dtype=float)\n",
    "            pearson= stats.pearsonr(array_1,array_2)\n",
    "            kendall= stats.kendalltau(array_1,array_2)\n",
    "            new_row = {\n",
    "            'name_1': name_1,\n",
    "            'name_2': name_2,\n",
    "            'pearson': pearson,\n",
    "            'kendall': kendall\n",
    "                }\n",
    "            result = result.append(new_row, ignore_index=True)\n",
    "\n",
    "print(result)"
   ]
  }
 ],
 "metadata": {
  "kernelspec": {
   "display_name": "Python 3",
   "language": "python",
   "name": "python3"
  },
  "language_info": {
   "codemirror_mode": {
    "name": "ipython",
    "version": 3
   },
   "file_extension": ".py",
   "mimetype": "text/x-python",
   "name": "python",
   "nbconvert_exporter": "python",
   "pygments_lexer": "ipython3",
   "version": "3.8.5"
  }
 },
 "nbformat": 4,
 "nbformat_minor": 4
}
